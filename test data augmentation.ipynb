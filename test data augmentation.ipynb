{
 "cells": [
  {
   "cell_type": "code",
   "execution_count": 6,
   "metadata": {
    "ExecuteTime": {
     "end_time": "2021-05-19T03:24:43.291913Z",
     "start_time": "2021-05-19T03:24:42.947720Z"
    }
   },
   "outputs": [],
   "source": [
    "import json\n",
    "import os\n",
    "import numpy as np\n",
    "import pandas as pd"
   ]
  },
  {
   "cell_type": "code",
   "execution_count": 2,
   "metadata": {
    "ExecuteTime": {
     "end_time": "2021-05-19T03:21:47.389278Z",
     "start_time": "2021-05-19T03:21:47.384475Z"
    }
   },
   "outputs": [],
   "source": [
    "testslide = np.load('testslide.npy')"
   ]
  },
  {
   "cell_type": "code",
   "execution_count": 3,
   "metadata": {
    "ExecuteTime": {
     "end_time": "2021-05-19T03:21:53.223188Z",
     "start_time": "2021-05-19T03:21:53.209218Z"
    }
   },
   "outputs": [
    {
     "data": {
      "text/plain": [
       "16"
      ]
     },
     "execution_count": 3,
     "metadata": {},
     "output_type": "execute_result"
    }
   ],
   "source": [
    "len(testslide)"
   ]
  },
  {
   "cell_type": "code",
   "execution_count": 5,
   "metadata": {
    "ExecuteTime": {
     "end_time": "2021-05-19T03:22:58.709875Z",
     "start_time": "2021-05-19T03:22:58.696943Z"
    }
   },
   "outputs": [],
   "source": [
    "slist = np.load('fin.npy')\n",
    "with open('dataconfig/rateall.json','r') as f:\n",
    "    cf = json.load(f)\n",
    "slidelist1 = []\n",
    "for slide in slist:\n",
    "    if slide in cf:\n",
    "        slidelist1.append(slide)"
   ]
  },
  {
   "cell_type": "code",
   "execution_count": 7,
   "metadata": {
    "ExecuteTime": {
     "end_time": "2021-05-19T03:25:10.411656Z",
     "start_time": "2021-05-19T03:25:10.400858Z"
    }
   },
   "outputs": [],
   "source": [
    "report = pd.read_csv('report.csv')"
   ]
  },
  {
   "cell_type": "code",
   "execution_count": 12,
   "metadata": {
    "ExecuteTime": {
     "end_time": "2021-05-19T03:35:27.737782Z",
     "start_time": "2021-05-19T03:35:27.734443Z"
    }
   },
   "outputs": [],
   "source": [
    "reportslide = report['pid'].values"
   ]
  },
  {
   "cell_type": "code",
   "execution_count": 13,
   "metadata": {
    "ExecuteTime": {
     "end_time": "2021-05-19T03:35:36.024907Z",
     "start_time": "2021-05-19T03:35:36.018732Z"
    },
    "scrolled": true
   },
   "outputs": [
    {
     "data": {
      "text/plain": [
       "array(['16-047997', '16-053372', '16-054780', '17-000859', '17-000928',\n",
       "       '17-000929', '17-002790', '17-003466', '17-004215', '17-005871',\n",
       "       '17-007404', '17-007406', '17-008136', '17-009455', '17-009835',\n",
       "       '17-011378', '17-017094', '17-018517', '17-019847', '17-025850',\n",
       "       '17-027733', '17-027841', '17-030162', '17-032799', '17-033628',\n",
       "       '17-033924', '17-034786', '17-043414', '17-044123', '17-046476',\n",
       "       '17-047679', '17-048080', '17-048144', '17-049803', '18-01311',\n",
       "       '18-01495', '18-02150', '18-16543', '18-16960', '18-19240',\n",
       "       '18-20201', '18-20928', '18-22818', '201402272', '201404939',\n",
       "       '201405308', '201409699', '201410346', '201412930', '201413745',\n",
       "       '201415554', '201415635', '201415640', '201419207', '201422924',\n",
       "       '201424189', '201425959', '201426149', '201426407', '201426997',\n",
       "       '201430337', '201431616', '201433799', '201434013', '201434539',\n",
       "       '201434822', '201435884', '201435885', '201436170', '201436453',\n",
       "       '201436749', '201437378', '201437427', '201437429', '201438360',\n",
       "       '201439203', '201439600', '201439629', '201440427', '201440763',\n",
       "       '201530023', '201600623', '201600666', '201600885', '201601564',\n",
       "       '201601684', '201601986', '201602454', '201602683', '201603238',\n",
       "       '201603916', '201604045', '201604335', '201605479', '201605479',\n",
       "       '201608537', '201609207', '201609810', '201609810', '201609810',\n",
       "       '201610196', '201612290', '201612916', '201613035', '201613577',\n",
       "       '201614105', '201614105', '201614266', '201624304', '201624414',\n",
       "       '201624650', '201625946', '201629628', '201629755', '201629831',\n",
       "       '201630101', '201630452'], dtype=object)"
      ]
     },
     "execution_count": 13,
     "metadata": {},
     "output_type": "execute_result"
    }
   ],
   "source": [
    "reportslide"
   ]
  },
  {
   "cell_type": "code",
   "execution_count": 16,
   "metadata": {
    "ExecuteTime": {
     "end_time": "2021-05-19T03:42:23.847852Z",
     "start_time": "2021-05-19T03:42:23.843356Z"
    }
   },
   "outputs": [],
   "source": [
    "## 去掉切片索引\n",
    "train = []\n",
    "for slide in slidelist1:\n",
    "    pid = slide.split('-')[0]\n",
    "    train.append(pid)"
   ]
  },
  {
   "cell_type": "code",
   "execution_count": 21,
   "metadata": {
    "ExecuteTime": {
     "end_time": "2021-05-19T03:44:34.976707Z",
     "start_time": "2021-05-19T03:44:34.972342Z"
    }
   },
   "outputs": [],
   "source": [
    "reportslide_test = []\n",
    "for pid in reportslide:\n",
    "    if pid not in train:\n",
    "        reportslide_test.append(pid)"
   ]
  },
  {
   "cell_type": "code",
   "execution_count": 24,
   "metadata": {
    "ExecuteTime": {
     "end_time": "2021-05-19T03:44:56.345718Z",
     "start_time": "2021-05-19T03:44:56.341526Z"
    }
   },
   "outputs": [
    {
     "data": {
      "text/plain": [
       "77"
      ]
     },
     "execution_count": 24,
     "metadata": {},
     "output_type": "execute_result"
    }
   ],
   "source": [
    "len(reportslide_test)"
   ]
  },
  {
   "cell_type": "code",
   "execution_count": 33,
   "metadata": {
    "ExecuteTime": {
     "end_time": "2021-05-19T03:53:01.573316Z",
     "start_time": "2021-05-19T03:53:01.520200Z"
    }
   },
   "outputs": [],
   "source": [
    "ORIPATH = '/data/images/pathology/temp/Qingdao'\n",
    "\n",
    "dirs = os.listdir(ORIPATH)\n",
    "data = []\n",
    "for path in dirs:\n",
    "    if os.path.isdir(os.path.join(ORIPATH,path)):\n",
    "        xmlpath = os.path.join(ORIPATH,path,path+'_tumor.xml')\n",
    "        #print(xmlpath)\n",
    "        if not os.path.exists(xmlpath):\n",
    "            wsipath = os.path.join(ORIPATH,path)\n",
    "            data.append(wsipath)"
   ]
  },
  {
   "cell_type": "code",
   "execution_count": 35,
   "metadata": {
    "ExecuteTime": {
     "end_time": "2021-05-19T03:55:13.379134Z",
     "start_time": "2021-05-19T03:55:13.375218Z"
    }
   },
   "outputs": [
    {
     "data": {
      "text/plain": [
       "962"
      ]
     },
     "execution_count": 35,
     "metadata": {},
     "output_type": "execute_result"
    }
   ],
   "source": [
    "len(data)"
   ]
  },
  {
   "cell_type": "code",
   "execution_count": 39,
   "metadata": {
    "ExecuteTime": {
     "end_time": "2021-05-19T04:01:09.169188Z",
     "start_time": "2021-05-19T04:01:09.152648Z"
    }
   },
   "outputs": [
    {
     "data": {
      "text/plain": [
       "['/data/images/pathology/temp/Qingdao/201603238-4',\n",
       " '/data/images/pathology/temp/Qingdao/201617223-4',\n",
       " '/data/images/pathology/temp/Qingdao/17-043300-1',\n",
       " '/data/images/pathology/temp/Qingdao/201709455-2',\n",
       " '/data/images/pathology/temp/Qingdao/17032878',\n",
       " '/data/images/pathology/temp/Qingdao/201641382-1',\n",
       " '/data/images/pathology/temp/Qingdao/201619721-3',\n",
       " '/data/images/pathology/temp/Qingdao/201527713-4',\n",
       " '/data/images/pathology/temp/Qingdao/201703466-4',\n",
       " '/data/images/pathology/temp/Qingdao/201654780-4',\n",
       " '/data/images/pathology/temp/Qingdao/17-033628-1',\n",
       " '/data/images/pathology/temp/Qingdao/201542689-4',\n",
       " '/data/images/pathology/temp/Qingdao/201653599-7',\n",
       " '/data/images/pathology/temp/Qingdao/201654145-4',\n",
       " '/data/images/pathology/temp/Qingdao/201648001-1',\n",
       " '/data/images/pathology/temp/Qingdao/201548565-3',\n",
       " '/data/images/pathology/temp/Qingdao/201714476-2',\n",
       " '/data/images/pathology/temp/Qingdao/201541961-3',\n",
       " '/data/images/pathology/temp/Qingdao/201614987-3',\n",
       " '/data/images/pathology/temp/Qingdao/201439600-4',\n",
       " '/data/images/pathology/temp/Qingdao/201624414-4',\n",
       " '/data/images/pathology/temp/Qingdao/201405308-2',\n",
       " '/data/images/pathology/temp/Qingdao/201607865-3',\n",
       " '/data/images/pathology/temp/Qingdao/201530023-5',\n",
       " '/data/images/pathology/temp/Qingdao/201601564-3',\n",
       " '/data/images/pathology/temp/Qingdao/201549028-3',\n",
       " '/data/images/pathology/temp/Qingdao/201638781-1',\n",
       " '/data/images/pathology/temp/Qingdao/201628260-1',\n",
       " '/data/images/pathology/temp/Qingdao/201618847-1',\n",
       " '/data/images/pathology/temp/Qingdao/201626852-2',\n",
       " '/data/images/pathology/temp/Qingdao/201621563-1',\n",
       " '/data/images/pathology/temp/Qingdao/201705871-1',\n",
       " '/data/images/pathology/temp/Qingdao/1816543',\n",
       " '/data/images/pathology/temp/Qingdao/201600666-1',\n",
       " '/data/images/pathology/temp/Qingdao/201438992-5',\n",
       " '/data/images/pathology/temp/Qingdao/201624650-3',\n",
       " '/data/images/pathology/temp/Qingdao/201613577-2',\n",
       " '/data/images/pathology/temp/Qingdao/201647273-1',\n",
       " '/data/images/pathology/temp/Qingdao/201529102-2',\n",
       " '/data/images/pathology/temp/Qingdao/201521670-2',\n",
       " '/data/images/pathology/temp/Qingdao/201409699-1',\n",
       " '/data/images/pathology/temp/Qingdao/201546024-3',\n",
       " '/data/images/pathology/temp/Qingdao/201653086-3',\n",
       " '/data/images/pathology/temp/Qingdao/201605479-1',\n",
       " '/data/images/pathology/temp/Qingdao/201633255-2',\n",
       " '/data/images/pathology/temp/Qingdao/201424189-1',\n",
       " '/data/images/pathology/temp/Qingdao/18-32442',\n",
       " '/data/images/pathology/temp/Qingdao/201623220-3',\n",
       " '/data/images/pathology/temp/Qingdao/201613035-3',\n",
       " '/data/images/pathology/temp/Qingdao/201725850-2',\n",
       " '/data/images/pathology/temp/Qingdao/201608258-1',\n",
       " '/data/images/pathology/temp/Qingdao/17046950',\n",
       " '/data/images/pathology/temp/Qingdao/17-034306-4',\n",
       " '/data/images/pathology/temp/Qingdao/201437429-3',\n",
       " '/data/images/pathology/temp/Qingdao/201711378-4',\n",
       " '/data/images/pathology/temp/Qingdao/201726062-3',\n",
       " '/data/images/pathology/temp/Qingdao/201651058-2',\n",
       " '/data/images/pathology/temp/Qingdao/201530879-2',\n",
       " '/data/images/pathology/temp/Qingdao/201636674-4',\n",
       " '/data/images/pathology/temp/Qingdao/201547794-2',\n",
       " '/data/images/pathology/temp/Qingdao/201402510-4',\n",
       " '/data/images/pathology/temp/Qingdao/201548827-1',\n",
       " '/data/images/pathology/temp/Qingdao/201434822-4',\n",
       " '/data/images/pathology/temp/Qingdao/201647997-3',\n",
       " '/data/images/pathology/temp/Qingdao/201619189-1',\n",
       " '/data/images/pathology/temp/Qingdao/201426149-2',\n",
       " '/data/images/pathology/temp/Qingdao/201723437-4',\n",
       " '/data/images/pathology/temp/Qingdao/18-39668',\n",
       " '/data/images/pathology/temp/Qingdao/17-043414-3',\n",
       " '/data/images/pathology/temp/Qingdao/201653637-2',\n",
       " '/data/images/pathology/temp/Qingdao/201653857-1',\n",
       " '/data/images/pathology/temp/Qingdao/201615697-4',\n",
       " '/data/images/pathology/temp/Qingdao/201636925-4',\n",
       " '/data/images/pathology/temp/Qingdao/201629831-4',\n",
       " '/data/images/pathology/temp/Qingdao/201903132-1',\n",
       " '/data/images/pathology/temp/Qingdao/201542169-5',\n",
       " '/data/images/pathology/temp/Qingdao/201524586-3',\n",
       " '/data/images/pathology/temp/Qingdao/1822818',\n",
       " '/data/images/pathology/temp/Qingdao/201415635-2',\n",
       " '/data/images/pathology/temp/Qingdao/201625946-2',\n",
       " '/data/images/pathology/temp/Qingdao/201614266-4',\n",
       " '/data/images/pathology/temp/Qingdao/201642947-1',\n",
       " '/data/images/pathology/temp/Qingdao/z73',\n",
       " '/data/images/pathology/temp/Qingdao/201717094-4',\n",
       " '/data/images/pathology/temp/Qingdao/201627065-3',\n",
       " '/data/images/pathology/temp/Qingdao/201721018-1',\n",
       " '/data/images/pathology/temp/Qingdao/201404699-2',\n",
       " '/data/images/pathology/temp/Qingdao/201638727-2',\n",
       " '/data/images/pathology/temp/Qingdao/201438360-2',\n",
       " '/data/images/pathology/temp/Qingdao/201707404-3',\n",
       " '/data/images/pathology/temp/Qingdao/201724705-4',\n",
       " '/data/images/pathology/temp/Qingdao/201653372-2',\n",
       " '/data/images/pathology/temp/Qingdao/201402272-3',\n",
       " '/data/images/pathology/temp/Qingdao/201601799-2',\n",
       " '/data/images/pathology/temp/Qingdao/201435885-4',\n",
       " '/data/images/pathology/temp/Qingdao/201534109-1',\n",
       " '/data/images/pathology/temp/Qingdao/nuclei',\n",
       " '/data/images/pathology/temp/Qingdao/1819357',\n",
       " '/data/images/pathology/temp/Qingdao/201610071-4',\n",
       " '/data/images/pathology/temp/Qingdao/201548549-2',\n",
       " '/data/images/pathology/temp/Qingdao/17-046157-1',\n",
       " '/data/images/pathology/temp/Qingdao/201520046-4',\n",
       " '/data/images/pathology/temp/Qingdao/201616096-1',\n",
       " '/data/images/pathology/temp/Qingdao/201609207-4',\n",
       " '/data/images/pathology/temp/Qingdao/201622674-3',\n",
       " '/data/images/pathology/temp/Qingdao/201535785-2',\n",
       " '/data/images/pathology/temp/Qingdao/error_201721018-4',\n",
       " '/data/images/pathology/temp/Qingdao/17032799',\n",
       " '/data/images/pathology/temp/Qingdao/201404939-4',\n",
       " '/data/images/pathology/temp/Qingdao/201616018-1',\n",
       " '/data/images/pathology/temp/Qingdao/201642779-4',\n",
       " '/data/images/pathology/temp/Qingdao/201511498-2',\n",
       " '/data/images/pathology/temp/Qingdao/201524281-2',\n",
       " '/data/images/pathology/temp/Qingdao/201551149-4',\n",
       " '/data/images/pathology/temp/Qingdao/17-034786-4',\n",
       " '/data/images/pathology/temp/Qingdao/201516157-1',\n",
       " '/data/images/pathology/temp/Qingdao/201612916-3',\n",
       " '/data/images/pathology/temp/Qingdao/201727733-4',\n",
       " '/data/images/pathology/temp/Qingdao/201419207-4',\n",
       " '/data/images/pathology/temp/Qingdao/201624304-4',\n",
       " '/data/images/pathology/temp/Qingdao/201700928-1',\n",
       " '/data/images/pathology/temp/Qingdao/201550840-3',\n",
       " '/data/images/pathology/temp/Qingdao/201642779-3',\n",
       " '/data/images/pathology/temp/Qingdao/201404939-3',\n",
       " '/data/images/pathology/temp/Qingdao/201725009-1',\n",
       " '/data/images/pathology/temp/Qingdao/201714642-1',\n",
       " '/data/images/pathology/temp/Qingdao/17-034786-3',\n",
       " '/data/images/pathology/temp/Qingdao/201551149-3',\n",
       " '/data/images/pathology/temp/Qingdao/201727733-3',\n",
       " '/data/images/pathology/temp/Qingdao/201624304-3',\n",
       " '/data/images/pathology/temp/Qingdao/201644777-4',\n",
       " '/data/images/pathology/temp/Qingdao/201545203-2',\n",
       " '/data/images/pathology/temp/Qingdao/201724705-3',\n",
       " '/data/images/pathology/temp/Qingdao/201707404-4',\n",
       " '/data/images/pathology/temp/Qingdao/201543802-2',\n",
       " '/data/images/pathology/temp/Qingdao/201402272-4',\n",
       " '/data/images/pathology/temp/Qingdao/201435885-3',\n",
       " '/data/images/pathology/temp/Qingdao/201542684-2',\n",
       " '/data/images/pathology/temp/Qingdao/201545922-3',\n",
       " '/data/images/pathology/temp/Qingdao/201405664-1',\n",
       " '/data/images/pathology/temp/Qingdao/201610071-3',\n",
       " '/data/images/pathology/temp/Qingdao/201622674-4',\n",
       " '/data/images/pathology/temp/Qingdao/201409074-5',\n",
       " '/data/images/pathology/temp/Qingdao/201520046-3',\n",
       " '/data/images/pathology/temp/Qingdao/201619495-1',\n",
       " '/data/images/pathology/temp/Qingdao/201533996-3',\n",
       " '/data/images/pathology/temp/Qingdao/201615697-3',\n",
       " '/data/images/pathology/temp/Qingdao/201617712-2',\n",
       " '/data/images/pathology/temp/Qingdao/201653857-6',\n",
       " '/data/images/pathology/temp/Qingdao/201439203-2',\n",
       " '/data/images/pathology/temp/Qingdao/201629831-3',\n",
       " '/data/images/pathology/temp/Qingdao/201517106-1',\n",
       " '/data/images/pathology/temp/Qingdao/1820201',\n",
       " '/data/images/pathology/temp/Qingdao/201642313-2',\n",
       " '/data/images/pathology/temp/Qingdao/201524586-4',\n",
       " '/data/images/pathology/temp/Qingdao/201542169-2',\n",
       " '/data/images/pathology/temp/Qingdao/201413490-1',\n",
       " '/data/images/pathology/temp/Qingdao/z90',\n",
       " '/data/images/pathology/temp/Qingdao/17031764',\n",
       " '/data/images/pathology/temp/Qingdao/201602454-1',\n",
       " '/data/images/pathology/temp/Qingdao/nuclei_new',\n",
       " '/data/images/pathology/temp/Qingdao/201614266-3',\n",
       " '/data/images/pathology/temp/Qingdao/201641389-1',\n",
       " '/data/images/pathology/temp/Qingdao/18-20202',\n",
       " '/data/images/pathology/temp/Qingdao/201627065-4',\n",
       " '/data/images/pathology/temp/Qingdao/201717094-3',\n",
       " '/data/images/pathology/temp/Qingdao/201654719-2',\n",
       " '/data/images/pathology/temp/Qingdao/201428545-3',\n",
       " '/data/images/pathology/temp/Qingdao/201533047-2',\n",
       " '/data/images/pathology/temp/Qingdao/201622849-2',\n",
       " '/data/images/pathology/temp/Qingdao/201641121-1',\n",
       " '/data/images/pathology/temp/Qingdao/201711378-3',\n",
       " '/data/images/pathology/temp/Qingdao/201726062-4',\n",
       " '/data/images/pathology/temp/Qingdao/201437429-4',\n",
       " '/data/images/pathology/temp/Qingdao/201614380-7',\n",
       " '/data/images/pathology/temp/Qingdao/17-034306-3',\n",
       " '/data/images/pathology/temp/Qingdao/201636674-3',\n",
       " '/data/images/pathology/temp/Qingdao/201530879-5',\n",
       " '/data/images/pathology/temp/Qingdao/201434822-3',\n",
       " '/data/images/pathology/temp/Qingdao/201700859-1',\n",
       " '/data/images/pathology/temp/Qingdao/201436749-1',\n",
       " '/data/images/pathology/temp/Qingdao/201647997-4',\n",
       " '/data/images/pathology/temp/Qingdao/201622849',\n",
       " '/data/images/pathology/temp/Qingdao/201723437-3',\n",
       " '/data/images/pathology/temp/Qingdao/201426149-5',\n",
       " '/data/images/pathology/temp/Qingdao/18-37677',\n",
       " '/data/images/pathology/temp/Qingdao/17-043414-4',\n",
       " '/data/images/pathology/temp/Qingdao/201652511-2',\n",
       " '/data/images/pathology/temp/Qingdao/201617315-1',\n",
       " '/data/images/pathology/temp/Qingdao/201546024-4',\n",
       " '/data/images/pathology/temp/Qingdao/201653086-4',\n",
       " '/data/images/pathology/temp/Qingdao/17-033924-3',\n",
       " '/data/images/pathology/temp/Qingdao/201544539-1',\n",
       " '/data/images/pathology/temp/Qingdao/201539090-7',\n",
       " '/data/images/pathology/temp/Qingdao/1801495',\n",
       " '/data/images/pathology/temp/Qingdao/201623220-4',\n",
       " '/data/images/pathology/temp/Qingdao/201628259-2',\n",
       " '/data/images/pathology/temp/Qingdao/201632922-2',\n",
       " '/data/images/pathology/temp/Qingdao/201613035-4',\n",
       " '/data/images/pathology/temp/Qingdao/201548925-1',\n",
       " '/data/images/pathology/temp/Qingdao/201412930-2',\n",
       " '/data/images/pathology/temp/Qingdao/201426407-2',\n",
       " '/data/images/pathology/temp/Qingdao/17-044123-2',\n",
       " '/data/images/pathology/temp/Qingdao/201702790-2',\n",
       " '/data/images/pathology/temp/Qingdao/201436453-3',\n",
       " '/data/images/pathology/temp/Qingdao/201549805-1',\n",
       " '/data/images/pathology/temp/Qingdao/201612290-1',\n",
       " '/data/images/pathology/temp/Qingdao/201653955-1',\n",
       " '/data/images/pathology/temp/Qingdao/201704215-1',\n",
       " '/data/images/pathology/temp/Qingdao/16-47610',\n",
       " '/data/images/pathology/temp/Qingdao/201521653-1',\n",
       " '/data/images/pathology/temp/Qingdao/201543815-3',\n",
       " '/data/images/pathology/temp/Qingdao/17047679',\n",
       " '/data/images/pathology/temp/Qingdao/201614105-1',\n",
       " '/data/images/pathology/temp/Qingdao/201415640-3',\n",
       " '/data/images/pathology/temp/Qingdao/201545251-2',\n",
       " '/data/images/pathology/temp/Qingdao/201614987-4',\n",
       " '/data/images/pathology/temp/Qingdao/201541961-4',\n",
       " '/data/images/pathology/temp/Qingdao/201548565-4',\n",
       " '/data/images/pathology/temp/Qingdao/201624414-3',\n",
       " '/data/images/pathology/temp/Qingdao/201439600-3',\n",
       " '/data/images/pathology/temp/Qingdao/17030162',\n",
       " '/data/images/pathology/temp/Qingdao/201607865-4',\n",
       " '/data/images/pathology/temp/Qingdao/201643745-6',\n",
       " '/data/images/pathology/temp/Qingdao/201440763-1',\n",
       " '/data/images/pathology/temp/Qingdao/201650832-1',\n",
       " '/data/images/pathology/temp/Qingdao/201530023-8',\n",
       " '/data/images/pathology/temp/Qingdao/z83',\n",
       " '/data/images/pathology/temp/Qingdao/201422924-4',\n",
       " '/data/images/pathology/temp/Qingdao/19-02304',\n",
       " '/data/images/pathology/temp/Qingdao/201414398-4',\n",
       " '/data/images/pathology/temp/Qingdao/201617223-3',\n",
       " '/data/images/pathology/temp/Qingdao/201654032-2',\n",
       " '/data/images/pathology/temp/Qingdao/201625253-1',\n",
       " '/data/images/pathology/temp/Qingdao/201529099-3',\n",
       " '/data/images/pathology/temp/Qingdao/201431616-2',\n",
       " '/data/images/pathology/temp/Qingdao/201703466-3',\n",
       " '/data/images/pathology/temp/Qingdao/201552185-2',\n",
       " '/data/images/pathology/temp/Qingdao/201527713-3',\n",
       " '/data/images/pathology/temp/Qingdao/201654780-3',\n",
       " '/data/images/pathology/temp/Qingdao/201654145-3',\n",
       " '/data/images/pathology/temp/Qingdao/201619927-2',\n",
       " '/data/images/pathology/temp/Qingdao/201542689-3',\n",
       " '/data/images/pathology/temp/Qingdao/201625896-4',\n",
       " '/data/images/pathology/temp/Qingdao/201433766-3',\n",
       " '/data/images/pathology/temp/Qingdao/201434539-2',\n",
       " '/data/images/pathology/temp/Qingdao/201623352-4',\n",
       " '/data/images/pathology/temp/Qingdao/201652003-3',\n",
       " '/data/images/pathology/temp/Qingdao/201440763-5',\n",
       " '/data/images/pathology/temp/Qingdao/201523564-4',\n",
       " '/data/images/pathology/temp/Qingdao/18-58928',\n",
       " '/data/images/pathology/temp/Qingdao/201601684-3',\n",
       " '/data/images/pathology/temp/Qingdao/201437378-3',\n",
       " '/data/images/pathology/temp/Qingdao/17049803',\n",
       " '/data/images/pathology/temp/Qingdao/201714476-1',\n",
       " '/data/images/pathology/temp/Qingdao/201436170-2',\n",
       " '/data/images/pathology/temp/Qingdao/201648001-2',\n",
       " '/data/images/pathology/temp/Qingdao/17-034609-3',\n",
       " '/data/images/pathology/temp/Qingdao/201654780-7',\n",
       " '/data/images/pathology/temp/Qingdao/201726426-4',\n",
       " '/data/images/pathology/temp/Qingdao/201641382-2',\n",
       " '/data/images/pathology/temp/Qingdao/201511825-4',\n",
       " '/data/images/pathology/temp/Qingdao/201719847-3',\n",
       " '/data/images/pathology/temp/Qingdao/201709455-1',\n",
       " '/data/images/pathology/temp/Qingdao/17-043300-2',\n",
       " '/data/images/pathology/temp/Qingdao/201630452-2',\n",
       " '/data/images/pathology/temp/Qingdao/201608258-2',\n",
       " '/data/images/pathology/temp/Qingdao/201409699-8',\n",
       " '/data/images/pathology/temp/Qingdao/201653282-3',\n",
       " '/data/images/pathology/temp/Qingdao/201725850-1',\n",
       " '/data/images/pathology/temp/Qingdao/201425959-3',\n",
       " '/data/images/pathology/temp/Qingdao/201424189-2',\n",
       " '/data/images/pathology/temp/Qingdao/201415554-7',\n",
       " '/data/images/pathology/temp/Qingdao/201605479-2',\n",
       " '/data/images/pathology/temp/Qingdao/201633255-1',\n",
       " '/data/images/pathology/temp/Qingdao/201429108-4',\n",
       " '/data/images/pathology/temp/Qingdao/201628590-3',\n",
       " '/data/images/pathology/temp/Qingdao/201619685-4',\n",
       " '/data/images/pathology/temp/Qingdao/201600623-3',\n",
       " '/data/images/pathology/temp/Qingdao/201639564-3',\n",
       " '/data/images/pathology/temp/Qingdao/201418115-5',\n",
       " '/data/images/pathology/temp/Qingdao/201437427-2',\n",
       " '/data/images/pathology/temp/Qingdao/201651780-3',\n",
       " '/data/images/pathology/temp/Qingdao/201409699-2',\n",
       " '/data/images/pathology/temp/Qingdao/201709835-3',\n",
       " '/data/images/pathology/temp/Qingdao/201613577-1',\n",
       " '/data/images/pathology/temp/Qingdao/201647273-2',\n",
       " '/data/images/pathology/temp/Qingdao/201517097-3',\n",
       " '/data/images/pathology/temp/Qingdao/201529102-1',\n",
       " '/data/images/pathology/temp/Qingdao/201521670-1',\n",
       " '/data/images/pathology/temp/Qingdao/201551197-3',\n",
       " '/data/images/pathology/temp/Qingdao/z58c',\n",
       " '/data/images/pathology/temp/Qingdao/201627806-3',\n",
       " '/data/images/pathology/temp/Qingdao/1819240',\n",
       " '/data/images/pathology/temp/Qingdao/201524156-4',\n",
       " '/data/images/pathology/temp/Qingdao/201621563-2',\n",
       " '/data/images/pathology/temp/Qingdao/201705871-2',\n",
       " '/data/images/pathology/temp/Qingdao/201516196-3',\n",
       " '/data/images/pathology/temp/Qingdao/17019802',\n",
       " '/data/images/pathology/temp/Qingdao/201626852-1',\n",
       " '/data/images/pathology/temp/Qingdao/201649421-3',\n",
       " '/data/images/pathology/temp/Qingdao/201518219-4',\n",
       " '/data/images/pathology/temp/Qingdao/201427756-3',\n",
       " '/data/images/pathology/temp/Qingdao/201529541-4',\n",
       " '/data/images/pathology/temp/Qingdao/201721018-2',\n",
       " '/data/images/pathology/temp/Qingdao/17030532',\n",
       " '/data/images/pathology/temp/Qingdao/201601986-4',\n",
       " '/data/images/pathology/temp/Qingdao/201614743-4',\n",
       " '/data/images/pathology/temp/Qingdao/201404699-1',\n",
       " '/data/images/pathology/temp/Qingdao/201514091-4',\n",
       " '/data/images/pathology/temp/Qingdao/201642947-2',\n",
       " '/data/images/pathology/temp/Qingdao/201640942-2',\n",
       " '/data/images/pathology/temp/Qingdao/201415635-1',\n",
       " '/data/images/pathology/temp/Qingdao/201625946-1',\n",
       " '/data/images/pathology/temp/Qingdao/201630101-4',\n",
       " '/data/images/pathology/temp/Qingdao/201635638-4',\n",
       " '/data/images/pathology/temp/Qingdao/201634848-3',\n",
       " '/data/images/pathology/temp/Qingdao/201653857-2',\n",
       " '/data/images/pathology/temp/Qingdao/201519103-2',\n",
       " '/data/images/pathology/temp/Qingdao/201627519-4',\n",
       " '/data/images/pathology/temp/Qingdao/18-19871',\n",
       " '/data/images/pathology/temp/Qingdao/201653637-1',\n",
       " '/data/images/pathology/temp/Qingdao/201704219-3',\n",
       " '/data/images/pathology/temp/Qingdao/201614377-3',\n",
       " '/data/images/pathology/temp/Qingdao/17-046476-3',\n",
       " '/data/images/pathology/temp/Qingdao/201619189-2',\n",
       " '/data/images/pathology/temp/Qingdao/201623823-1',\n",
       " '/data/images/pathology/temp/Qingdao/201403134-4',\n",
       " '/data/images/pathology/temp/Qingdao/201430337-3',\n",
       " '/data/images/pathology/temp/Qingdao/201440427-1',\n",
       " '/data/images/pathology/temp/Qingdao/201513853-4',\n",
       " '/data/images/pathology/temp/Qingdao/201530879-1',\n",
       " '/data/images/pathology/temp/Qingdao/z19b',\n",
       " '/data/images/pathology/temp/Qingdao/201651058-1',\n",
       " '/data/images/pathology/temp/Qingdao/201439629-3',\n",
       " '/data/images/pathology/temp/Qingdao/201548827-2',\n",
       " '/data/images/pathology/temp/Qingdao/201547794-1',\n",
       " '/data/images/pathology/temp/Qingdao/201641807-4',\n",
       " '/data/images/pathology/temp/Qingdao/201543479-3',\n",
       " '/data/images/pathology/temp/Qingdao/201700928-2',\n",
       " '/data/images/pathology/temp/Qingdao/201550215-3',\n",
       " '/data/images/pathology/temp/Qingdao/201516157-2',\n",
       " '/data/images/pathology/temp/Qingdao/201608537-4',\n",
       " '/data/images/pathology/temp/Qingdao/201524281-1',\n",
       " '/data/images/pathology/temp/Qingdao/201511498-1',\n",
       " '/data/images/pathology/temp/Qingdao/201707406-4',\n",
       " '/data/images/pathology/temp/Qingdao/201616018-2',\n",
       " '/data/images/pathology/temp/Qingdao/201535785-1',\n",
       " '/data/images/pathology/temp/Qingdao/201520680-4',\n",
       " '/data/images/pathology/temp/Qingdao/201516612-3',\n",
       " '/data/images/pathology/temp/Qingdao/201636089-4',\n",
       " '/data/images/pathology/temp/Qingdao/201616096-2',\n",
       " '/data/images/pathology/temp/Qingdao/201708136-4',\n",
       " '/data/images/pathology/temp/Qingdao/201603916-3',\n",
       " '/data/images/pathology/temp/Qingdao/17-046157-2',\n",
       " '/data/images/pathology/temp/Qingdao/201602683-3',\n",
       " '/data/images/pathology/temp/Qingdao/18-56635',\n",
       " '/data/images/pathology/temp/Qingdao/201644338-3',\n",
       " '/data/images/pathology/temp/Qingdao/201613409-3',\n",
       " '/data/images/pathology/temp/Qingdao/201727841-3',\n",
       " '/data/images/pathology/temp/Qingdao/201548549-1',\n",
       " '/data/images/pathology/temp/Qingdao/201601799-1',\n",
       " '/data/images/pathology/temp/Qingdao/201534109-2',\n",
       " '/data/images/pathology/temp/Qingdao/201653372-1',\n",
       " '/data/images/pathology/temp/Qingdao/17-052593-3',\n",
       " '/data/images/pathology/temp/Qingdao/201434013-4',\n",
       " '/data/images/pathology/temp/Qingdao/201438360-1',\n",
       " '/data/images/pathology/temp/Qingdao/201636089-3',\n",
       " '/data/images/pathology/temp/Qingdao/201619495-2',\n",
       " '/data/images/pathology/temp/Qingdao/201535420-4',\n",
       " '/data/images/pathology/temp/Qingdao/201602683-4',\n",
       " '/data/images/pathology/temp/Qingdao/201708136-3',\n",
       " '/data/images/pathology/temp/Qingdao/201727841-4',\n",
       " '/data/images/pathology/temp/Qingdao/201613409-4',\n",
       " '/data/images/pathology/temp/Qingdao/201644338-4',\n",
       " '/data/images/pathology/temp/Qingdao/201434013-3',\n",
       " '/data/images/pathology/temp/Qingdao/17-052593-4',\n",
       " '/data/images/pathology/temp/Qingdao/17048080',\n",
       " '/data/images/pathology/temp/Qingdao/18-38576',\n",
       " '/data/images/pathology/temp/Qingdao/201545203-1',\n",
       " '/data/images/pathology/temp/Qingdao/201543479-4',\n",
       " '/data/images/pathology/temp/Qingdao/201644777-7',\n",
       " '/data/images/pathology/temp/Qingdao/201610196-3',\n",
       " '/data/images/pathology/temp/Qingdao/201714642-2',\n",
       " '/data/images/pathology/temp/Qingdao/201707406-3',\n",
       " '/data/images/pathology/temp/Qingdao/17018517',\n",
       " '/data/images/pathology/temp/Qingdao/201520680-3',\n",
       " '/data/images/pathology/temp/Qingdao/201516612-4',\n",
       " '/data/images/pathology/temp/Qingdao/201704219-4',\n",
       " '/data/images/pathology/temp/Qingdao/201652511-1',\n",
       " '/data/images/pathology/temp/Qingdao/17-046476-4',\n",
       " '/data/images/pathology/temp/Qingdao/201614377-4',\n",
       " '/data/images/pathology/temp/Qingdao/201618959-4',\n",
       " '/data/images/pathology/temp/Qingdao/201532306-4',\n",
       " '/data/images/pathology/temp/Qingdao/201430337-4',\n",
       " '/data/images/pathology/temp/Qingdao/201609810-3',\n",
       " '/data/images/pathology/temp/Qingdao/201513853-3',\n",
       " '/data/images/pathology/temp/Qingdao/201700859-2',\n",
       " '/data/images/pathology/temp/Qingdao/201439629-4',\n",
       " '/data/images/pathology/temp/Qingdao/201430331',\n",
       " '/data/images/pathology/temp/Qingdao/201641807-3',\n",
       " '/data/images/pathology/temp/Qingdao/201641121-2',\n",
       " '/data/images/pathology/temp/Qingdao/201514091-3',\n",
       " '/data/images/pathology/temp/Qingdao/201533047-1',\n",
       " '/data/images/pathology/temp/Qingdao/201629628-3',\n",
       " '/data/images/pathology/temp/Qingdao/201614743-3',\n",
       " '/data/images/pathology/temp/Qingdao/201601986-3',\n",
       " '/data/images/pathology/temp/Qingdao/201654719-1',\n",
       " '/data/images/pathology/temp/Qingdao/201641389-2',\n",
       " '/data/images/pathology/temp/Qingdao/201602454-2',\n",
       " '/data/images/pathology/temp/Qingdao/z93',\n",
       " '/data/images/pathology/temp/Qingdao/201630101-3',\n",
       " '/data/images/pathology/temp/Qingdao/201634848-4',\n",
       " '/data/images/pathology/temp/Qingdao/201426997-1',\n",
       " '/data/images/pathology/temp/Qingdao/201642313-1',\n",
       " '/data/images/pathology/temp/Qingdao/201517106-2',\n",
       " '/data/images/pathology/temp/Qingdao/201439203-1',\n",
       " '/data/images/pathology/temp/Qingdao/201627519-3',\n",
       " '/data/images/pathology/temp/Qingdao/201653857-5',\n",
       " '/data/images/pathology/temp/Qingdao/201617712-1',\n",
       " '/data/images/pathology/temp/Qingdao/201622861',\n",
       " '/data/images/pathology/temp/Qingdao/201551197-4',\n",
       " '/data/images/pathology/temp/Qingdao/201614105-2',\n",
       " '/data/images/pathology/temp/Qingdao/201545251-1',\n",
       " '/data/images/pathology/temp/Qingdao/201517097-4',\n",
       " '/data/images/pathology/temp/Qingdao/1718077',\n",
       " '/data/images/pathology/temp/Qingdao/201600666-5',\n",
       " '/data/images/pathology/temp/Qingdao/1816960',\n",
       " '/data/images/pathology/temp/Qingdao/201521653-2',\n",
       " '/data/images/pathology/temp/Qingdao/201653955-2',\n",
       " '/data/images/pathology/temp/Qingdao/201704215-2',\n",
       " '/data/images/pathology/temp/Qingdao/201612290-2',\n",
       " '/data/images/pathology/temp/Qingdao/201524156-3',\n",
       " '/data/images/pathology/temp/Qingdao/201549805-2',\n",
       " '/data/images/pathology/temp/Qingdao/17-42906',\n",
       " '/data/images/pathology/temp/Qingdao/201516196-4',\n",
       " '/data/images/pathology/temp/Qingdao/201649421-4',\n",
       " '/data/images/pathology/temp/Qingdao/201702790-1',\n",
       " '/data/images/pathology/temp/Qingdao/17-044123-1',\n",
       " '/data/images/pathology/temp/Qingdao/201434833-7',\n",
       " '/data/images/pathology/temp/Qingdao/201425959-4',\n",
       " '/data/images/pathology/temp/Qingdao/201653282-4',\n",
       " '/data/images/pathology/temp/Qingdao/201548925-2',\n",
       " '/data/images/pathology/temp/Qingdao/201412930-1',\n",
       " '/data/images/pathology/temp/Qingdao/201628259-1',\n",
       " '/data/images/pathology/temp/Qingdao/201632922-1',\n",
       " '/data/images/pathology/temp/Qingdao/201633618-1',\n",
       " '/data/images/pathology/temp/Qingdao/201544539-2',\n",
       " '/data/images/pathology/temp/Qingdao/201617315-2',\n",
       " '/data/images/pathology/temp/Qingdao/201639564-4',\n",
       " '/data/images/pathology/temp/Qingdao/201409699-5',\n",
       " '/data/images/pathology/temp/Qingdao/201651780-4',\n",
       " '/data/images/pathology/temp/Qingdao/201709835-4',\n",
       " '/data/images/pathology/temp/Qingdao/201619927-1',\n",
       " '/data/images/pathology/temp/Qingdao/201653599-3',\n",
       " '/data/images/pathology/temp/Qingdao/17027569',\n",
       " '/data/images/pathology/temp/Qingdao/201420377',\n",
       " '/data/images/pathology/temp/Qingdao/201726426-3',\n",
       " '/data/images/pathology/temp/Qingdao/201604045-2',\n",
       " '/data/images/pathology/temp/Qingdao/17-034609-4',\n",
       " '/data/images/pathology/temp/Qingdao/201552185-1',\n",
       " '/data/images/pathology/temp/Qingdao/201625253-2',\n",
       " '/data/images/pathology/temp/Qingdao/201719847-4',\n",
       " '/data/images/pathology/temp/Qingdao/201511825-3',\n",
       " '/data/images/pathology/temp/Qingdao/201622861-2',\n",
       " '/data/images/pathology/temp/Qingdao/201654032-1',\n",
       " '/data/images/pathology/temp/Qingdao/201629755-2',\n",
       " '/data/images/pathology/temp/Qingdao/201433766-4',\n",
       " '/data/images/pathology/temp/Qingdao/201625896-3',\n",
       " '/data/images/pathology/temp/Qingdao/201434539-5',\n",
       " '/data/images/pathology/temp/Qingdao/201652003-4',\n",
       " '/data/images/pathology/temp/Qingdao/201523564-3',\n",
       " '/data/images/pathology/temp/Qingdao/201650832-2',\n",
       " '/data/images/pathology/temp/Qingdao/201601684-4',\n",
       " '/data/images/pathology/temp/Qingdao/201643745-5',\n",
       " '/data/images/pathology/temp/Qingdao/201604335-3',\n",
       " '/data/images/pathology/temp/Qingdao/201437378-4',\n",
       " '/data/images/pathology/temp/Qingdao/201434833-5',\n",
       " '/data/images/pathology/temp/Qingdao/201725850-4',\n",
       " '/data/images/pathology/temp/Qingdao/201434480-2',\n",
       " '/data/images/pathology/temp/Qingdao/201426407-3',\n",
       " '/data/images/pathology/temp/Qingdao/17-044123-3',\n",
       " '/data/images/pathology/temp/Qingdao/201623220-5',\n",
       " '/data/images/pathology/temp/Qingdao/201628259-3',\n",
       " '/data/images/pathology/temp/Qingdao/201632922-3',\n",
       " '/data/images/pathology/temp/Qingdao/17-033924-2',\n",
       " '/data/images/pathology/temp/Qingdao/201619685-1',\n",
       " '/data/images/pathology/temp/Qingdao/201539090-6',\n",
       " '/data/images/pathology/temp/Qingdao/201633255-4',\n",
       " '/data/images/pathology/temp/Qingdao/201633618-3',\n",
       " '/data/images/pathology/temp/Qingdao/201409699-7',\n",
       " '/data/images/pathology/temp/Qingdao/201415640-2',\n",
       " '/data/images/pathology/temp/Qingdao/201521670-4',\n",
       " '/data/images/pathology/temp/Qingdao/201529102-4',\n",
       " '/data/images/pathology/temp/Qingdao/201545251-3',\n",
       " '/data/images/pathology/temp/Qingdao/201613577-4',\n",
       " '/data/images/pathology/temp/Qingdao/201543815-2',\n",
       " '/data/images/pathology/temp/Qingdao/19-02953',\n",
       " '/data/images/pathology/temp/Qingdao/201702790-3',\n",
       " '/data/images/pathology/temp/Qingdao/201723749-1',\n",
       " '/data/images/pathology/temp/Qingdao/201404845-4',\n",
       " '/data/images/pathology/temp/Qingdao/201625896-1',\n",
       " '/data/images/pathology/temp/Qingdao/201530023-3',\n",
       " '/data/images/pathology/temp/Qingdao/201604335-1',\n",
       " '/data/images/pathology/temp/Qingdao/201439600-2',\n",
       " '/data/images/pathology/temp/Qingdao/201413745-1',\n",
       " '/data/images/pathology/temp/Qingdao/201653599-1',\n",
       " '/data/images/pathology/temp/Qingdao/201654145-2',\n",
       " '/data/images/pathology/temp/Qingdao/201703466-2',\n",
       " '/data/images/pathology/temp/Qingdao/201428769-2',\n",
       " '/data/images/pathology/temp/Qingdao/201726426-1',\n",
       " '/data/images/pathology/temp/Qingdao/1805923',\n",
       " '/data/images/pathology/temp/Qingdao/201654780-2',\n",
       " '/data/images/pathology/temp/Qingdao/201511825-1',\n",
       " '/data/images/pathology/temp/Qingdao/201529099-2',\n",
       " '/data/images/pathology/temp/Qingdao/201431616-3',\n",
       " '/data/images/pathology/temp/Qingdao/201617223-2',\n",
       " '/data/images/pathology/temp/Qingdao/201603238-2',\n",
       " '/data/images/pathology/temp/Qingdao/201654032-3',\n",
       " '/data/images/pathology/temp/Qingdao/201709455-4',\n",
       " '/data/images/pathology/temp/Qingdao/201624304-2',\n",
       " '/data/images/pathology/temp/Qingdao/201545203-3',\n",
       " '/data/images/pathology/temp/Qingdao/201545684-8',\n",
       " '/data/images/pathology/temp/Qingdao/201644777-5',\n",
       " '/data/images/pathology/temp/Qingdao/201727733-2',\n",
       " '/data/images/pathology/temp/Qingdao/201419207-2',\n",
       " '/data/images/pathology/temp/Qingdao/201612916-5',\n",
       " '/data/images/pathology/temp/Qingdao/201707406-1',\n",
       " '/data/images/pathology/temp/Qingdao/201511498-4',\n",
       " '/data/images/pathology/temp/Qingdao/201524281-4',\n",
       " '/data/images/pathology/temp/Qingdao/201608537-1',\n",
       " '/data/images/pathology/temp/Qingdao/17-034786-2',\n",
       " '/data/images/pathology/temp/Qingdao/201551149-2',\n",
       " '/data/images/pathology/temp/Qingdao/201520680-1',\n",
       " '/data/images/pathology/temp/Qingdao/201535785-4',\n",
       " '/data/images/pathology/temp/Qingdao/201642779-2',\n",
       " '/data/images/pathology/temp/Qingdao/201404939-2',\n",
       " '/data/images/pathology/temp/Qingdao/17-034466',\n",
       " '/data/images/pathology/temp/Qingdao/201511543-6',\n",
       " '/data/images/pathology/temp/Qingdao/201409074-4',\n",
       " '/data/images/pathology/temp/Qingdao/201609207-2',\n",
       " '/data/images/pathology/temp/Qingdao/201545922-2',\n",
       " '/data/images/pathology/temp/Qingdao/201548549-4',\n",
       " '/data/images/pathology/temp/Qingdao/201708136-1',\n",
       " '/data/images/pathology/temp/Qingdao/z85a',\n",
       " '/data/images/pathology/temp/Qingdao/201543802-3',\n",
       " '/data/images/pathology/temp/Qingdao/201653372-4',\n",
       " '/data/images/pathology/temp/Qingdao/201601799-4',\n",
       " '/data/images/pathology/temp/Qingdao/201542684-3',\n",
       " '/data/images/pathology/temp/Qingdao/201438360-4',\n",
       " '/data/images/pathology/temp/Qingdao/201724705-2',\n",
       " '/data/images/pathology/temp/Qingdao/201533047-3',\n",
       " '/data/images/pathology/temp/Qingdao/201638727-4',\n",
       " '/data/images/pathology/temp/Qingdao/201514091-1',\n",
       " '/data/images/pathology/temp/Qingdao/201629628-1',\n",
       " '/data/images/pathology/temp/Qingdao/201404699-4',\n",
       " '/data/images/pathology/temp/Qingdao/201614743-1',\n",
       " '/data/images/pathology/temp/Qingdao/201428545-2',\n",
       " '/data/images/pathology/temp/Qingdao/201529541-1',\n",
       " '/data/images/pathology/temp/Qingdao/201518219-1',\n",
       " '/data/images/pathology/temp/Qingdao/201614266-2',\n",
       " '/data/images/pathology/temp/Qingdao/201625946-4',\n",
       " '/data/images/pathology/temp/Qingdao/201717094-2',\n",
       " '/data/images/pathology/temp/Qingdao/201726264-2',\n",
       " '/data/images/pathology/temp/Qingdao/201654719-3',\n",
       " '/data/images/pathology/temp/Qingdao/201426997-3',\n",
       " '/data/images/pathology/temp/Qingdao/201642313-3',\n",
       " '/data/images/pathology/temp/Qingdao/201542169-3',\n",
       " '/data/images/pathology/temp/Qingdao/201524586-5',\n",
       " '/data/images/pathology/temp/Qingdao/201614374-5',\n",
       " '/data/images/pathology/temp/Qingdao/z91',\n",
       " '/data/images/pathology/temp/Qingdao/201630101-1',\n",
       " '/data/images/pathology/temp/Qingdao/201636925-2',\n",
       " '/data/images/pathology/temp/Qingdao/201615697-2',\n",
       " '/data/images/pathology/temp/Qingdao/201437354',\n",
       " '/data/images/pathology/temp/Qingdao/201653857-7',\n",
       " '/data/images/pathology/temp/Qingdao/201617712-3',\n",
       " '/data/images/pathology/temp/Qingdao/20141390-2',\n",
       " '/data/images/pathology/temp/Qingdao/201439203-3',\n",
       " '/data/images/pathology/temp/Qingdao/201715372',\n",
       " '/data/images/pathology/temp/Qingdao/201653637-4',\n",
       " '/data/images/pathology/temp/Qingdao/201652511-3',\n",
       " '/data/images/pathology/temp/Qingdao/201609810-1',\n",
       " '/data/images/pathology/temp/Qingdao/201731118-3',\n",
       " '/data/images/pathology/temp/Qingdao/201723437-2',\n",
       " '/data/images/pathology/temp/Qingdao/201623823-4',\n",
       " '/data/images/pathology/temp/Qingdao/201547794-4',\n",
       " '/data/images/pathology/temp/Qingdao/201651058-4',\n",
       " '/data/images/pathology/temp/Qingdao/201530879-4',\n",
       " '/data/images/pathology/temp/Qingdao/201434822-2',\n",
       " '/data/images/pathology/temp/Qingdao/201513853-1',\n",
       " '/data/images/pathology/temp/Qingdao/201641807-1',\n",
       " '/data/images/pathology/temp/Qingdao/17-034306-2',\n",
       " '/data/images/pathology/temp/Qingdao/201618959-1',\n",
       " '/data/images/pathology/temp/Qingdao/201614377-1',\n",
       " '/data/images/pathology/temp/Qingdao/17-046476-1',\n",
       " '/data/images/pathology/temp/Qingdao/201652511-4',\n",
       " '/data/images/pathology/temp/Qingdao/201704219-1',\n",
       " '/data/images/pathology/temp/Qingdao/17-043414-2',\n",
       " '/data/images/pathology/temp/Qingdao/201422050-3',\n",
       " '/data/images/pathology/temp/Qingdao/201647997-2',\n",
       " '/data/images/pathology/temp/Qingdao/201426149-3',\n",
       " '/data/images/pathology/temp/Qingdao/201623823-3',\n",
       " '/data/images/pathology/temp/Qingdao/201532306-1',\n",
       " '/data/images/pathology/temp/Qingdao/201403134-6',\n",
       " '/data/images/pathology/temp/Qingdao/201651058-3',\n",
       " '/data/images/pathology/temp/Qingdao/201439629-1',\n",
       " '/data/images/pathology/temp/Qingdao/201547794-3',\n",
       " '/data/images/pathology/temp/Qingdao/201402510-5',\n",
       " '/data/images/pathology/temp/Qingdao/201440427-3',\n",
       " '/data/images/pathology/temp/Qingdao/17020221',\n",
       " '/data/images/pathology/temp/Qingdao/201600885-2',\n",
       " '/data/images/pathology/temp/Qingdao/201726062-2',\n",
       " '/data/images/pathology/temp/Qingdao/201437429-2',\n",
       " '/data/images/pathology/temp/Qingdao/201404699-3',\n",
       " '/data/images/pathology/temp/Qingdao/17026424',\n",
       " '/data/images/pathology/temp/Qingdao/201533047-4',\n",
       " '/data/images/pathology/temp/Qingdao/201638727-3',\n",
       " '/data/images/pathology/temp/Qingdao/201550697-5',\n",
       " '/data/images/pathology/temp/Qingdao/201427756-1',\n",
       " '/data/images/pathology/temp/Qingdao/201703132-2',\n",
       " '/data/images/pathology/temp/Qingdao/201654719-4',\n",
       " '/data/images/pathology/temp/Qingdao/201627065-2',\n",
       " '/data/images/pathology/temp/Qingdao/201524586-2',\n",
       " '/data/images/pathology/temp/Qingdao/201635638-6',\n",
       " '/data/images/pathology/temp/Qingdao/201542169-4',\n",
       " '/data/images/pathology/temp/Qingdao/201642313-4',\n",
       " '/data/images/pathology/temp/Qingdao/201426997-4',\n",
       " '/data/images/pathology/temp/Qingdao/201634848-1',\n",
       " '/data/images/pathology/temp/Qingdao/201617712-4',\n",
       " '/data/images/pathology/temp/Qingdao/201533996-5',\n",
       " '/data/images/pathology/temp/Qingdao/201609207-5',\n",
       " '/data/images/pathology/temp/Qingdao/2014392034',\n",
       " '/data/images/pathology/temp/Qingdao/201409074-3',\n",
       " '/data/images/pathology/temp/Qingdao/201511543-1',\n",
       " '/data/images/pathology/temp/Qingdao/201622674-2',\n",
       " '/data/images/pathology/temp/Qingdao/201535420-1',\n",
       " '/data/images/pathology/temp/Qingdao/201727841-1',\n",
       " '/data/images/pathology/temp/Qingdao/201548549-3',\n",
       " '/data/images/pathology/temp/Qingdao/201435884-2',\n",
       " '/data/images/pathology/temp/Qingdao/201603916-1',\n",
       " '/data/images/pathology/temp/Qingdao/201653372-3',\n",
       " '/data/images/pathology/temp/Qingdao/17-052593-1',\n",
       " '/data/images/pathology/temp/Qingdao/201543802-4',\n",
       " '/data/images/pathology/temp/Qingdao/201402272-2',\n",
       " '/data/images/pathology/temp/Qingdao/201438360-3',\n",
       " '/data/images/pathology/temp/Qingdao/201707404-2',\n",
       " '/data/images/pathology/temp/Qingdao/201542172-3',\n",
       " '/data/images/pathology/temp/Qingdao/201550215-1',\n",
       " '/data/images/pathology/temp/Qingdao/201550840-2',\n",
       " '/data/images/pathology/temp/Qingdao/201545203-4',\n",
       " '/data/images/pathology/temp/Qingdao/201612916-2',\n",
       " '/data/images/pathology/temp/Qingdao/201524281-3',\n",
       " '/data/images/pathology/temp/Qingdao/201511498-3',\n",
       " '/data/images/pathology/temp/Qingdao/201516612-1',\n",
       " '/data/images/pathology/temp/Qingdao/201542689-5',\n",
       " '/data/images/pathology/temp/Qingdao/201653599-6',\n",
       " '/data/images/pathology/temp/Qingdao/201619927-4',\n",
       " '/data/images/pathology/temp/Qingdao/201619721-2',\n",
       " '/data/images/pathology/temp/Qingdao/201552185-4',\n",
       " '/data/images/pathology/temp/Qingdao/17-034609-1',\n",
       " '/data/images/pathology/temp/Qingdao/201654780-5',\n",
       " '/data/images/pathology/temp/Qingdao/201719847-1',\n",
       " '/data/images/pathology/temp/Qingdao/201709455-3',\n",
       " '/data/images/pathology/temp/Qingdao/201654032-4',\n",
       " '/data/images/pathology/temp/Qingdao/201414398-2',\n",
       " '/data/images/pathology/temp/Qingdao/17052595',\n",
       " '/data/images/pathology/temp/Qingdao/201433766-1',\n",
       " '/data/images/pathology/temp/Qingdao/201652003-1',\n",
       " '/data/images/pathology/temp/Qingdao/201607865-2',\n",
       " '/data/images/pathology/temp/Qingdao/201405308-3',\n",
       " '/data/images/pathology/temp/Qingdao/201601684-1',\n",
       " '/data/images/pathology/temp/Qingdao/17019716',\n",
       " '/data/images/pathology/temp/Qingdao/201601564-2',\n",
       " '/data/images/pathology/temp/Qingdao/201530023-4',\n",
       " '/data/images/pathology/temp/Qingdao/201549028-2',\n",
       " '/data/images/pathology/temp/Qingdao/201437378-1',\n",
       " '/data/images/pathology/temp/Qingdao/201548565-2',\n",
       " '/data/images/pathology/temp/Qingdao/201614987-2',\n",
       " '/data/images/pathology/temp/Qingdao/201541961-2',\n",
       " '/data/images/pathology/temp/Qingdao/201714476-3',\n",
       " '/data/images/pathology/temp/Qingdao/201624650-2',\n",
       " '/data/images/pathology/temp/Qingdao/201517097-1',\n",
       " '/data/images/pathology/temp/Qingdao/201613577-3',\n",
       " '/data/images/pathology/temp/Qingdao/201545251-4',\n",
       " '/data/images/pathology/temp/Qingdao/201529102-3',\n",
       " '/data/images/pathology/temp/Qingdao/201521670-3',\n",
       " '/data/images/pathology/temp/Qingdao/201551197-1',\n",
       " '/data/images/pathology/temp/Qingdao/201627806-1',\n",
       " '/data/images/pathology/temp/Qingdao/30162',\n",
       " '/data/images/pathology/temp/Qingdao/201438992-4',\n",
       " '/data/images/pathology/temp/Qingdao/z58a',\n",
       " '/data/images/pathology/temp/Qingdao/201516196-1',\n",
       " '/data/images/pathology/temp/Qingdao/201626852-3',\n",
       " '/data/images/pathology/temp/Qingdao/201702790-4',\n",
       " '/data/images/pathology/temp/Qingdao/201649421-1',\n",
       " '/data/images/pathology/temp/Qingdao/201434480-5',\n",
       " '/data/images/pathology/temp/Qingdao/201653282-1',\n",
       " '/data/images/pathology/temp/Qingdao/201725850-3',\n",
       " '/data/images/pathology/temp/Qingdao/201425959-1',\n",
       " '/data/images/pathology/temp/Qingdao/201613035-2',\n",
       " '/data/images/pathology/temp/Qingdao/17-044123-4',\n",
       " '/data/images/pathology/temp/Qingdao/201632922-4',\n",
       " '/data/images/pathology/temp/Qingdao/201623220-2',\n",
       " '/data/images/pathology/temp/Qingdao/201628590-1',\n",
       " '/data/images/pathology/temp/Qingdao/201600623-1',\n",
       " '/data/images/pathology/temp/Qingdao/201633618-4',\n",
       " '/data/images/pathology/temp/Qingdao/201651780-1',\n",
       " '/data/images/pathology/temp/Qingdao/201639564-1',\n",
       " '/data/images/pathology/temp/Qingdao/201653086-2',\n",
       " '/data/images/pathology/temp/Qingdao/201546024-2',\n",
       " '/data/images/pathology/temp/Qingdao/201436453-1',\n",
       " '/data/images/pathology/temp/Qingdao/201612290-3',\n",
       " '/data/images/pathology/temp/Qingdao/201705871-4',\n",
       " '/data/images/pathology/temp/Qingdao/201621563-4',\n",
       " '/data/images/pathology/temp/Qingdao/201524156-2',\n",
       " '/data/images/pathology/temp/Qingdao/201618847-4',\n",
       " '/data/images/pathology/temp/Qingdao/201549805-3',\n",
       " '/data/images/pathology/temp/Qingdao/201521653-3',\n",
       " '/data/images/pathology/temp/Qingdao/201600666-4',\n",
       " '/data/images/pathology/temp/Qingdao/201543815-1',\n",
       " '/data/images/pathology/temp/Qingdao/201653955-3',\n",
       " '/data/images/pathology/temp/Qingdao/201704215-3',\n",
       " '/data/images/pathology/temp/Qingdao/201614105-3',\n",
       " '/data/images/pathology/temp/Qingdao/201704589',\n",
       " '/data/images/pathology/temp/Qingdao/201551197-5',\n",
       " '/data/images/pathology/temp/Qingdao/201647273-4',\n",
       " '/data/images/pathology/temp/Qingdao/201437427-4',\n",
       " '/data/images/pathology/temp/Qingdao/201418115-3',\n",
       " '/data/images/pathology/temp/Qingdao/201617315-3',\n",
       " '/data/images/pathology/temp/Qingdao/20143747-1',\n",
       " '/data/images/pathology/temp/Qingdao/201605479-4',\n",
       " '/data/images/pathology/temp/Qingdao/201619685-2',\n",
       " '/data/images/pathology/temp/Qingdao/201544539-3',\n",
       " '/data/images/pathology/temp/Qingdao/201429108-2',\n",
       " '/data/images/pathology/temp/Qingdao/201630452-4',\n",
       " '/data/images/pathology/temp/Qingdao/201608258-4',\n",
       " '/data/images/pathology/temp/Qingdao/201434833-6',\n",
       " '/data/images/pathology/temp/Qingdao/17032907',\n",
       " '/data/images/pathology/temp/Qingdao/17-043300-4',\n",
       " '/data/images/pathology/temp/Qingdao/201629755-3',\n",
       " '/data/images/pathology/temp/Qingdao/201603238-1',\n",
       " '/data/images/pathology/temp/Qingdao/201529099-1',\n",
       " '/data/images/pathology/temp/Qingdao/201641382-4',\n",
       " '/data/images/pathology/temp/Qingdao/201511825-2',\n",
       " '/data/images/pathology/temp/Qingdao/201622861-3',\n",
       " '/data/images/pathology/temp/Qingdao/201625253-3',\n",
       " '/data/images/pathology/temp/Qingdao/201726426-2',\n",
       " '/data/images/pathology/temp/Qingdao/201654780-1',\n",
       " '/data/images/pathology/temp/Qingdao/201604045-3',\n",
       " '/data/images/pathology/temp/Qingdao/201703466-1',\n",
       " '/data/images/pathology/temp/Qingdao/201527713-1',\n",
       " '/data/images/pathology/temp/Qingdao/201648001-4',\n",
       " '/data/images/pathology/temp/Qingdao/201654145-1',\n",
       " '/data/images/pathology/temp/Qingdao/201653599-2',\n",
       " '/data/images/pathology/temp/Qingdao/201542689-1',\n",
       " '/data/images/pathology/temp/Qingdao/201624414-1',\n",
       " '/data/images/pathology/temp/Qingdao/201439600-1',\n",
       " '/data/images/pathology/temp/Qingdao/201413745-2',\n",
       " '/data/images/pathology/temp/Qingdao/201436170-4',\n",
       " '/data/images/pathology/temp/Qingdao/201604335-2',\n",
       " '/data/images/pathology/temp/Qingdao/1802150',\n",
       " '/data/images/pathology/temp/Qingdao/201523564-2',\n",
       " '/data/images/pathology/temp/Qingdao/201440763-3',\n",
       " '/data/images/pathology/temp/Qingdao/201650832-3',\n",
       " '/data/images/pathology/temp/Qingdao/201410346-2',\n",
       " '/data/images/pathology/temp/Qingdao/201643745-4',\n",
       " '/data/images/pathology/temp/Qingdao/201628260-4',\n",
       " '/data/images/pathology/temp/Qingdao/201623352-2',\n",
       " '/data/images/pathology/temp/Qingdao/201638781-4',\n",
       " '/data/images/pathology/temp/Qingdao/201433766-5',\n",
       " '/data/images/pathology/temp/Qingdao/201625896-2',\n",
       " '/data/images/pathology/temp/Qingdao/201434539-4',\n",
       " '/data/images/pathology/temp/Qingdao/201724705-1',\n",
       " '/data/images/pathology/temp/Qingdao/201434013-2',\n",
       " '/data/images/pathology/temp/Qingdao/17-046157-4',\n",
       " '/data/images/pathology/temp/Qingdao/201708136-2',\n",
       " '/data/images/pathology/temp/Qingdao/201410346',\n",
       " '/data/images/pathology/temp/Qingdao/201545922-1',\n",
       " '/data/images/pathology/temp/Qingdao/201619495-3',\n",
       " '/data/images/pathology/temp/Qingdao/201520046-1',\n",
       " '/data/images/pathology/temp/Qingdao/201511543-5',\n",
       " '/data/images/pathology/temp/Qingdao/201642779-1',\n",
       " '/data/images/pathology/temp/Qingdao/201616018-4',\n",
       " '/data/images/pathology/temp/Qingdao/201404939-1',\n",
       " '/data/images/pathology/temp/Qingdao/201700929-3',\n",
       " '/data/images/pathology/temp/Qingdao/201516157-4',\n",
       " '/data/images/pathology/temp/Qingdao/201714642-3',\n",
       " '/data/images/pathology/temp/Qingdao/17-034786-1',\n",
       " '/data/images/pathology/temp/Qingdao/201551149-1',\n",
       " '/data/images/pathology/temp/Qingdao/201707406-2',\n",
       " '/data/images/pathology/temp/Qingdao/201608537-2',\n",
       " '/data/images/pathology/temp/Qingdao/201419207-1',\n",
       " '/data/images/pathology/temp/Qingdao/201727733-1',\n",
       " '/data/images/pathology/temp/Qingdao/201644777-6',\n",
       " '/data/images/pathology/temp/Qingdao/201610196-2',\n",
       " '/data/images/pathology/temp/Qingdao/201700928-4',\n",
       " '/data/images/pathology/temp/Qingdao/201624304-1',\n",
       " '/data/images/pathology/temp/Qingdao/201711378-1',\n",
       " '/data/images/pathology/temp/Qingdao/201641807-2',\n",
       " '/data/images/pathology/temp/Qingdao/201614380-5',\n",
       " '/data/images/pathology/temp/Qingdao/17-034306-1',\n",
       " '/data/images/pathology/temp/Qingdao/201641121-3',\n",
       " '/data/images/pathology/temp/Qingdao/201513853-2',\n",
       " '/data/images/pathology/temp/Qingdao/201434822-1',\n",
       " '/data/images/pathology/temp/Qingdao/201700859-3',\n",
       " '/data/images/pathology/temp/Qingdao/201436749-3',\n",
       " '/data/images/pathology/temp/Qingdao/201636674-1',\n",
       " '/data/images/pathology/temp/Qingdao/201723437-1',\n",
       " '/data/images/pathology/temp/Qingdao/201619189-4',\n",
       " '/data/images/pathology/temp/Qingdao/201609810-2',\n",
       " '/data/images/pathology/temp/Qingdao/201903132-4',\n",
       " '/data/images/pathology/temp/Qingdao/201629831-1',\n",
       " '/data/images/pathology/temp/Qingdao/201519103-4',\n",
       " '/data/images/pathology/temp/Qingdao/201533996-1',\n",
       " '/data/images/pathology/temp/Qingdao/201636925-1',\n",
       " '/data/images/pathology/temp/Qingdao/201615697-1',\n",
       " '/data/images/pathology/temp/Qingdao/201627519-2',\n",
       " '/data/images/pathology/temp/Qingdao/201653857-4',\n",
       " '/data/images/pathology/temp/Qingdao/201630101-2',\n",
       " '/data/images/pathology/temp/Qingdao/z92',\n",
       " '/data/images/pathology/temp/Qingdao/201614374-6',\n",
       " '/data/images/pathology/temp/Qingdao/201517106-3',\n",
       " '/data/images/pathology/temp/Qingdao/201726264-1',\n",
       " '/data/images/pathology/temp/Qingdao/201642947-4',\n",
       " '/data/images/pathology/temp/Qingdao/201614266-1',\n",
       " '/data/images/pathology/temp/Qingdao/201641389-3',\n",
       " '/data/images/pathology/temp/Qingdao/201408354-6',\n",
       " '/data/images/pathology/temp/Qingdao/201529541-2',\n",
       " '/data/images/pathology/temp/Qingdao/201518219-2',\n",
       " '/data/images/pathology/temp/Qingdao/201614743-2',\n",
       " '/data/images/pathology/temp/Qingdao/201629628-2',\n",
       " '/data/images/pathology/temp/Qingdao/201514091-2',\n",
       " '/data/images/pathology/temp/Qingdao/201601986-2',\n",
       " '/data/images/pathology/temp/Qingdao/201903132-3',\n",
       " '/data/images/pathology/temp/Qingdao/201653857-3',\n",
       " '/data/images/pathology/temp/Qingdao/201519103-3',\n",
       " '/data/images/pathology/temp/Qingdao/201602454-4',\n",
       " '/data/images/pathology/temp/Qingdao/201635638-5',\n",
       " '/data/images/pathology/temp/Qingdao/201634848-2',\n",
       " '/data/images/pathology/temp/Qingdao/201517106-4',\n",
       " '/data/images/pathology/temp/Qingdao/201640942-3',\n",
       " '/data/images/pathology/temp/Qingdao/201642947-3',\n",
       " '/data/images/pathology/temp/Qingdao/201550697-6',\n",
       " '/data/images/pathology/temp/Qingdao/201437429-1',\n",
       " '/data/images/pathology/temp/Qingdao/201726062-1',\n",
       " '/data/images/pathology/temp/Qingdao/201600885-1',\n",
       " '/data/images/pathology/temp/Qingdao/201436749-4',\n",
       " '/data/images/pathology/temp/Qingdao/201700859-4',\n",
       " '/data/images/pathology/temp/Qingdao/201430337',\n",
       " '/data/images/pathology/temp/Qingdao/201402510-6',\n",
       " '/data/images/pathology/temp/Qingdao/201439629-2',\n",
       " '/data/images/pathology/temp/Qingdao/201548827-3',\n",
       " '/data/images/pathology/temp/Qingdao/201619189-3',\n",
       " '/data/images/pathology/temp/Qingdao/201403134-5',\n",
       " '/data/images/pathology/temp/Qingdao/201532306-2',\n",
       " '/data/images/pathology/temp/Qingdao/201647997-1',\n",
       " '/data/images/pathology/temp/Qingdao/201614380-8',\n",
       " '/data/images/pathology/temp/Qingdao/201704219-2',\n",
       " '/data/images/pathology/temp/Qingdao/17-043414-1',\n",
       " '/data/images/pathology/temp/Qingdao/1801311',\n",
       " '/data/images/pathology/temp/Qingdao/201618959-2',\n",
       " '/data/images/pathology/temp/Qingdao/17-046476-2',\n",
       " '/data/images/pathology/temp/Qingdao/201614377-2',\n",
       " '/data/images/pathology/temp/Qingdao/201545684-6',\n",
       " '/data/images/pathology/temp/Qingdao/201616018-3',\n",
       " '/data/images/pathology/temp/Qingdao/201700929-4',\n",
       " '/data/images/pathology/temp/Qingdao/201516612-2',\n",
       " '/data/images/pathology/temp/Qingdao/201516157-3',\n",
       " '/data/images/pathology/temp/Qingdao/201714642-4',\n",
       " '/data/images/pathology/temp/Qingdao/201725009-4',\n",
       " '/data/images/pathology/temp/Qingdao/17-24184',\n",
       " '/data/images/pathology/temp/Qingdao/201612916-1',\n",
       " '/data/images/pathology/temp/Qingdao/201610196-5',\n",
       " '/data/images/pathology/temp/Qingdao/18-36321',\n",
       " '/data/images/pathology/temp/Qingdao/201550840-1',\n",
       " '/data/images/pathology/temp/Qingdao/z77a',\n",
       " '/data/images/pathology/temp/Qingdao/201428917',\n",
       " '/data/images/pathology/temp/Qingdao/201550215-2',\n",
       " '/data/images/pathology/temp/Qingdao/201707404-1',\n",
       " '/data/images/pathology/temp/Qingdao/201534109-3',\n",
       " '/data/images/pathology/temp/Qingdao/201402272-1',\n",
       " '/data/images/pathology/temp/Qingdao/201434013-5',\n",
       " '/data/images/pathology/temp/Qingdao/17-052593-2',\n",
       " '/data/images/pathology/temp/Qingdao/201435884-1',\n",
       " '/data/images/pathology/temp/Qingdao/infla',\n",
       " '/data/images/pathology/temp/Qingdao/201602683-2',\n",
       " '/data/images/pathology/temp/Qingdao/17-046157-3',\n",
       " '/data/images/pathology/temp/Qingdao/201603916-2',\n",
       " '/data/images/pathology/temp/Qingdao/201613409-2',\n",
       " '/data/images/pathology/temp/Qingdao/201727841-2',\n",
       " '/data/images/pathology/temp/Qingdao/201644338-2',\n",
       " '/data/images/pathology/temp/Qingdao/201636089-5',\n",
       " '/data/images/pathology/temp/Qingdao/201619495-4',\n",
       " '/data/images/pathology/temp/Qingdao/201616096-3',\n",
       " '/data/images/pathology/temp/Qingdao/201535420-2',\n",
       " '/data/images/pathology/temp/Qingdao/1820928',\n",
       " '/data/images/pathology/temp/Qingdao/201622674-1',\n",
       " '/data/images/pathology/temp/Qingdao/201548565-1',\n",
       " '/data/images/pathology/temp/Qingdao/201541961-1',\n",
       " '/data/images/pathology/temp/Qingdao/201436170-3',\n",
       " '/data/images/pathology/temp/Qingdao/201530023-7',\n",
       " '/data/images/pathology/temp/Qingdao/201549028-1',\n",
       " '/data/images/pathology/temp/Qingdao/z62',\n",
       " '/data/images/pathology/temp/Qingdao/201422924-1',\n",
       " '/data/images/pathology/temp/Qingdao/201652003-2',\n",
       " '/data/images/pathology/temp/Qingdao/201638781-3',\n",
       " '/data/images/pathology/temp/Qingdao/201414398-1',\n",
       " '/data/images/pathology/temp/Qingdao/201433766-2',\n",
       " '/data/images/pathology/temp/Qingdao/201434539-3',\n",
       " '/data/images/pathology/temp/Qingdao/17-043300-3',\n",
       " '/data/images/pathology/temp/Qingdao/201629755-4',\n",
       " '/data/images/pathology/temp/Qingdao/201641382-3',\n",
       " '/data/images/pathology/temp/Qingdao/201719847-2',\n",
       " '/data/images/pathology/temp/Qingdao/201625253-4',\n",
       " '/data/images/pathology/temp/Qingdao/201622861-4',\n",
       " '/data/images/pathology/temp/Qingdao/201604045-4',\n",
       " '/data/images/pathology/temp/Qingdao/201654780-6',\n",
       " '/data/images/pathology/temp/Qingdao/17-034609-2',\n",
       " '/data/images/pathology/temp/Qingdao/201619721-1',\n",
       " '/data/images/pathology/temp/Qingdao/17048144',\n",
       " '/data/images/pathology/temp/Qingdao/201648001-3',\n",
       " '/data/images/pathology/temp/Qingdao/201641220-1',\n",
       " '/data/images/pathology/temp/Qingdao/17-033628-3',\n",
       " '/data/images/pathology/temp/Qingdao/201653599-5',\n",
       " '/data/images/pathology/temp/Qingdao/201639564-2',\n",
       " '/data/images/pathology/temp/Qingdao/201546024-1',\n",
       " '/data/images/pathology/temp/Qingdao/201617315-4',\n",
       " '/data/images/pathology/temp/Qingdao/201418115-4',\n",
       " '/data/images/pathology/temp/Qingdao/20105664-2',\n",
       " '/data/images/pathology/temp/Qingdao/201437427-3',\n",
       " '/data/images/pathology/temp/Qingdao/201651780-2',\n",
       " '/data/images/pathology/temp/Qingdao/201409699-3',\n",
       " '/data/images/pathology/temp/Qingdao/201709835-2',\n",
       " '/data/images/pathology/temp/Qingdao/201605479-3',\n",
       " '/data/images/pathology/temp/Qingdao/201628590-2',\n",
       " '/data/images/pathology/temp/Qingdao/201429108-5',\n",
       " '/data/images/pathology/temp/Qingdao/201544539-4',\n",
       " '/data/images/pathology/temp/Qingdao/201600623-2',\n",
       " '/data/images/pathology/temp/Qingdao/17022733',\n",
       " '/data/images/pathology/temp/Qingdao/201539090-8',\n",
       " '/data/images/pathology/temp/Qingdao/201415554-6',\n",
       " '/data/images/pathology/temp/Qingdao/201630452-3',\n",
       " '/data/images/pathology/temp/Qingdao/201548925-4',\n",
       " '/data/images/pathology/temp/Qingdao/201613035-1',\n",
       " '/data/images/pathology/temp/Qingdao/201653282-2',\n",
       " '/data/images/pathology/temp/Qingdao/201649421-2',\n",
       " '/data/images/pathology/temp/Qingdao/201623352',\n",
       " '/data/images/pathology/temp/Qingdao/201524156-5',\n",
       " '/data/images/pathology/temp/Qingdao/201705871-3',\n",
       " '/data/images/pathology/temp/Qingdao/201612290-4',\n",
       " '/data/images/pathology/temp/Qingdao/201516196-2',\n",
       " '/data/images/pathology/temp/Qingdao/201618847-3',\n",
       " '/data/images/pathology/temp/Qingdao/201600666-3',\n",
       " '/data/images/pathology/temp/Qingdao/z58b',\n",
       " '/data/images/pathology/temp/Qingdao/201521653-4',\n",
       " '/data/images/pathology/temp/Qingdao/201627806-2',\n",
       " '/data/images/pathology/temp/Qingdao/201704215-4',\n",
       " '/data/images/pathology/temp/Qingdao/201653955-4',\n",
       " '/data/images/pathology/temp/Qingdao/201517097-2',\n",
       " '/data/images/pathology/temp/Qingdao/201647273-3',\n",
       " '/data/images/pathology/temp/Qingdao/201624650-1']"
      ]
     },
     "execution_count": 39,
     "metadata": {},
     "output_type": "execute_result"
    }
   ],
   "source": [
    "data"
   ]
  },
  {
   "cell_type": "code",
   "execution_count": 41,
   "metadata": {
    "ExecuteTime": {
     "end_time": "2021-05-19T04:03:01.382638Z",
     "start_time": "2021-05-19T04:03:01.375241Z"
    }
   },
   "outputs": [],
   "source": [
    "slidenoxml = []\n",
    "for xml in data:\n",
    "    slide = xml.split('/')[-1]\n",
    "    pid = slide.split('-')[0]\n",
    "    if len(slide.split('-'))>2:\n",
    "        pid = slide.split('-')[0]+ '-' + slide.split('-')[1]\n",
    "    if pid in reportslide_test:\n",
    "        slidenoxml.append(slide)"
   ]
  },
  {
   "cell_type": "code",
   "execution_count": 43,
   "metadata": {
    "ExecuteTime": {
     "end_time": "2021-05-19T04:04:20.229012Z",
     "start_time": "2021-05-19T04:04:20.225301Z"
    }
   },
   "outputs": [
    {
     "name": "stdout",
     "output_type": "stream",
     "text": [
      "201610196-3 exist\n",
      "201610196-5 exist\n"
     ]
    }
   ],
   "source": [
    "slidenoxml\n",
    "for slide in testslide:\n",
    "    if slide in slidenoxml:\n",
    "        print(slide,'exist')"
   ]
  },
  {
   "cell_type": "code",
   "execution_count": 49,
   "metadata": {
    "ExecuteTime": {
     "end_time": "2021-05-19T04:14:17.715606Z",
     "start_time": "2021-05-19T04:14:17.711159Z"
    }
   },
   "outputs": [],
   "source": [
    "spids = ['16-047997',\n",
    "'16-054780',\n",
    "'17-002790',\n",
    "'17-003466',\n",
    "'17-004215',\n",
    "'17-043414',\n",
    "'17-046476',\n",
    "'201604335',\n",
    "'201629755',\n",
    "'201630452',\n",
    "'17-032799',\n",
    "'18-20928']"
   ]
  },
  {
   "cell_type": "code",
   "execution_count": 50,
   "metadata": {
    "ExecuteTime": {
     "end_time": "2021-05-19T04:14:19.815933Z",
     "start_time": "2021-05-19T04:14:19.808046Z"
    }
   },
   "outputs": [],
   "source": [
    "ss = []\n",
    "for slide in slidenoxml:\n",
    "    pid = slide.split('-')[0]\n",
    "    if len(slide.split('-'))>2:\n",
    "        pid = slide.split('-')[0]+ '-' + slide.split('-')[1]\n",
    "    if pid in spids:\n",
    "        ss.append(slide)"
   ]
  },
  {
   "cell_type": "code",
   "execution_count": 60,
   "metadata": {
    "ExecuteTime": {
     "end_time": "2021-05-19T04:28:55.489827Z",
     "start_time": "2021-05-19T04:28:55.479522Z"
    },
    "scrolled": true
   },
   "outputs": [],
   "source": [
    "np.save('slistse.npy',ss)"
   ]
  },
  {
   "cell_type": "code",
   "execution_count": 55,
   "metadata": {
    "ExecuteTime": {
     "end_time": "2021-05-19T04:15:48.300320Z",
     "start_time": "2021-05-19T04:15:48.291164Z"
    }
   },
   "outputs": [],
   "source": [
    "with open('plist.json','r') as f:\n",
    "     data = json.load(f)"
   ]
  },
  {
   "cell_type": "code",
   "execution_count": 57,
   "metadata": {
    "ExecuteTime": {
     "end_time": "2021-05-19T04:18:38.078918Z",
     "start_time": "2021-05-19T04:18:38.073901Z"
    }
   },
   "outputs": [],
   "source": [
    "dataselect = {}\n",
    "for slide in ss:\n",
    "    pid = slide.split('-')[0]\n",
    "    if len(slide.split('-'))>2:\n",
    "        pid = slide.split('-')[0]+ '-' + slide.split('-')[1]\n",
    "    dataselect[pid] = [slide]"
   ]
  },
  {
   "cell_type": "code",
   "execution_count": 59,
   "metadata": {
    "ExecuteTime": {
     "end_time": "2021-05-19T04:19:21.612994Z",
     "start_time": "2021-05-19T04:19:21.603712Z"
    }
   },
   "outputs": [],
   "source": [
    "with open('plistse.json','w') as f:\n",
    "     json.dump(dataselect,f)"
   ]
  },
  {
   "cell_type": "code",
   "execution_count": 58,
   "metadata": {
    "ExecuteTime": {
     "end_time": "2021-05-19T04:18:40.454215Z",
     "start_time": "2021-05-19T04:18:40.448423Z"
    }
   },
   "outputs": [
    {
     "data": {
      "text/plain": [
       "{'17-043414': ['17-043414-1'],\n",
       " '201630452': ['201630452-3'],\n",
       " '17-046476': ['17-046476-2'],\n",
       " '201629755': ['201629755-4']}"
      ]
     },
     "execution_count": 58,
     "metadata": {},
     "output_type": "execute_result"
    }
   ],
   "source": [
    "dataselect"
   ]
  },
  {
   "cell_type": "code",
   "execution_count": null,
   "metadata": {},
   "outputs": [],
   "source": []
  },
  {
   "cell_type": "code",
   "execution_count": 61,
   "metadata": {
    "ExecuteTime": {
     "end_time": "2021-05-19T07:34:29.669538Z",
     "start_time": "2021-05-19T07:34:29.665460Z"
    }
   },
   "outputs": [],
   "source": [
    "with open('cellfeaturesn.json','r') as f:\n",
    "    cf = json.load(f)"
   ]
  },
  {
   "cell_type": "code",
   "execution_count": 66,
   "metadata": {
    "ExecuteTime": {
     "end_time": "2021-05-19T07:39:05.386370Z",
     "start_time": "2021-05-19T07:39:03.513050Z"
    }
   },
   "outputs": [],
   "source": [
    "cfnew = {}\n",
    "df = pd.read_excel('feats.xlsx',engine='openpyxl')"
   ]
  },
  {
   "cell_type": "code",
   "execution_count": 71,
   "metadata": {
    "ExecuteTime": {
     "end_time": "2021-05-19T07:40:10.373005Z",
     "start_time": "2021-05-19T07:40:10.368943Z"
    }
   },
   "outputs": [
    {
     "data": {
      "text/plain": [
       "array([['17-043414-1', 1, 1, 1, 1, 1, 1],\n",
       "       ['17-043414-2', 1, 1, 1, 1, 1, 1],\n",
       "       ['17-043414-3', 1, 1, 1, 1, 0, 1],\n",
       "       ['17-043414-4', 1, 1, 1, 1, 0, 1],\n",
       "       ['17-046476-1', 0, 0, 0, 0, 1, 0],\n",
       "       ['17-046476-2', 0, 0, 0, 0, 0, 0],\n",
       "       ['17-046476-3', 0, 0, 0, 0, 1, 0],\n",
       "       ['17-046476-4', 0, 0, 0, 0, 1, 0],\n",
       "       ['201629755-2', 1, 1, 1, 0, 1, 1],\n",
       "       ['201629755-3', 1, 1, 1, 0, 1, 1],\n",
       "       ['201629755-4', 1, 1, 1, 0, 1, 1],\n",
       "       ['201630452-2', 0, 0, 0, 1, 0, 1],\n",
       "       ['201630452-3', 0, 0, 0, 1, 1, 0],\n",
       "       ['201630452-4', 0, 0, 0, 1, 1, 0]], dtype=object)"
      ]
     },
     "execution_count": 71,
     "metadata": {},
     "output_type": "execute_result"
    }
   ],
   "source": [
    "data = df.values\n",
    "data"
   ]
  },
  {
   "cell_type": "code",
   "execution_count": 74,
   "metadata": {
    "ExecuteTime": {
     "end_time": "2021-05-19T07:41:00.406783Z",
     "start_time": "2021-05-19T07:41:00.402145Z"
    }
   },
   "outputs": [
    {
     "data": {
      "text/plain": [
       "[1, 1, 1, 1, 1, 1]"
      ]
     },
     "execution_count": 74,
     "metadata": {},
     "output_type": "execute_result"
    }
   ],
   "source": [
    "data[0,1:].tolist()"
   ]
  },
  {
   "cell_type": "code",
   "execution_count": 76,
   "metadata": {
    "ExecuteTime": {
     "end_time": "2021-05-19T07:41:18.442583Z",
     "start_time": "2021-05-19T07:41:18.438092Z"
    }
   },
   "outputs": [
    {
     "data": {
      "text/plain": [
       "[2, 1, 1, 0, 0, 1]"
      ]
     },
     "execution_count": 76,
     "metadata": {},
     "output_type": "execute_result"
    }
   ],
   "source": [
    "cf['201434013-2']"
   ]
  },
  {
   "cell_type": "code",
   "execution_count": 77,
   "metadata": {
    "ExecuteTime": {
     "end_time": "2021-05-19T07:41:44.087899Z",
     "start_time": "2021-05-19T07:41:44.084679Z"
    }
   },
   "outputs": [],
   "source": [
    "for i in range(14):\n",
    "    cf[data[i,0]] = data[i,1:].tolist()"
   ]
  },
  {
   "cell_type": "code",
   "execution_count": 79,
   "metadata": {
    "ExecuteTime": {
     "end_time": "2021-05-19T07:41:55.631484Z",
     "start_time": "2021-05-19T07:41:55.615384Z"
    }
   },
   "outputs": [
    {
     "data": {
      "text/plain": [
       "{'201434013-2': [2, 1, 1, 0, 0, 1],\n",
       " '201434013-3': [2, 1, 1, 0, 0, 0],\n",
       " '201434013-4': [2, 1, 1, 0, 0, 0],\n",
       " '201434013-5': [2, 1, 1, 0, 0, 0],\n",
       " '201434539-2': [1, 1, 0, 0, 0, 0],\n",
       " '201434539-3': [1, 1, 0, 0, 0, 0],\n",
       " '201434539-4': [1, 0, 0, 0, 0, 0],\n",
       " '201434822-1': [0, 0, 0, 1, 0, 0],\n",
       " '201434822-2': [0, 0, 0, 1, 1, 0],\n",
       " '201434822-4': [0, 0, 0, 0, 1, 1],\n",
       " '201435884-1': [1, 1, 1, 1, 0, 1],\n",
       " '201435884-2': [1, 0, 1, 0, 0, 0],\n",
       " '201436170-2': [1, 0, 0, 0, 0, 1],\n",
       " '201436170-3': [1, 0, 1, 0, 0, 0],\n",
       " '201436170-4': [1, 1, 1, 1, 0, 1],\n",
       " '201436453-1': [1, 0, 0, 0, 0, 1],\n",
       " '201436453-3': [1, 0, 1, 0, 0, 1],\n",
       " '201530023-3': [1, 1, 1, 1, 0, 1],\n",
       " '201600666-1': [0, 1, 0, 0, 1, 1],\n",
       " '201600666-3': [0, 1, 1, 0, 1, 0],\n",
       " '201600666-4': [0, 1, 1, 0, 1, 0],\n",
       " '201600666-5': [0, 1, 0, 0, 0, 1],\n",
       " '201601564-3': [2, 0, 1, 0, 0, 0],\n",
       " '201601684-1': [0, 0, 0, 0, 0, 1],\n",
       " '201601684-3': [0, 0, 0, 0, 0, 0],\n",
       " '201601684-4': [0, 0, 0, 0, 0, 1],\n",
       " '201601986-2': [0, 0, 0, 1, 0, 0],\n",
       " '201601986-3': [0, 0, 0, 1, 0, 0],\n",
       " '201601986-4': [0, 0, 0, 1, 0, 0],\n",
       " '201435885-4': [1, 1, 1, 0, 0, 0],\n",
       " '201600623-1': [0, 1, 1, 1, 0, 0],\n",
       " '201600623-2': [0, 1, 0, 1, 0, 0],\n",
       " '201600623-3': [0, 1, 0, 1, 0, 0],\n",
       " '201602454-1': [0, 1, 0, 1, 1, 0],\n",
       " '201602454-2': [0, 1, 0, 1, 0, 0],\n",
       " '201602683-2': [0, 1, 0, 1, 0, 0],\n",
       " '201602683-3': [0, 0, 0, 1, 0, 1],\n",
       " '201602683-4': [0, 0, 0, 1, 0, 1],\n",
       " '201603238-1': [0, 0, 0, 1, 0, 0],\n",
       " '201603238-2': [0, 0, 0, 1, 0, 0],\n",
       " '201603238-4': [0, 0, 0, 0, 1, 0],\n",
       " '201603916-1': [1, 1, 1, 0, 1, 0],\n",
       " '201603916-2': [1, 1, 1, 0, 0, 0],\n",
       " '201603916-3': [1, 1, 1, 0, 0, 0],\n",
       " '201604045-2': [1, 1, 1, 1, 0, 1],\n",
       " '201604335-1': [1, 0, 1, 0, 0, 0],\n",
       " '201604335-2': [1, 1, 1, 0, 0, 0],\n",
       " '201604335-3': [1, 0, 1, 0, 0, 0],\n",
       " '201605479-1': [1, 1, 0, 0, 0, 0],\n",
       " '201605479-2': [1, 1, 1, 0, 0, 0],\n",
       " '201605479-3': [1, 1, 1, 0, 0, 0],\n",
       " '201605479-4': [1, 1, 1, 0, 0, 1],\n",
       " '201608537-1': [1, 1, 0, 0, 0, 0],\n",
       " '201608537-2': [1, 1, 1, 0, 0, 0],\n",
       " '201608537-4': [1, 1, 1, 0, 0, 0],\n",
       " '201609207-2': [1, 1, 1, 0, 0, 0],\n",
       " '201609207-4': [1, 0, 1, 0, 0, 0],\n",
       " '201609207-5': [1, 1, 1, 0, 0, 0],\n",
       " '201609810-1': [0, 1, 0, 0, 0, 0],\n",
       " '201609810-2': [0, 1, 0, 0, 0, 0],\n",
       " '201609810-3': [0, 1, 0, 0, 0, 0],\n",
       " '201610196-3': [0, 1, 0, 0, 0, 0],\n",
       " '201610196-5': [0, 1, 1, 0, 0, 0],\n",
       " '201612290-1': [0, 1, 0, 0, 1, 0],\n",
       " '201612290-2': [0, 1, 0, 0, 1, 0],\n",
       " '201613577-1': [1, 1, 0, 1, 1, 0],\n",
       " '201613577-2': [1, 1, 0, 1, 0, 0],\n",
       " '201613577-3': [1, 1, 0, 1, 1, 0],\n",
       " '201613577-4': [1, 1, 0, 1, 1, 0],\n",
       " '201613035-1': [0, 1, 0, 0, 0, 0],\n",
       " '201613035-2': [0, 0, 0, 0, 1, 0],\n",
       " '201613035-3': [0, 0, 0, 0, 0, 0],\n",
       " '201613035-4': [0, 1, 1, 0, 0, 0],\n",
       " '201612916-1': [1, 1, 1, 0, 0, 0],\n",
       " '201612916-2': [1, 1, 1, 0, 0, 0],\n",
       " '201612916-3': [1, 1, 1, 0, 0, 1],\n",
       " '201612916-5': [1, 1, 1, 0, 0, 1],\n",
       " '201440763-1': [0, 1, 1, 1, 0, 0],\n",
       " '201440763-3': [0, 1, 0, 1, 0, 0],\n",
       " '201440763-5': [0, 1, 0, 1, 0, 0],\n",
       " '201440427-1': [1, 1, 0, 1, 0, 1],\n",
       " '201440427-3': [1, 1, 0, 0, 0, 1],\n",
       " '201439629-1': [1, 1, 1, 0, 1, 0],\n",
       " '201439629-2': [1, 1, 1, 0, 1, 0],\n",
       " '201439629-3': [1, 1, 1, 0, 1, 0],\n",
       " '201439600-1': [1, 1, 1, 0, 1, 0],\n",
       " '201439600-2': [1, 1, 1, 0, 1, 0],\n",
       " '201439600-3': [1, 1, 1, 0, 1, 0],\n",
       " '201439203-1': [1, 1, 1, 0, 0, 0],\n",
       " '201439203-2': [1, 1, 1, 0, 0, 0],\n",
       " '201439203-3': [1, 1, 1, 0, 0, 1],\n",
       " '201438360-1': [0, 1, 0, 0, 0, 0],\n",
       " '201438360-2': [0, 1, 0, 0, 0, 0],\n",
       " '201438360-3': [0, 1, 0, 0, 0, 1],\n",
       " '201438360-4': [0, 1, 0, 0, 0, 1],\n",
       " '201437429-1': [1, 1, 1, 0, 0, 1],\n",
       " '201437429-2': [1, 1, 1, 0, 0, 0],\n",
       " '201437429-3': [1, 1, 1, 0, 0, 1],\n",
       " '201437427-2': [1, 1, 1, 0, 0, 0],\n",
       " '201437427-3': [1, 1, 1, 0, 0, 1],\n",
       " '201437427-4': [0, 0, 0, 0, 0, 1],\n",
       " '201437378-1': [1, 1, 1, 0, 0, 1],\n",
       " '201437378-3': [1, 1, 1, 0, 0, 1],\n",
       " '201436749-1': [1, 1, 1, 1, 1, 0],\n",
       " '201436749-3': [1, 1, 1, 1, 1, 0],\n",
       " '17-043414-1': [1, 1, 1, 1, 1, 1],\n",
       " '17-043414-2': [1, 1, 1, 1, 1, 1],\n",
       " '17-043414-3': [1, 1, 1, 1, 0, 1],\n",
       " '17-043414-4': [1, 1, 1, 1, 0, 1],\n",
       " '17-046476-1': [0, 0, 0, 0, 1, 0],\n",
       " '17-046476-2': [0, 0, 0, 0, 0, 0],\n",
       " '17-046476-3': [0, 0, 0, 0, 1, 0],\n",
       " '17-046476-4': [0, 0, 0, 0, 1, 0],\n",
       " '201629755-2': [1, 1, 1, 0, 1, 1],\n",
       " '201629755-3': [1, 1, 1, 0, 1, 1],\n",
       " '201629755-4': [1, 1, 1, 0, 1, 1],\n",
       " '201630452-2': [0, 0, 0, 1, 0, 1],\n",
       " '201630452-3': [0, 0, 0, 1, 1, 0],\n",
       " '201630452-4': [0, 0, 0, 1, 1, 0]}"
      ]
     },
     "execution_count": 79,
     "metadata": {},
     "output_type": "execute_result"
    }
   ],
   "source": [
    "cf"
   ]
  },
  {
   "cell_type": "code",
   "execution_count": 80,
   "metadata": {
    "ExecuteTime": {
     "end_time": "2021-05-19T07:45:23.905500Z",
     "start_time": "2021-05-19T07:45:23.895878Z"
    }
   },
   "outputs": [],
   "source": [
    "with open('cellfeaturesn2.json','w') as f:\n",
    "    json.dump(cf,f)"
   ]
  },
  {
   "cell_type": "code",
   "execution_count": 82,
   "metadata": {
    "ExecuteTime": {
     "end_time": "2021-05-19T07:48:51.171810Z",
     "start_time": "2021-05-19T07:48:51.167697Z"
    }
   },
   "outputs": [],
   "source": [
    "testslide = np.load('testslide.npy')"
   ]
  },
  {
   "cell_type": "code",
   "execution_count": 86,
   "metadata": {
    "ExecuteTime": {
     "end_time": "2021-05-19T07:49:19.355226Z",
     "start_time": "2021-05-19T07:49:19.350575Z"
    }
   },
   "outputs": [
    {
     "data": {
      "text/plain": [
       "array(['201601986-2', '201610196-3', '201434013-4', '201610196-5',\n",
       "       '201439600-1', '201605479-1', '201436453-3', '201437427-4',\n",
       "       '201609207-4', '201604335-1', '201613577-2', '201437429-3',\n",
       "       '201605479-4', '201436170-3', '201434822-1', '201600623-1'],\n",
       "      dtype='<U11')"
      ]
     },
     "execution_count": 86,
     "metadata": {},
     "output_type": "execute_result"
    }
   ],
   "source": [
    "testslide"
   ]
  },
  {
   "cell_type": "code",
   "execution_count": 88,
   "metadata": {
    "ExecuteTime": {
     "end_time": "2021-05-19T07:50:02.673122Z",
     "start_time": "2021-05-19T07:50:02.670148Z"
    }
   },
   "outputs": [],
   "source": [
    "testslide2 = np.concatenate((testslide,data[:,0]))"
   ]
  },
  {
   "cell_type": "code",
   "execution_count": 91,
   "metadata": {
    "ExecuteTime": {
     "end_time": "2021-05-19T07:50:34.896664Z",
     "start_time": "2021-05-19T07:50:34.838028Z"
    }
   },
   "outputs": [],
   "source": [
    "np.save('testslide2.npy',testslide2)"
   ]
  },
  {
   "cell_type": "code",
   "execution_count": null,
   "metadata": {},
   "outputs": [],
   "source": []
  },
  {
   "cell_type": "code",
   "execution_count": 97,
   "metadata": {
    "ExecuteTime": {
     "end_time": "2021-05-19T07:51:39.570307Z",
     "start_time": "2021-05-19T07:51:39.567127Z"
    }
   },
   "outputs": [],
   "source": [
    "with open('dataconfig/slideindex.json','r') as f:\n",
    "    si = json.load(f)"
   ]
  },
  {
   "cell_type": "code",
   "execution_count": 99,
   "metadata": {
    "ExecuteTime": {
     "end_time": "2021-05-19T07:51:52.341088Z",
     "start_time": "2021-05-19T07:51:52.336863Z"
    }
   },
   "outputs": [
    {
     "data": {
      "text/plain": [
       "200"
      ]
     },
     "execution_count": 99,
     "metadata": {},
     "output_type": "execute_result"
    }
   ],
   "source": [
    "len(si['201601986-2'])"
   ]
  },
  {
   "cell_type": "code",
   "execution_count": 100,
   "metadata": {
    "ExecuteTime": {
     "end_time": "2021-05-19T07:53:22.890788Z",
     "start_time": "2021-05-19T07:53:22.885279Z"
    }
   },
   "outputs": [],
   "source": [
    "for slide in testslide2:\n",
    "    index = np.random.choice(np.arange(700),size=200,replace=False)\n",
    "    si[slide] = index.tolist()"
   ]
  },
  {
   "cell_type": "code",
   "execution_count": 104,
   "metadata": {
    "ExecuteTime": {
     "end_time": "2021-05-19T07:54:13.125216Z",
     "start_time": "2021-05-19T07:54:13.105678Z"
    }
   },
   "outputs": [],
   "source": [
    "with open('dataconfig/slideindex2.json','w') as f:\n",
    "    json.dump(si,f)"
   ]
  }
 ],
 "metadata": {
  "kernelspec": {
   "display_name": "Python 3",
   "language": "python",
   "name": "python3"
  },
  "language_info": {
   "codemirror_mode": {
    "name": "ipython",
    "version": 3
   },
   "file_extension": ".py",
   "mimetype": "text/x-python",
   "name": "python",
   "nbconvert_exporter": "python",
   "pygments_lexer": "ipython3",
   "version": "3.7.9"
  },
  "toc": {
   "base_numbering": 1,
   "nav_menu": {},
   "number_sections": true,
   "sideBar": true,
   "skip_h1_title": false,
   "title_cell": "Table of Contents",
   "title_sidebar": "Contents",
   "toc_cell": false,
   "toc_position": {},
   "toc_section_display": true,
   "toc_window_display": false
  }
 },
 "nbformat": 4,
 "nbformat_minor": 4
}
