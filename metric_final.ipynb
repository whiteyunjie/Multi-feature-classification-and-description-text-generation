{
 "cells": [
  {
   "cell_type": "code",
   "execution_count": 1,
   "metadata": {
    "ExecuteTime": {
     "end_time": "2021-05-25T12:50:25.849244Z",
     "start_time": "2021-05-25T12:50:18.114093Z"
    }
   },
   "outputs": [
    {
     "name": "stderr",
     "output_type": "stream",
     "text": [
      "Duplicate key in file PosixPath('/home/yinxiaoxu/anaconda3/envs/py37/lib/python3.7/site-packages/matplotlib/mpl-data/matplotlibrc'), line 252 ('font.family:  sans-serif')\n",
      "Duplicate key in file PosixPath('/home/yinxiaoxu/anaconda3/envs/py37/lib/python3.7/site-packages/matplotlib/mpl-data/matplotlibrc'), line 260 ('font.sans-serif: DejaVu Sans, Bitstream Vera Sans, Computer Modern Sans Serif, Lucida Grande, Verdana, Geneva, Lucid, Arial, Helvetica, Avant Garde, sans-serif')\n",
      "Duplicate key in file PosixPath('/home/yinxiaoxu/anaconda3/envs/py37/lib/python3.7/site-packages/matplotlib/mpl-data/matplotlibrc'), line 403 ('axes.unicode_minus: True  # use Unicode for the minus symbol rather than hyphen.  See')\n"
     ]
    }
   ],
   "source": [
    "import sys\n",
    "import os\n",
    "import argparse\n",
    "import logging\n",
    "import json\n",
    "import time\n",
    "\n",
    "import numpy as np\n",
    "import torch\n",
    "import pickle\n",
    "os.environ[\"CUDA_VISIBLE_DEVICES\"]=\"1,2\"\n",
    "from torch.utils.data import DataLoader\n",
    "from torch.autograd import Variable\n",
    "from torch.nn import BCEWithLogitsLoss, BCELoss ,CrossEntropyLoss\n",
    "from torch.optim import SGD\n",
    "from torchvision import models\n",
    "from torch import nn\n",
    "\n",
    "from tqdm import tqdm\n",
    "from tensorboardX import SummaryWriter\n",
    "from imagedataset import ImageDataset, WSIimageDataset, GradeImageDataset, tumorImageDataset\n",
    "from testloader import WSIimageDatasetpredict\n",
    "from clsmodels.models import create_model\n",
    "from clsmodels import resnet_fpn,senet_fpn\n",
    "from sklearn.metrics import roc_curve, auc, confusion_matrix\n",
    "from sklearn.metrics import precision_recall_curve,average_precision_score\n",
    "from testloader import WSIimageDatasetpredict,WSIimageDatasetpredict2\n",
    "from clsmodels import resnet_fpn_sf,senet_fpn_sf\n",
    "from clsmodels import efficientdet_sf\n",
    "import itertools\n",
    "import matplotlib.pyplot as plt\n",
    "from PIL import Image\n",
    "from sklearn.metrics import confusion_matrix\n",
    "from sklearn import svm\n",
    "from sklearn.model_selection import train_test_split"
   ]
  },
  {
   "cell_type": "code",
   "execution_count": 2,
   "metadata": {
    "ExecuteTime": {
     "end_time": "2021-05-25T12:50:25.864900Z",
     "start_time": "2021-05-25T12:50:25.851462Z"
    }
   },
   "outputs": [],
   "source": [
    "## 训练集测试集列表，通用的\n",
    "slist = np.load('fin.npy')\n",
    "with open('cellfeaturesn.json','r') as f:\n",
    "    cf = json.load(f)\n",
    "slidelist = []\n",
    "for slide in slist:\n",
    "    if slide in cf:\n",
    "        slidelist.append(slide)\n",
    "\n",
    "i = 0\n",
    "with open('dataconfig/rateall.json','r') as f:\n",
    "    cf = json.load(f)\n",
    "slidelist1 = []\n",
    "for slide in slist:\n",
    "    if slide in cf:\n",
    "        slidelist1.append(slide)\n",
    "\n",
    "testslide = np.load('testslide.npy')"
   ]
  },
  {
   "cell_type": "code",
   "execution_count": 3,
   "metadata": {
    "ExecuteTime": {
     "end_time": "2021-05-25T12:50:25.877870Z",
     "start_time": "2021-05-25T12:50:25.866696Z"
    }
   },
   "outputs": [],
   "source": [
    "bs = 32"
   ]
  },
  {
   "cell_type": "markdown",
   "metadata": {},
   "source": [
    "## metric"
   ]
  },
  {
   "cell_type": "markdown",
   "metadata": {},
   "source": [
    "### nf、ncr、shape"
   ]
  },
  {
   "cell_type": "code",
   "execution_count": 5,
   "metadata": {
    "ExecuteTime": {
     "end_time": "2021-05-17T01:00:24.196964Z",
     "start_time": "2021-05-17T01:00:23.851147Z"
    }
   },
   "outputs": [],
   "source": [
    "# 生成dataset\n",
    "with open('dataconfig/rateall.json','r') as f:\n",
    "    samplerate = json.load(f)\n",
    "\n",
    "traindataset = ImageDataset(slidelist1,512,1,samplerate,True)                            \n",
    "traindataloader = DataLoader(traindataset,batch_size = bs)\n",
    "\n",
    "with open('dataconfig/rateval_all.json','r') as f:\n",
    "    samplerate = json.load(f)\n",
    "\n",
    "valdataset = ImageDataset(testslide,512,1,samplerate,False)                            \n",
    "valdataloader = DataLoader(valdataset,batch_size = bs)\n",
    "classnum = 2"
   ]
  },
  {
   "cell_type": "code",
   "execution_count": 75,
   "metadata": {
    "ExecuteTime": {
     "end_time": "2021-05-17T01:52:32.534065Z",
     "start_time": "2021-05-17T01:52:32.035058Z"
    }
   },
   "outputs": [
    {
     "name": "stdout",
     "output_type": "stream",
     "text": [
      "create_pretrained_densenet 121\n"
     ]
    }
   ],
   "source": [
    "##CNN式模型\n",
    "###3个特征得重复利用\n",
    "#backbone = 'resnet34'\n",
    "backbone = 'densenet121'\n",
    "weights = 'temp/checkpoints/ncr/densenet121/densenet121_0_1_best.pth.tar'\n",
    "model = create_model(backbone,pretrained = True,num_classes=classnum)\n"
   ]
  },
  {
   "cell_type": "code",
   "execution_count": 90,
   "metadata": {
    "ExecuteTime": {
     "end_time": "2021-05-17T01:58:39.362484Z",
     "start_time": "2021-05-17T01:58:39.150509Z"
    }
   },
   "outputs": [],
   "source": [
    "##CNNFPN_sf模型\n",
    "# weights = 'temp/checkpoints/ncr/resnet34_fpn_classifier/resnet34_fpn_classifier_5_1_best.pth.tar'\n",
    "# model = resnet_fpn_sf.resnet34_fpn_classifier(num_classes=[2,2,2],pretrained = True)\n",
    "\n",
    "# weights = 'temp/checkpoints/ncr/se_resnet50_fpn_classifier/se_resnet50_fpn_classifier_10_1_best.pth.tar'\n",
    "# model = senet_fpn_sf.se_resnet50_fpn_classifier(num_classes=[2,2,2])\n",
    "\n",
    "weights = 'temp/checkpoints/ncr/efficientnet_bifpn_classifier/efficientnet_bifpn_classifier_22_1_best.pth.tar'\n",
    "model = efficientdet_sf.EfficientDetBackbone(num_classes=[2,2,2])"
   ]
  },
  {
   "cell_type": "code",
   "execution_count": 91,
   "metadata": {
    "ExecuteTime": {
     "end_time": "2021-05-17T01:58:40.567842Z",
     "start_time": "2021-05-17T01:58:40.378343Z"
    }
   },
   "outputs": [],
   "source": [
    "#研究一下dataparallel\n",
    "model = torch.nn.DataParallel(model)\n",
    "model = model.cuda()\n",
    "\n",
    "model.load_state_dict(torch.load(weights))\n",
    "#loss_fn = CrossEntropyLoss().cuda()\n",
    "loss_fn = BCEWithLogitsLoss().cuda()\n",
    "#optimizer = SGD(model.parameters(), lr=0.01, momentum=0.9)\n",
    "#optimizer = torch.optim.Adam(model.parameters(),lr=1e-5,weight_decay = 5e-4)\n",
    "#scheduler = torch.optim.lr_scheduler.ReduceLROnPlateau(optimizer,patience=10,verbose=True)"
   ]
  },
  {
   "cell_type": "code",
   "execution_count": 92,
   "metadata": {
    "ExecuteTime": {
     "end_time": "2021-05-17T01:59:35.599069Z",
     "start_time": "2021-05-17T01:58:41.238721Z"
    }
   },
   "outputs": [
    {
     "name": "stderr",
     "output_type": "stream",
     "text": [
      "\r",
      "  0%|          | 0/75 [00:00<?, ?it/s]"
     ]
    },
    {
     "name": "stdout",
     "output_type": "stream",
     "text": [
      "Num training images: 2390\n"
     ]
    },
    {
     "name": "stderr",
     "output_type": "stream",
     "text": [
      "cls_nf: 0.4895 acc_nf: 0.8179: 100%|██████████| 75/75 [00:54<00:00,  1.38it/s]\n"
     ]
    }
   ],
   "source": [
    "# 注意，记得改label的索引\n",
    "model.eval()\n",
    "#model.module.freeze_bn()\n",
    "ALPHA = 0.5\n",
    "print('Num training images: {}'.format(len(valdataset)))\n",
    "with torch.no_grad():\n",
    "    model.eval()\n",
    "    epoch_loss_val = []\n",
    "    loss_val = []\n",
    "    acc_val = []\n",
    "    preds = []\n",
    "    trues = []\n",
    "    probs = []\n",
    "\n",
    "    progress_bar = tqdm(enumerate(valdataloader),total = len(valdataloader))\n",
    "    for iter_num,data in progress_bar:\n",
    "        img,label1,label2,label3 = data\n",
    "        img = img.cuda().float()\n",
    "        label = label2.cuda().float()\n",
    "        output = model(img)\n",
    "\n",
    "        output = torch.squeeze(output)\n",
    "        #output2 = torch.squeeze(output2)\n",
    "        \n",
    "        prob = output.sigmoid()\n",
    "        \n",
    "        loss = loss_fn(output,label)\n",
    "        #loss_shape = loss_fn(output2,label_shape)\n",
    "\n",
    "        #loss = loss_nf + ALPHA*loss_shape\n",
    "\n",
    "        pred = output.argmax(axis=1)\n",
    "        #pred_shape = output2.argmax(axis=1)\n",
    "\n",
    "        #print(pred_shape)\n",
    "        #print(label_shape.argmax(axis=1))\n",
    "\n",
    "        acc = (pred == label.argmax(axis=1)).sum().data * 1.0/32\n",
    "        #acc_shape = (pred_shape == label_shape.argmax(axis=1)).sum().data * 1.0/32\n",
    "\n",
    "        loss_val.append(float(loss))\n",
    "        #loss_cls2_val.append(float(loss_shape))\n",
    "        #epoch_loss_val.append(float(loss))\n",
    "        acc_val.append(float(acc))\n",
    "        #acc_cls2_val.append(float(acc_shape))\n",
    "        preds.extend(np.array(pred.cpu()).tolist())\n",
    "        #pred2.extend(np.array(pred_shape.cpu()).tolist())\n",
    "        trues.extend(np.array(label.argmax(axis=1).cpu()).tolist())\n",
    "        #true2.extend(np.array(label_shape.argmax(axis=1).cpu()).tolist())\n",
    "        probs.extend(np.array(prob[:,1].cpu()).tolist())\n",
    "\n",
    "        progress_bar.set_description(\n",
    "            f'cls_nf: {np.mean(loss_val):1.4f} acc_nf: {np.mean(acc_val):1.4f}')"
   ]
  },
  {
   "cell_type": "code",
   "execution_count": 93,
   "metadata": {
    "ExecuteTime": {
     "end_time": "2021-05-17T01:59:39.816375Z",
     "start_time": "2021-05-17T01:59:39.799983Z"
    }
   },
   "outputs": [
    {
     "name": "stdout",
     "output_type": "stream",
     "text": [
      "pre:0.8541,rec:0.8041,spe:0.8413,acc:0.8213,f1-score:0.8283\n"
     ]
    }
   ],
   "source": [
    "# 单特征结果\n",
    "cm = confusion_matrix(trues,preds,labels = [1,0])\n",
    "TP = cm[0,0]\n",
    "FP = cm[1,0]\n",
    "FN = cm[0,1]\n",
    "TN = cm[1,1]\n",
    "\n",
    "precision = TP/(TP+FP)\n",
    "recall = TP/(TP+FN)\n",
    "specifity = TN/(TN+FP)\n",
    "accuracy = (TP+TN)/(TP+FP+FN+TN)\n",
    "f1_score = 2*precision*recall/(precision+recall)\n",
    "\n",
    "print(f'pre:{precision:.4f},rec:{recall:.4f},spe:{specifity:.4f},acc:{accuracy:.4f},f1-score:{f1_score:.4f}')"
   ]
  },
  {
   "cell_type": "code",
   "execution_count": 74,
   "metadata": {
    "ExecuteTime": {
     "end_time": "2021-05-17T01:52:05.481979Z",
     "start_time": "2021-05-17T01:52:05.475861Z"
    }
   },
   "outputs": [],
   "source": [
    "bl_nf = {}\n",
    "bl_nf['label'] = trues\n",
    "bl_nf['prob'] = probs"
   ]
  },
  {
   "cell_type": "code",
   "execution_count": 79,
   "metadata": {
    "ExecuteTime": {
     "end_time": "2021-05-17T01:54:01.984132Z",
     "start_time": "2021-05-17T01:54:01.978940Z"
    }
   },
   "outputs": [],
   "source": [
    "## roc曲线\n",
    "dense_nf = {}\n",
    "dense_nf['label'] = trues\n",
    "dense_nf['prob'] = probs"
   ]
  },
  {
   "cell_type": "code",
   "execution_count": 84,
   "metadata": {
    "ExecuteTime": {
     "end_time": "2021-05-17T01:55:52.377989Z",
     "start_time": "2021-05-17T01:55:52.373681Z"
    }
   },
   "outputs": [],
   "source": [
    "resfpnsf_nf = {}\n",
    "resfpnsf_nf['label'] = trues\n",
    "resfpnsf_nf['prob'] = probs"
   ]
  },
  {
   "cell_type": "code",
   "execution_count": 89,
   "metadata": {
    "ExecuteTime": {
     "end_time": "2021-05-17T01:58:07.017005Z",
     "start_time": "2021-05-17T01:58:07.012518Z"
    }
   },
   "outputs": [],
   "source": [
    "seresfpnsf_nf = {}\n",
    "seresfpnsf_nf['label'] = trues\n",
    "seresfpnsf_nf['prob'] = probs"
   ]
  },
  {
   "cell_type": "code",
   "execution_count": 94,
   "metadata": {
    "ExecuteTime": {
     "end_time": "2021-05-17T02:00:45.959089Z",
     "start_time": "2021-05-17T02:00:45.953760Z"
    }
   },
   "outputs": [],
   "source": [
    "eff_nf = {}\n",
    "eff_nf['label'] = trues\n",
    "eff_nf['prob'] = probs"
   ]
  },
  {
   "cell_type": "code",
   "execution_count": 6,
   "metadata": {
    "ExecuteTime": {
     "end_time": "2021-05-17T01:00:44.950072Z",
     "start_time": "2021-05-17T01:00:38.692888Z"
    }
   },
   "outputs": [],
   "source": [
    "## CNNFPN\n",
    "model = resnet_fpn.resnet34_fpn_classifier(num_classes=[2,2,2],pretrained = True)\n",
    "#model = senet_fpn.se_resnet50_fpn_classifier(num_classes=[2,2,2])\n",
    "model = torch.nn.DataParallel(model).cuda()\n",
    "model.load_state_dict(torch.load('temp/checkpoints/resnet34_fpn_classifier/resnet34_fpn_classifier_42_shape_1_best.pth.tar'))\n",
    "#model.load_state_dict(torch.load('temp/checkpoints/resnet34_fpn_classifier/resnet34_fpn_classifier_6_nf_1_best.pth.tar'))\n",
    "#model.load_state_dict(torch.load('temp/checkpoints/resnet34_fpn_classifier/resnet34_fpn_classifier_21_shape_1_best.pth.tar'))\n",
    "\n",
    "loss_fn = BCEWithLogitsLoss().cuda()"
   ]
  },
  {
   "cell_type": "code",
   "execution_count": 7,
   "metadata": {
    "ExecuteTime": {
     "end_time": "2021-05-17T01:01:44.317049Z",
     "start_time": "2021-05-17T01:00:46.528639Z"
    }
   },
   "outputs": [
    {
     "name": "stderr",
     "output_type": "stream",
     "text": [
      "\r",
      "  0%|          | 0/75 [00:00<?, ?it/s]"
     ]
    },
    {
     "name": "stdout",
     "output_type": "stream",
     "text": [
      "Num training images: 2390\n"
     ]
    },
    {
     "name": "stderr",
     "output_type": "stream",
     "text": [
      "cls_nf: 0.5694 acc_nf: 0.7683 acc_ncr: 0.8325 acc_shape: 0.9163: 100%|██████████| 75/75 [00:57<00:00,  1.30it/s]\n"
     ]
    }
   ],
   "source": [
    "model.eval()\n",
    "#model.module.freeze_bn()\n",
    "ALPHA = 0.5\n",
    "print('Num training images: {}'.format(len(valdataset)))\n",
    "with torch.no_grad():\n",
    "    model.eval()\n",
    "    epoch_loss_val = []\n",
    "    loss_cls1_val = []\n",
    "    loss_cls2_val = []\n",
    "    acc_cls1_val = []\n",
    "    acc_cls2_val = []\n",
    "    acc_cls3_val = []\n",
    "    pred1 = []\n",
    "    pred2 = []\n",
    "    pred3 = []\n",
    "    true1 = []\n",
    "    true2 = []\n",
    "    true3 = []\n",
    "    probs1 = []\n",
    "    probs2 = []\n",
    "    probs3 = []\n",
    "\n",
    "    progress_bar = tqdm(enumerate(valdataloader),total = len(valdataloader))\n",
    "    for iter_num,data in progress_bar:\n",
    "        img, label_nf,label_ncr,label_shape = data\n",
    "        img = img.cuda().float()\n",
    "        label_nf = label_nf.cuda().float()\n",
    "        label_ncr = label_ncr.cuda().float()\n",
    "        label_shape = label_shape.cuda().float()\n",
    "        output1,output2,output3 = model(img)\n",
    "\n",
    "        output1 = torch.squeeze(output1)\n",
    "        output2 = torch.squeeze(output2)\n",
    "        output3 = torch.squeeze(output3)\n",
    "        \n",
    "        prob1 = output1.sigmoid()\n",
    "        prob2 = output2.sigmoid()\n",
    "        prob3 = output3.sigmoid()\n",
    "        \n",
    "        loss_nf = loss_fn(output1,label_nf)\n",
    "        #loss_shape = loss_fn(output2,label_shape)\n",
    "\n",
    "        #loss = loss_nf + ALPHA*loss_shape\n",
    "\n",
    "        pred_nf = output1.argmax(axis=1)\n",
    "        pred_ncr = output2.argmax(axis=1)\n",
    "        pred_shape = output3.argmax(axis=1)\n",
    "\n",
    "        #print(pred_shape)\n",
    "        #print(label_shape.argmax(axis=1))\n",
    "\n",
    "        acc_nf = (pred_nf == label_nf.argmax(axis=1)).sum().data * 1.0/32\n",
    "        acc_ncr = (pred_ncr == label_ncr.argmax(axis=1)).sum().data * 1.0/32\n",
    "        acc_shape = (pred_shape == label_shape.argmax(axis=1)).sum().data * 1.0/32\n",
    "\n",
    "        loss_cls1_val.append(float(loss_nf))\n",
    "        #loss_cls2_val.append(float(loss_shape))\n",
    "        #epoch_loss_val.append(float(loss))\n",
    "        acc_cls1_val.append(float(acc_nf))\n",
    "        acc_cls2_val.append(float(acc_ncr))\n",
    "        acc_cls3_val.append(float(acc_shape))\n",
    "        pred1.extend(np.array(pred_nf.cpu()).tolist())\n",
    "        pred2.extend(np.array(pred_ncr.cpu()).tolist())\n",
    "        pred3.extend(np.array(pred_shape.cpu()).tolist())\n",
    "        true1.extend(np.array(label_nf.argmax(axis=1).cpu()).tolist())\n",
    "        true2.extend(np.array(label_ncr.argmax(axis=1).cpu()).tolist())\n",
    "        true3.extend(np.array(label_shape.argmax(axis=1).cpu()).tolist())\n",
    "        probs1.extend(np.array(prob1[:,1].cpu()).tolist())\n",
    "        probs2.extend(np.array(prob2[:,1].cpu()).tolist())\n",
    "        probs3.extend(np.array(prob3[:,1].cpu()).tolist())\n",
    "\n",
    "\n",
    "        progress_bar.set_description(\n",
    "            f'cls_nf: {np.mean(loss_cls1_val):1.4f} acc_nf: {np.mean(acc_cls1_val):1.4f} acc_ncr: {np.mean(acc_cls2_val):1.4f} acc_shape: {np.mean(acc_cls3_val):1.4f}')\n"
   ]
  },
  {
   "cell_type": "code",
   "execution_count": 52,
   "metadata": {
    "ExecuteTime": {
     "end_time": "2021-05-16T13:30:11.330288Z",
     "start_time": "2021-05-16T13:30:11.308087Z"
    }
   },
   "outputs": [
    {
     "name": "stdout",
     "output_type": "stream",
     "text": [
      "pre:0.9137,rec:0.8739,spe:0.9526,acc:0.9238,f1-score:0.8933\n"
     ]
    }
   ],
   "source": [
    "cm = confusion_matrix(true3,pred3,labels = [1,0])\n",
    "TP = cm[0,0]\n",
    "FP = cm[1,0]\n",
    "FN = cm[0,1]\n",
    "TN = cm[1,1]\n",
    "\n",
    "precision = TP/(TP+FP)\n",
    "recall = TP/(TP+FN)\n",
    "specifity = TN/(TN+FP)\n",
    "accuracy = (TP+TN)/(TP+FP+FN+TN)\n",
    "f1_score = 2*precision*recall/(precision+recall)\n",
    "\n",
    "print(f'pre:{precision:.4f},rec:{recall:.4f},spe:{specifity:.4f},acc:{accuracy:.4f},f1-score:{f1_score:.4f}')"
   ]
  },
  {
   "cell_type": "code",
   "execution_count": 8,
   "metadata": {
    "ExecuteTime": {
     "end_time": "2021-05-17T01:01:51.271906Z",
     "start_time": "2021-05-17T01:01:51.264260Z"
    }
   },
   "outputs": [],
   "source": [
    "resfc_nf = {}\n",
    "resfc_nf['label'] = true1\n",
    "resfc_nf['prob'] = probs1\n",
    "resfc_ncr = {}\n",
    "resfc_ncr['label'] = true2\n",
    "resfc_ncr['prob'] = probs2\n",
    "resfc_shape = {}\n",
    "resfc_shape['label'] = true3\n",
    "resfc_shape['prob'] = probs3"
   ]
  },
  {
   "cell_type": "code",
   "execution_count": 95,
   "metadata": {
    "ExecuteTime": {
     "end_time": "2021-05-17T02:01:06.315777Z",
     "start_time": "2021-05-17T02:01:05.666978Z"
    }
   },
   "outputs": [
    {
     "data": {
      "image/png": "[encoded data removed]",
      "text/plain": [
       "<Figure size 864x360 with 1 Axes>"
      ]
     },
     "metadata": {
      "needs_background": "light"
     },
     "output_type": "display_data"
    }
   ],
   "source": [
    "### ROC\n",
    "plt.figure(figsize=(12,5))\n",
    "fprbl, tprbl, thresholdbl = roc_curve(bl_nf['label'],bl_nf['prob'])\n",
    "roc_aucbl = auc(fprbl,tprbl)\n",
    "plt.plot(fprbl, tprbl)\n",
    "\n",
    "fprde, tprde, thresholdde = roc_curve(dense_nf['label'],dense_nf['prob'])\n",
    "roc_aucde = auc(fprde,tprde)\n",
    "plt.plot(fprde, tprde)\n",
    "\n",
    "fprfc, tprfc, thresholdfc = roc_curve(resfpnsf_nf['label'],resfpnsf_nf['prob'])\n",
    "roc_aucfc = auc(fprfc,tprfc)\n",
    "plt.plot(fprfc, tprfc)\n",
    "\n",
    "fprfpn, tprfpn, thresholdfpn = roc_curve(resfc_ncr['label'],resfc_ncr['prob'])\n",
    "roc_aucfpn = auc(fprfpn,tprfpn)\n",
    "plt.plot(fprfpn, tprfpn)\n",
    "\n",
    "fprsefpn, tprsefpn, thresholdsefpn = roc_curve(seresfpnsf_nf['label'],seresfpnsf_nf['prob'])\n",
    "roc_aucsefpn = auc(fprsefpn,tprsefpn)\n",
    "plt.plot(fprsefpn, tprsefpn)\n",
    "\n",
    "fpreff, tpreff, thresholdeff = roc_curve(eff_nf['label'],eff_nf['prob'])\n",
    "roc_auceff = auc(fpreff,tpreff)\n",
    "plt.plot(fpreff, tpreff)\n",
    "\n",
    "plt.xlabel('False Positive Rate')\n",
    "plt.ylabel('True Positive Rate')\n",
    "plt.legend([f'baseline auc:{roc_aucbl:.4f}',f'densenet121 auc:{roc_aucde:.4f}',f'FPN_FF(resnet34) auc:{roc_aucfc:.4f}',f'FPN_MFC(resnet34) auc:{roc_aucfpn:.4f}',f'FPN_FF(se-resnet50) auc:{roc_aucsefpn:.4f}',f'BiFPN_FF(efficientnet) auc:{roc_auceff:.4f}'])\n",
    "plt.title('ROC curve between different models(ncr)')\n",
    "#plt.savefig('roc_curve_ncr.png')\n",
    "plt.show()"
   ]
  },
  {
   "cell_type": "code",
   "execution_count": 96,
   "metadata": {
    "ExecuteTime": {
     "end_time": "2021-05-17T02:02:04.010017Z",
     "start_time": "2021-05-17T02:02:03.424834Z"
    }
   },
   "outputs": [
    {
     "data": {
      "image/png": "[encoded data removed]",
      "text/plain": [
       "<Figure size 864x360 with 1 Axes>"
      ]
     },
     "metadata": {
      "needs_background": "light"
     },
     "output_type": "display_data"
    }
   ],
   "source": [
    "#tempp = eff_nf['prob']\n",
    "#eff_nf['prob'] = 1-np.array(eff_nf['prob'])\n",
    "### PRC\n",
    "plt.figure(figsize=(12,5))\n",
    "prebl, recbl, thresholdbl = precision_recall_curve(bl_nf['label'],bl_nf['prob'])\n",
    "roc_aucbl = average_precision_score(bl_nf['label'],bl_nf['prob'])\n",
    "plt.plot(recbl, prebl)\n",
    "\n",
    "prede, recde, thresholdbl = precision_recall_curve(dense_nf['label'],dense_nf['prob'])\n",
    "roc_aucde = average_precision_score(dense_nf['label'],dense_nf['prob'])\n",
    "plt.plot(recde, prede)\n",
    "\n",
    "prefc, recfc, thresholdbl = precision_recall_curve(resfpnsf_nf['label'],resfpnsf_nf['prob'])\n",
    "roc_aucfc = average_precision_score(resfpnsf_nf['label'],resfpnsf_nf['prob'])\n",
    "plt.plot(recfc, prefc)\n",
    "\n",
    "prefpn, recfpn, thresholdbl = precision_recall_curve(resfc_ncr['label'],resfc_ncr['prob'])\n",
    "roc_aucfpn = average_precision_score(resfc_ncr['label'],resfc_ncr['prob'])\n",
    "plt.plot(recfpn, prefpn)\n",
    "\n",
    "presefpn, recsefpn, thresholdfpn = precision_recall_curve(seresfpnsf_nf['label'],seresfpnsf_nf['prob'])\n",
    "roc_aucsefpn = average_precision_score(seresfpnsf_nf['label'],seresfpnsf_nf['prob'])\n",
    "plt.plot(recsefpn, presefpn)\n",
    "\n",
    "preeff, receff, thresholdeff = precision_recall_curve(eff_nf['label'],eff_nf['prob'])\n",
    "roc_auceff = average_precision_score(eff_nf['label'],eff_nf['prob'])\n",
    "plt.plot(receff, preeff)\n",
    "\n",
    "plt.xlabel('Recall')\n",
    "plt.ylabel('Precision')\n",
    "plt.legend([f'baseline prc:{roc_aucbl:.4f}',f'densenet121 prc:{roc_aucde:.4f}',f'FPN_FF(resnet34) prc:{roc_aucfc:.4f}',f'FPN_MFC(resnet34) prc:{roc_aucfpn:.4f}',f'FPN_FF(se-resnet50) prc:{roc_aucsefpn:.4f}',f'BiFPN_FF(efficientnet) prc:{roc_auceff:.4f}'])\n",
    "plt.title('PRC curve between different models(ncr)')\n",
    "#plt.savefig('prc_curve_nf.png')\n",
    "plt.show()"
   ]
  },
  {
   "cell_type": "code",
   "execution_count": null,
   "metadata": {},
   "outputs": [],
   "source": [
    "seresfpn_ncr['prob'] = 1-np.array(seresfpn_ncr['prob'])\n",
    "### ROC\n",
    "plt.figure(figsize=(12,5))\n",
    "fprbl, tprbl, thresholdbl = roc_curve(bl_ncr['label'],bl_ncr['prob'])\n",
    "roc_aucbl = auc(fprbl,tprbl)\n",
    "plt.plot(fprbl, tprbl)\n",
    "\n",
    "fprde, tprde, thresholdde = roc_curve(dense_ncr['label'],dense_ncr['prob'])\n",
    "roc_aucde = auc(fprde,tprde)\n",
    "plt.plot(fprde, tprde)\n",
    "\n",
    "fprfc, tprfc, thresholdfc = roc_curve(resfpnsf_nf['label'],resfpnsf_nf['prob'])\n",
    "roc_aucfc = auc(fprfc,tprfc)\n",
    "plt.plot(fprfc, tprfc)\n",
    "\n",
    "# fprfpn, tprfpn, thresholdfpn = roc_curve(resfpn_nf['label'],resfpn_nf['prob'])\n",
    "# roc_aucfpn = auc(fprfpn,tprfpn)\n",
    "# plt.plot(fprfpn, tprfpn)\n",
    "\n",
    "fprsefpn, tprsefpn, thresholdsefpn = roc_curve(seresfpn_ncr['label'],seresfpn_ncr['prob'])\n",
    "roc_aucsefpn = auc(fprsefpn,tprsefpn)\n",
    "plt.plot(fprsefpn, tprsefpn)\n",
    "\n",
    "plt.xlabel('False Positive Rate')\n",
    "plt.ylabel('True Positive Rate')\n",
    "plt.legend([f'baseline auc:{roc_aucbl:.4f}',f'densenet121 auc:{roc_aucde:.4f}',f'MF_resnet34 auc:{roc_aucfc:.4f}',f'FMF_se-resnet50 auc:{roc_aucsefpn:.4f}'])\n",
    "plt.title('ROC curve between different models(ncr)')\n",
    "#plt.savefig('roc_curve_ncr.png')\n",
    "plt.show()"
   ]
  },
  {
   "cell_type": "code",
   "execution_count": null,
   "metadata": {},
   "outputs": [],
   "source": [
    "### PRC\n",
    "plt.figure(figsize=(12,5))\n",
    "prebl, recbl, thresholdbl = precision_recall_curve(bl_ncr['label'],bl_ncr['prob'])\n",
    "roc_aucbl = average_precision_score(bl_ncr['label'],bl_ncr['prob'])\n",
    "plt.plot(recbl, prebl)\n",
    "\n",
    "prede, recde, thresholdbl = precision_recall_curve(dense_nf['label'],dense_nf['prob'])\n",
    "roc_aucde = average_precision_score(dense_nf['label'],dense_nf['prob'])\n",
    "plt.plot(recde, prede)\n",
    "\n",
    "prefc, recfc, thresholdbl = precision_recall_curve(resfc_ncr['label'],resfc_ncr['prob'])\n",
    "roc_aucfc = average_precision_score(resfc_ncr['label'],resfc_ncr['prob'])\n",
    "plt.plot(recfc, prefc)\n",
    "\n",
    "# prefpn, recfpn, thresholdbl = precision_recall_curve(resfpn_nf['label'],resfpn_nf['prob'])\n",
    "# roc_aucfpn = average_precision_score(resfpn_nf['label'],resfpn_nf['prob'])\n",
    "# plt.plot(recfpn, prefpn)\n",
    "\n",
    "presefpn, recsefpn, thresholdfpn = precision_recall_curve(seresfpn_ncr['label'],seresfpn_ncr['prob'])\n",
    "roc_aucsefpn = average_precision_score(seresfpn_ncr['label'],seresfpn_ncr['prob'])\n",
    "plt.plot(recsefpn, presefpn)\n",
    "\n",
    "plt.xlabel('Recall')\n",
    "plt.ylabel('Precision')\n",
    "plt.legend([f'baseline prc:{roc_aucbl:.4f}',f'densenet121 auc:{roc_aucde:.4f}',f'MF_resnet34 prc:{roc_aucfc:.4f}',f'FMF_se-resnet50 prc:{roc_aucsefpn:.4f}'])\n",
    "plt.title('PRC curve between different models(nf)')\n",
    "plt.savefig('prc_curve_ncr.png')\n",
    "plt.show()"
   ]
  },
  {
   "cell_type": "code",
   "execution_count": null,
   "metadata": {},
   "outputs": [],
   "source": [
    "#混淆矩阵最后可以看看grade的，其他没必要"
   ]
  },
  {
   "cell_type": "markdown",
   "metadata": {},
   "source": [
    "### nec、envelop"
   ]
  },
  {
   "cell_type": "code",
   "execution_count": 28,
   "metadata": {
    "ExecuteTime": {
     "end_time": "2021-05-19T09:20:32.877543Z",
     "start_time": "2021-05-19T09:20:32.874378Z"
    }
   },
   "outputs": [],
   "source": [
    "mission = 'necrosis'\n",
    "#mission = 'envelop'\n",
    "bs = 32"
   ]
  },
  {
   "cell_type": "code",
   "execution_count": 29,
   "metadata": {
    "ExecuteTime": {
     "end_time": "2021-05-19T09:20:39.844623Z",
     "start_time": "2021-05-19T09:20:37.584290Z"
    }
   },
   "outputs": [],
   "source": [
    "traindataset = WSIimageDataset(is_training = True,\n",
    "                                mission = mission)\n",
    "# num_workers\n",
    "traindataloader = DataLoader(traindataset,batch_size = bs)\n",
    "valdataset = WSIimageDataset(is_training = False,\n",
    "                                mission = mission)\n",
    "# num_workers\n",
    "valdataloader = DataLoader(valdataset,batch_size = bs)\n",
    "classnum = 2"
   ]
  },
  {
   "cell_type": "code",
   "execution_count": 30,
   "metadata": {
    "ExecuteTime": {
     "end_time": "2021-05-19T09:20:43.871265Z",
     "start_time": "2021-05-19T09:20:43.394351Z"
    }
   },
   "outputs": [
    {
     "name": "stdout",
     "output_type": "stream",
     "text": [
      "create_pretrained_resnet 18\n",
      "creating resnet18, pretrained: True\n"
     ]
    },
    {
     "data": {
      "text/plain": [
       "<All keys matched successfully>"
      ]
     },
     "execution_count": 30,
     "metadata": {},
     "output_type": "execute_result"
    }
   ],
   "source": [
    "## 只用resnet18看看就行了，效果很行\n",
    "backbone = 'resnet18'\n",
    "weights = 'temp/checkpoints/necrosis/resnet18/resnet18_59_best.pth.tar'\n",
    "#weights = 'temp/checkpoints/envelop/resnet18/resnet18_34.pth.tar'\n",
    "model = create_model(backbone,pretrained = True,num_classes=classnum)\n",
    "\n",
    "model = torch.nn.DataParallel(model)\n",
    "model = model.cuda()\n",
    "\n",
    "loss_fn = BCEWithLogitsLoss().cuda()\n",
    "model.load_state_dict(torch.load(weights))"
   ]
  },
  {
   "cell_type": "code",
   "execution_count": 31,
   "metadata": {
    "ExecuteTime": {
     "end_time": "2021-05-19T09:20:48.802305Z",
     "start_time": "2021-05-19T09:20:45.126104Z"
    }
   },
   "outputs": [
    {
     "name": "stderr",
     "output_type": "stream",
     "text": [
      "val:loss: 0.1058 acc_all: 0.9598: 100%|██████████| 7/7 [00:03<00:00,  1.92it/s]\n"
     ]
    }
   ],
   "source": [
    "with torch.no_grad():\n",
    "    model.eval()\n",
    "    epoch_loss_val = []\n",
    "    epoch_acc_val = []\n",
    "    preds = []\n",
    "    trues = []\n",
    "    probs = []\n",
    "\n",
    "\n",
    "    progress_bar = tqdm(valdataloader)\n",
    "    for imgs,label in progress_bar:\n",
    "        imgs = imgs.float().cuda()\n",
    "        label = label.float().cuda()\n",
    "\n",
    "        output = model(imgs)\n",
    "\n",
    "        output = torch.squeeze(output)\n",
    "        #loss = loss_fn(output,label.argmax(axis=1))\n",
    "        loss = loss_fn(output,label)\n",
    "\n",
    "        prob = output.sigmoid()\n",
    "        pred = output.argmax(axis=1)\n",
    "\n",
    "        #print(label.argmax(axis=1))\n",
    "        #print(pred)\n",
    "\n",
    "        acc_data = (pred == label.argmax(axis=1)).sum().data * 1.0/bs\n",
    "        loss_data = loss.data\n",
    "\n",
    "        epoch_loss_val.append(float(loss_data))\n",
    "        epoch_acc_val.append(float(acc_data))\n",
    "        \n",
    "        preds.extend(np.array(pred.cpu()).tolist())\n",
    "        #pred2.extend(np.array(pred_shape.cpu()).tolist())\n",
    "        trues.extend(np.array(label.argmax(axis=1).cpu()).tolist())\n",
    "        #true2.extend(np.array(label_shape.argmax(axis=1).cpu()).tolist())\n",
    "        probs.extend(np.array(prob[:,1].cpu()).tolist())\n",
    "\n",
    "        progress_bar.set_description(\n",
    "            f'val:loss: {np.mean(epoch_loss_val):1.4f} acc_all: {np.mean(epoch_acc_val):1.4f}')"
   ]
  },
  {
   "cell_type": "code",
   "execution_count": 32,
   "metadata": {
    "ExecuteTime": {
     "end_time": "2021-05-19T09:20:51.200519Z",
     "start_time": "2021-05-19T09:20:51.184853Z"
    }
   },
   "outputs": [
    {
     "name": "stdout",
     "output_type": "stream",
     "text": [
      "pre:0.9587,rec:0.9748,spe:0.9519,acc:0.9641,f1-score:0.9667\n"
     ]
    }
   ],
   "source": [
    "# 单特征结果\n",
    "cm = confusion_matrix(trues,preds,labels = [1,0])\n",
    "TP = cm[0,0]\n",
    "FP = cm[1,0]\n",
    "FN = cm[0,1]\n",
    "TN = cm[1,1]\n",
    "\n",
    "precision = TP/(TP+FP)\n",
    "recall = TP/(TP+FN)\n",
    "specifity = TN/(TN+FP)\n",
    "accuracy = (TP+TN)/(TP+FP+FN+TN)\n",
    "f1_score = 2*precision*recall/(precision+recall)\n",
    "\n",
    "print(f'pre:{precision:.4f},rec:{recall:.4f},spe:{specifity:.4f},acc:{accuracy:.4f},f1-score:{f1_score:.4f}')"
   ]
  },
  {
   "cell_type": "code",
   "execution_count": null,
   "metadata": {},
   "outputs": [],
   "source": [
    "## roc曲线\n",
    "dense_nf = {}\n",
    "dense_nf['label'] = trues\n",
    "dense_nf['prob'] = probs"
   ]
  },
  {
   "cell_type": "code",
   "execution_count": null,
   "metadata": {},
   "outputs": [],
   "source": [
    "### ROC\n",
    "plt.figure(figsize=(12,5))\n",
    "fprbl, tprbl, thresholdbl = roc_curve(bl_nf['label'],bl_nf['prob'])\n",
    "roc_aucbl = auc(fprbl,tprbl)\n",
    "plt.plot(fprbl, tprbl)\n",
    "\n",
    "fprde, tprde, thresholdde = roc_curve(dense_nf['label'],dense_nf['prob'])\n",
    "roc_aucde = auc(fprde,tprde)\n",
    "plt.plot(fprde, tprde)\n",
    "\n",
    "fprfc, tprfc, thresholdfc = roc_curve(resfc_nf['label'],resfc_nf['prob'])\n",
    "roc_aucfc = auc(fprfc,tprfc)\n",
    "plt.plot(fprfc, tprfc)\n",
    "\n",
    "fprfpn, tprfpn, thresholdfpn = roc_curve(resfpn_nf['label'],resfpn_nf['prob'])\n",
    "roc_aucfpn = auc(fprfpn,tprfpn)\n",
    "plt.plot(fprfpn, tprfpn)\n",
    "\n",
    "fprsefpn, tprsefpn, thresholdsefpn = roc_curve(seresfpn_nf['label'],seresfpn_nf['prob'])\n",
    "roc_aucsefpn = auc(fprsefpn,tprsefpn)\n",
    "plt.plot(fprsefpn, tprsefpn)\n",
    "\n",
    "plt.xlabel('False Positive Rate')\n",
    "plt.ylabel('True Positive Rate')\n",
    "plt.legend([f'baseline auc:{roc_aucbl:.4f}',f'densenet121 auc:{roc_aucde:.4f}',f'MF_resnet34 auc:{roc_aucfc:.4f}',f'FMF_resnet34 auc:{roc_aucfpn:.4f}',f'FMF_se-resnet50 auc:{roc_aucsefpn:.4f}'])\n",
    "plt.title('ROC curve between different models(nf)')\n",
    "plt.savefig('roc_curve_nf.png')\n",
    "plt.show()"
   ]
  },
  {
   "cell_type": "code",
   "execution_count": null,
   "metadata": {},
   "outputs": [],
   "source": [
    "### PRC\n",
    "plt.figure(figsize=(12,5))\n",
    "prebl, recbl, thresholdbl = precision_recall_curve(bl_nf['label'],bl_nf['prob'])\n",
    "roc_aucbl = average_precision_score(bl_nf['label'],bl_nf['prob'])\n",
    "plt.plot(recbl, prebl)\n",
    "\n",
    "prede, recde, thresholdbl = precision_recall_curve(dense_nf['label'],dense_nf['prob'])\n",
    "roc_aucde = average_precision_score(dense_nf['label'],dense_nf['prob'])\n",
    "plt.plot(recde, prede)\n",
    "\n",
    "prefc, recfc, thresholdbl = precision_recall_curve(resfc_nf['label'],resfc_nf['prob'])\n",
    "roc_aucfc = average_precision_score(resfc_nf['label'],resfc_nf['prob'])\n",
    "plt.plot(recfc, prefc)\n",
    "\n",
    "prefpn, recfpn, thresholdbl = precision_recall_curve(resfpn_nf['label'],resfpn_nf['prob'])\n",
    "roc_aucfpn = average_precision_score(resfpn_nf['label'],resfpn_nf['prob'])\n",
    "plt.plot(recfpn, prefpn)\n",
    "\n",
    "presefpn, recsefpn, thresholdfpn = precision_recall_curve(seresfpn_nf['label'],seresfpn_nf['prob'])\n",
    "roc_aucsefpn = average_precision_score(seresfpn_nf['label'],seresfpn_nf['prob'])\n",
    "plt.plot(recsefpn, presefpn)\n",
    "\n",
    "plt.xlabel('Recall')\n",
    "plt.ylabel('Precision')\n",
    "plt.legend([f'baseline prc:{roc_aucbl:.4f}',f'densenet121 prc:{roc_aucde:.4f}',f'MF_resnet34 prc:{roc_aucfc:.4f}',f'FMF_resnet34 prc:{roc_aucfpn:.4f}',f'FMF_se-resnet50 prc:{roc_aucsefpn:.4f}'])\n",
    "plt.title('PRC curve between different models(nf)')\n",
    "plt.savefig('prc_curve_nf.png')\n",
    "plt.show()"
   ]
  },
  {
   "cell_type": "markdown",
   "metadata": {},
   "source": [
    "### grade"
   ]
  },
  {
   "cell_type": "code",
   "execution_count": 23,
   "metadata": {
    "ExecuteTime": {
     "end_time": "2021-05-19T13:40:41.091767Z",
     "start_time": "2021-05-19T13:40:41.087087Z"
    }
   },
   "outputs": [],
   "source": [
    "bs = 32"
   ]
  },
  {
   "cell_type": "code",
   "execution_count": 24,
   "metadata": {
    "ExecuteTime": {
     "end_time": "2021-05-19T13:40:43.825289Z",
     "start_time": "2021-05-19T13:40:43.344853Z"
    }
   },
   "outputs": [],
   "source": [
    "#patch级的\n",
    "with open('dataconfig/rate_level2.json','r') as f:\n",
    "    samplerate = json.load(f)\n",
    "traindataset = GradeImageDataset(slidelist1,256,2,samplerate,True)                            \n",
    "traindataloader = DataLoader(traindataset,batch_size = bs)\n",
    "\n",
    "with open('dataconfig/rateval_all.json','r') as f:\n",
    "    samplerate = json.load(f)\n",
    "\n",
    "valdataset = GradeImageDataset(testslide,256,2,samplerate,False)                            \n",
    "valdataloader = DataLoader(valdataset,batch_size = bs)\n",
    "classnum = 3"
   ]
  },
  {
   "cell_type": "code",
   "execution_count": 26,
   "metadata": {
    "ExecuteTime": {
     "end_time": "2021-05-19T13:42:09.244372Z",
     "start_time": "2021-05-19T13:42:07.586940Z"
    }
   },
   "outputs": [
    {
     "name": "stdout",
     "output_type": "stream",
     "text": [
      "create_pretrained_resnet 34\n",
      "creating resnet34, pretrained: True\n"
     ]
    },
    {
     "data": {
      "text/plain": [
       "<All keys matched successfully>"
      ]
     },
     "execution_count": 26,
     "metadata": {},
     "output_type": "execute_result"
    }
   ],
   "source": [
    "backbone = 'resnet34'\n",
    "weights = 'temp/checkpoints/grade/resnet34/resnet34_43_best.pth.tar'\n",
    "#weights = 'temp/checkpoints/envelop/resnet18/resnet18_34.pth.tar'\n",
    "model = create_model(backbone,pretrained = True,num_classes=classnum)\n",
    "\n",
    "model = torch.nn.DataParallel(model)\n",
    "model = model.cuda()\n",
    "\n",
    "loss_fn = BCEWithLogitsLoss().cuda()\n",
    "model.load_state_dict(torch.load(weights))"
   ]
  },
  {
   "cell_type": "code",
   "execution_count": 29,
   "metadata": {
    "ExecuteTime": {
     "end_time": "2021-05-19T13:45:20.035950Z",
     "start_time": "2021-05-19T13:42:29.968383Z"
    }
   },
   "outputs": [
    {
     "name": "stderr",
     "output_type": "stream",
     "text": [
      "val:  loss: 0.2814 acc_all: 0.8367: 100%|██████████| 75/75 [02:50<00:00,  2.27s/it]\n"
     ]
    },
    {
     "ename": "NameError",
     "evalue": "name 'results' is not defined",
     "output_type": "error",
     "traceback": [
      "\u001b[0;31m---------------------------------------------------------------------------\u001b[0m",
      "\u001b[0;31mNameError\u001b[0m                                 Traceback (most recent call last)",
      "\u001b[0;32m<ipython-input-29-71046c7cfafe>\u001b[0m in \u001b[0;36m<module>\u001b[0;34m()\u001b[0m\n\u001b[1;32m     39\u001b[0m \u001b[0;34m\u001b[0m\u001b[0m\n\u001b[1;32m     40\u001b[0m         \u001b[0;32mdel\u001b[0m \u001b[0mloss\u001b[0m\u001b[0;34m\u001b[0m\u001b[0;34m\u001b[0m\u001b[0m\n\u001b[0;32m---> 41\u001b[0;31m     \u001b[0mresults\u001b[0m\u001b[0;34m[\u001b[0m\u001b[0;34m'loss_val'\u001b[0m\u001b[0;34m]\u001b[0m\u001b[0;34m.\u001b[0m\u001b[0mappend\u001b[0m\u001b[0;34m(\u001b[0m\u001b[0mnp\u001b[0m\u001b[0;34m.\u001b[0m\u001b[0mmean\u001b[0m\u001b[0;34m(\u001b[0m\u001b[0mepoch_loss_val\u001b[0m\u001b[0;34m)\u001b[0m\u001b[0;34m)\u001b[0m\u001b[0;34m\u001b[0m\u001b[0;34m\u001b[0m\u001b[0m\n\u001b[0m\u001b[1;32m     42\u001b[0m     \u001b[0mresults\u001b[0m\u001b[0;34m[\u001b[0m\u001b[0;34m'acc_val'\u001b[0m\u001b[0;34m]\u001b[0m\u001b[0;34m.\u001b[0m\u001b[0mappend\u001b[0m\u001b[0;34m(\u001b[0m\u001b[0mnp\u001b[0m\u001b[0;34m.\u001b[0m\u001b[0mmean\u001b[0m\u001b[0;34m(\u001b[0m\u001b[0mepoch_acc_val\u001b[0m\u001b[0;34m)\u001b[0m\u001b[0;34m)\u001b[0m\u001b[0;34m\u001b[0m\u001b[0;34m\u001b[0m\u001b[0m\n",
      "\u001b[0;31mNameError\u001b[0m: name 'results' is not defined"
     ]
    }
   ],
   "source": [
    "with torch.no_grad():\n",
    "    model.eval()\n",
    "    epoch_loss_val = []\n",
    "    epoch_acc_val = []\n",
    "    preds = []\n",
    "    trues = []\n",
    "    probs = []\n",
    "\n",
    "    progress_bar = tqdm(valdataloader)\n",
    "    for imgs,label in progress_bar:\n",
    "        imgs = imgs.float().cuda()\n",
    "        label = label.float().cuda()\n",
    "\n",
    "        output = model(imgs)\n",
    "\n",
    "        output = torch.squeeze(output)\n",
    "        #loss = loss_fn(output,label.argmax(axis=1))\n",
    "        loss = loss_fn(output,label)\n",
    "\n",
    "        prob = output.sigmoid()\n",
    "        pred = output.argmax(axis=1)\n",
    "\n",
    "        #print(label.argmax(axis=1))\n",
    "        #print(pred)\n",
    "\n",
    "        acc_data = (pred == label.argmax(axis=1)).sum().data * 1.0/bs\n",
    "        loss_data = loss.data\n",
    "\n",
    "        epoch_loss_val.append(float(loss_data))\n",
    "        epoch_acc_val.append(float(acc_data))\n",
    "        preds.extend(np.array(pred.cpu()).tolist())\n",
    "        #pred2.extend(np.array(pred_shape.cpu()).tolist())\n",
    "        trues.extend(np.array(label.argmax(axis=1).cpu()).tolist())\n",
    "        #true2.extend(np.array(label_shape.argmax(axis=1).cpu()).tolist())\n",
    "        probs.extend(np.array(prob[:,1].cpu()).tolist())\n",
    "\n",
    "        progress_bar.set_description(\n",
    "            f'val:  loss: {np.mean(epoch_loss_val):1.4f} acc_all: {np.mean(epoch_acc_val):1.4f}')\n",
    "\n",
    "        del loss\n",
    "    results['loss_val'].append(np.mean(epoch_loss_val))\n",
    "    results['acc_val'].append(np.mean(epoch_acc_val))"
   ]
  },
  {
   "cell_type": "code",
   "execution_count": 30,
   "metadata": {
    "ExecuteTime": {
     "end_time": "2021-05-19T13:47:07.426249Z",
     "start_time": "2021-05-19T13:47:07.407309Z"
    }
   },
   "outputs": [
    {
     "name": "stdout",
     "output_type": "stream",
     "text": [
      "pre:0.8002,rec:0.9477,spe:0.8038,acc:0.8690,f1-score:0.8677\n"
     ]
    }
   ],
   "source": [
    "# 其他同上\n",
    "cm = confusion_matrix(trues,preds,labels = [1,0])\n",
    "TP = cm[0,0]\n",
    "FP = cm[1,0]\n",
    "FN = cm[0,1]\n",
    "TN = cm[1,1]\n",
    "\n",
    "precision = TP/(TP+FP)\n",
    "recall = TP/(TP+FN)\n",
    "specifity = TN/(TN+FP)\n",
    "accuracy = (TP+TN)/(TP+FP+FN+TN)\n",
    "f1_score = 2*precision*recall/(precision+recall)\n",
    "\n",
    "print(f'pre:{precision:.4f},rec:{recall:.4f},spe:{specifity:.4f},acc:{accuracy:.4f},f1-score:{f1_score:.4f}')"
   ]
  },
  {
   "cell_type": "markdown",
   "metadata": {},
   "source": [
    "## predict(slide级别)"
   ]
  },
  {
   "cell_type": "code",
   "execution_count": null,
   "metadata": {},
   "outputs": [],
   "source": [
    "# 需要保证验证集patch一样吗？\n",
    "testslide = np.load('testslide.npy')\n",
    "slidelist2 = testslide\n",
    "\n",
    "# 多全连接层\n",
    "model = resnet_fpn.resnet34_fpn_classifier(num_classes=[2,2,2],pretrained = True)\n",
    "model = torch.nn.DataParallel(model).cuda()\n",
    "model.load_state_dict(torch.load('temp/checkpoints/nf/'))\n",
    "loss_fn = CrossEntropyLoss().cuda()\n",
    "model.eval()\n",
    "\n",
    "preds_nf = np.zeros(len(slidelist2))\n",
    "preds_ncr = np.zeros(len(slidelist2))\n",
    "preds_shape = np.zeros(len(slidelist2))\n",
    "\n",
    "for i in range(len(slidelist2)):\n",
    "    slide = slidelist2[i]\n",
    "    print(slide)\n",
    "    testdataset = WSIimageDataset(slide,1)\n",
    "    testdataloader = DataLoader(testdataset,batch_size = 32,drop_last = True)\n",
    "\n",
    "    #labels = cf[slide]\n",
    "    preds1 = []\n",
    "    preds2 = []\n",
    "    preds3 = []\n",
    "\n",
    "\n",
    "    progress_bar = tqdm(enumerate(testdataloader),total = len(testdataloader))\n",
    "    for iter_num,data in progress_bar:\n",
    "        img = data\n",
    "        img = img.cuda().float()\n",
    "        #label_nf = label_nf.cuda().float()\n",
    "        #label_shape = label_shape.cuda().float()\n",
    "        output1,output2,output3 = model(img)\n",
    "\n",
    "        output1 = torch.squeeze(output1)\n",
    "        output2 = torch.squeeze(output2)\n",
    "        output3 = torch.squeeze(output3)\n",
    "\n",
    "\n",
    "        pred_nf = output1.argmax(axis=1)\n",
    "        pred_ncr = output2.argmax(axis=1)\n",
    "        pred_shape = output3.argmax(axis=1)\n",
    "\n",
    "        #prob2 = output2.sigmoid()\n",
    "\n",
    "        #print(pred_shape)\n",
    "        #print(label_shape.argmax(axis=1))\n",
    "\n",
    "        preds1.extend(np.array(pred_nf.cpu()).tolist())\n",
    "        preds2.extend(np.array(pred_ncr.cpu()).tolist())\n",
    "        preds3.extend(np.array(pred_shape.cpu()).tolist())\n",
    "\n",
    "\n",
    "        progress_bar.set_description(f'test {slide}')\n",
    "\n",
    "    rate1 = np.sum(preds1)/len(preds1)\n",
    "    rate2 = np.sum(preds2)/len(preds2)\n",
    "    rate3 = np.sum(preds3)/len(preds3)\n",
    "    #print(rate1,rate2,rate3)\n",
    "    if rate1 > 0.5:\n",
    "        preds_nf[i] = 1\n",
    "    if rate2 > 0.5:\n",
    "        preds_ncr[i] = 1\n",
    "    if rate3 > 0.5:\n",
    "        preds_shape[i] = 1\n",
    "labels_nfname = ['轻度','显著']\n",
    "labels_ncrname = ['增大','很大']\n",
    "labels_shapename = ['粗梁实性','粗梁实性和假腺状']\n",
    "\n",
    "preds_ncr = preds_ncr.astype(np.int)\n",
    "preds_nf = preds_nf.astype(np.int)\n",
    "preds_shape = preds_shape.astype(np.int)"
   ]
  },
  {
   "cell_type": "code",
   "execution_count": 6,
   "metadata": {
    "ExecuteTime": {
     "end_time": "2021-05-25T12:53:13.981362Z",
     "start_time": "2021-05-25T12:53:13.976558Z"
    }
   },
   "outputs": [],
   "source": [
    "# 单特征的，要多跑几次\n",
    "# 因为dataloder一样，只需要选不同的模型和state即可\n",
    "# 模型太多，别搞混了\n",
    "testslide = np.load('testslide2.npy',allow_pickle=True)\n",
    "slidelist2 = testslide"
   ]
  },
  {
   "cell_type": "code",
   "execution_count": 31,
   "metadata": {
    "ExecuteTime": {
     "end_time": "2021-05-19T13:47:47.933310Z",
     "start_time": "2021-05-19T13:47:45.971652Z"
    }
   },
   "outputs": [
    {
     "name": "stdout",
     "output_type": "stream",
     "text": [
      "create_pretrained_resnet 34\n",
      "creating resnet34, pretrained: True\n"
     ]
    }
   ],
   "source": [
    "backbone = 'resnet34'\n",
    "classnum = 3\n",
    "\n",
    "weights = 'temp/checkpoints/grade/resnet34/resnet34_43_best.pth.tar'\n",
    "model = create_model(backbone,pretrained = True,num_classes=classnum)\n",
    "model = torch.nn.DataParallel(model)\n",
    "model = model.cuda()\n",
    "\n",
    "model.load_state_dict(torch.load(weights))\n",
    "model.eval()\n",
    "name = 'grade'"
   ]
  },
  {
   "cell_type": "code",
   "execution_count": 37,
   "metadata": {
    "ExecuteTime": {
     "end_time": "2021-05-20T11:22:17.242689Z",
     "start_time": "2021-05-20T11:22:16.181002Z"
    }
   },
   "outputs": [],
   "source": [
    "backbone = 'resnet34'\n",
    "classnum = 2\n",
    "\n",
    "#weights = 'temp/checkpoints/ncr/se_resnet50_fpn_classifier/se_resnet50_fpn_classifier_10_1_best.pth.tar'\n",
    "#weights = 'temp/checkpoints/nf/se_resnet50_fpn_classifier/se_resnet50_fpn_classifier_25_1_best.pth.tar'\n",
    "weights = 'temp/checkpoints/shape/se_resnet50_fpn_classifier/se_resnet50_fpn_classifier_17_1_best.pth.tar'\n",
    "model = senet_fpn_sf.se_resnet50_fpn_classifier(num_classes=[2,2,2])\n",
    "\n",
    "model = torch.nn.DataParallel(model)\n",
    "model = model.cuda()\n",
    "\n",
    "model.load_state_dict(torch.load(weights))\n",
    "model.eval()\n",
    "name = 'shape'"
   ]
  },
  {
   "cell_type": "code",
   "execution_count": 38,
   "metadata": {
    "ExecuteTime": {
     "end_time": "2021-05-20T11:25:02.972764Z",
     "start_time": "2021-05-20T11:22:18.508280Z"
    },
    "scrolled": false
   },
   "outputs": [
    {
     "name": "stderr",
     "output_type": "stream",
     "text": [
      "test 201601986-2: 100%|██████████| 6/6 [00:05<00:00,  1.14it/s]\n",
      "test 201610196-3: 100%|██████████| 6/6 [00:05<00:00,  1.18it/s]\n",
      "test 201434013-4: 100%|██████████| 6/6 [00:04<00:00,  1.22it/s]\n",
      "test 201610196-5: 100%|██████████| 6/6 [00:05<00:00,  1.13it/s]\n",
      "test 201439600-1: 100%|██████████| 6/6 [00:05<00:00,  1.17it/s]\n",
      "test 201605479-1: 100%|██████████| 6/6 [00:05<00:00,  1.14it/s]\n",
      "test 201436453-3: 100%|██████████| 6/6 [00:05<00:00,  1.07it/s]\n",
      "test 201437427-4: 100%|██████████| 6/6 [00:05<00:00,  1.02it/s]\n",
      "test 201609207-4: 100%|██████████| 6/6 [00:05<00:00,  1.09it/s]\n",
      "test 201604335-1: 100%|██████████| 6/6 [00:05<00:00,  1.02it/s]\n",
      "test 201613577-2: 100%|██████████| 6/6 [00:05<00:00,  1.02it/s]\n",
      "test 201437429-3: 100%|██████████| 6/6 [00:05<00:00,  1.06it/s]\n",
      "test 201605479-4: 100%|██████████| 6/6 [00:05<00:00,  1.04it/s]\n",
      "test 201436170-3: 100%|██████████| 6/6 [00:05<00:00,  1.05it/s]\n",
      "test 201434822-1: 100%|██████████| 6/6 [00:05<00:00,  1.19it/s]\n",
      "test 201600623-1: 100%|██████████| 6/6 [00:05<00:00,  1.15it/s]\n",
      "test 17-043414-1: 100%|██████████| 6/6 [00:05<00:00,  1.15it/s]\n",
      "test 17-043414-2: 100%|██████████| 6/6 [00:05<00:00,  1.13it/s]\n",
      "test 17-043414-3: 100%|██████████| 6/6 [00:04<00:00,  1.23it/s]\n",
      "test 17-043414-4: 100%|██████████| 6/6 [00:05<00:00,  1.01it/s]\n",
      "test 17-046476-1: 100%|██████████| 6/6 [00:05<00:00,  1.04it/s]\n",
      "test 17-046476-2: 100%|██████████| 6/6 [00:05<00:00,  1.04it/s]\n",
      "test 17-046476-3: 100%|██████████| 6/6 [00:05<00:00,  1.10it/s]\n",
      "test 17-046476-4: 100%|██████████| 6/6 [00:05<00:00,  1.08it/s]\n",
      "test 201629755-2: 100%|██████████| 6/6 [00:05<00:00,  1.08it/s]\n",
      "test 201629755-3: 100%|██████████| 6/6 [00:05<00:00,  1.03it/s]\n",
      "test 201629755-4: 100%|██████████| 6/6 [00:05<00:00,  1.09it/s]\n",
      "test 201630452-2: 100%|██████████| 6/6 [00:05<00:00,  1.05it/s]\n",
      "test 201630452-3: 100%|██████████| 6/6 [00:05<00:00,  1.15it/s]\n",
      "test 201630452-4: 100%|██████████| 6/6 [00:05<00:00,  1.12it/s]\n"
     ]
    }
   ],
   "source": [
    "#level的也可以搞好像\n",
    "with torch.no_grad():\n",
    "    model.eval()\n",
    "    preds_sf = []\n",
    "    preds_patch = []\n",
    "\n",
    "    for i in range(len(slidelist2)):\n",
    "        slide = slidelist2[i]\n",
    "        #print(slide)\n",
    "        testdataset = WSIimageDatasetpredict(slide,1)\n",
    "        testdataloader = DataLoader(testdataset,batch_size = 32,drop_last = True)\n",
    "        #labels = cf[slide]\n",
    "        preds = []\n",
    "        probs = []\n",
    "\n",
    "\n",
    "        progress_bar = tqdm(enumerate(testdataloader),total = len(testdataloader))\n",
    "        for iter_num,data in progress_bar:\n",
    "            img = data\n",
    "            img = img.cuda().float()\n",
    "            #label_nf = label_nf.cuda().float()\n",
    "            #label_shape = label_shape.cuda().float()\n",
    "            output = model(img)\n",
    "\n",
    "            output = torch.squeeze(output)\n",
    "\n",
    "            pred_sf = output.argmax(axis=1)\n",
    "\n",
    "            prob = output.sigmoid()\n",
    "\n",
    "            #print(pred_shape)\n",
    "            #print(label_shape.argmax(axis=1))\n",
    "\n",
    "            preds.extend(np.array(pred_sf.cpu()).tolist())\n",
    "            probs.extend(np.array(prob[:,1].cpu()).tolist())\n",
    "            progress_bar.set_description(f'test {slide}')\n",
    "\n",
    "        #rate = np.sum(preds)/len(preds)\n",
    "        rate = np.sum(probs)/len(probs)\n",
    "        preds_sf.append(rate)\n",
    "\n",
    "        preds_patch += preds\n",
    "        #print(rate1,rate2,rate3)\n",
    "        #if rate1 > 0.5:\n",
    "        #    preds_nf[i] = 1\n",
    "        ## gpu内存不够就得存下来\n",
    "    savepath = os.path.join('temp/predictions','pred_'+name+'.npy')\n",
    "    np.save(savepath,preds_sf)\n",
    "    savepath = os.path.join('temp/predictions','preds_'+name+'.npy')\n",
    "    np.save(savepath,preds_patch)\n"
   ]
  },
  {
   "cell_type": "code",
   "execution_count": 104,
   "metadata": {
    "ExecuteTime": {
     "end_time": "2021-05-20T14:20:16.147852Z",
     "start_time": "2021-05-20T14:20:15.704177Z"
    }
   },
   "outputs": [
    {
     "name": "stdout",
     "output_type": "stream",
     "text": [
      "create_pretrained_resnet 18\n",
      "creating resnet18, pretrained: True\n"
     ]
    }
   ],
   "source": [
    "## env\n",
    "backbone = 'resnet18'\n",
    "classnum = 2\n",
    "\n",
    "#weights = 'temp/checkpoints/necrosis/resnet18/resnet18_59_best.pth.tar'\n",
    "weights = 'temp/checkpoints/envelop/resnet18/resnet18_34.pth.tar'\n",
    "\n",
    "model = create_model(backbone,pretrained = True,num_classes=classnum)\n",
    "model = torch.nn.DataParallel(model)\n",
    "model = model.cuda()\n",
    "\n",
    "model.load_state_dict(torch.load(weights))\n",
    "model.eval()\n",
    "name = 'envelop'"
   ]
  },
  {
   "cell_type": "code",
   "execution_count": 105,
   "metadata": {
    "ExecuteTime": {
     "end_time": "2021-05-20T14:20:24.996918Z",
     "start_time": "2021-05-20T14:20:20.293561Z"
    }
   },
   "outputs": [
    {
     "name": "stderr",
     "output_type": "stream",
     "text": [
      "test 201601986-2: 100%|██████████| 1/1 [00:00<00:00,  5.15it/s]\n",
      "test 201610196-3: 100%|██████████| 1/1 [00:00<00:00,  7.23it/s]\n",
      "test 201434013-4: 100%|██████████| 1/1 [00:00<00:00,  6.18it/s]\n",
      "test 201610196-5: 100%|██████████| 1/1 [00:00<00:00,  7.68it/s]\n",
      "test 201439600-1: 100%|██████████| 1/1 [00:00<00:00,  6.64it/s]\n",
      "test 201605479-1: 100%|██████████| 1/1 [00:00<00:00,  6.66it/s]\n",
      "test 201436453-3: 100%|██████████| 1/1 [00:00<00:00,  6.87it/s]\n",
      "test 201437427-4: 100%|██████████| 1/1 [00:00<00:00, 12.02it/s]\n",
      "test 201609207-4: 100%|██████████| 1/1 [00:00<00:00,  5.65it/s]\n",
      "test 201604335-1: 100%|██████████| 1/1 [00:00<00:00,  5.18it/s]\n",
      "test 201613577-2: 100%|██████████| 1/1 [00:00<00:00,  5.68it/s]\n",
      "test 201437429-3: 100%|██████████| 1/1 [00:00<00:00,  6.91it/s]\n",
      "test 201605479-4: 100%|██████████| 1/1 [00:00<00:00,  4.24it/s]\n",
      "test 201436170-3: 100%|██████████| 1/1 [00:00<00:00,  7.51it/s]\n",
      "test 201434822-1: 100%|██████████| 1/1 [00:00<00:00,  4.09it/s]\n",
      "test 201600623-1: 100%|██████████| 1/1 [00:00<00:00,  5.34it/s]\n",
      "test 17-043414-1: 100%|██████████| 1/1 [00:00<00:00,  6.49it/s]\n",
      "test 17-043414-2: 100%|██████████| 1/1 [00:00<00:00,  6.01it/s]\n",
      "test 17-043414-3: 100%|██████████| 1/1 [00:00<00:00,  4.92it/s]\n",
      "test 17-043414-4: 100%|██████████| 1/1 [00:00<00:00,  5.84it/s]\n",
      "test 17-046476-1: 100%|██████████| 1/1 [00:00<00:00, 11.62it/s]\n",
      "test 17-046476-2: 100%|██████████| 1/1 [00:00<00:00, 13.19it/s]\n",
      "test 17-046476-3: 100%|██████████| 1/1 [00:00<00:00, 13.16it/s]\n",
      "test 17-046476-4: 100%|██████████| 1/1 [00:00<00:00, 11.21it/s]\n",
      "test 201629755-2: 100%|██████████| 1/1 [00:00<00:00,  8.34it/s]\n",
      "test 201629755-3: 100%|██████████| 1/1 [00:00<00:00, 12.93it/s]\n",
      "test 201629755-4: 100%|██████████| 1/1 [00:00<00:00,  8.25it/s]\n",
      "test 201630452-2: 100%|██████████| 1/1 [00:00<00:00,  7.28it/s]\n",
      "test 201630452-3: 100%|██████████| 1/1 [00:00<00:00,  5.10it/s]\n",
      "test 201630452-4: 100%|██████████| 1/1 [00:00<00:00,  6.25it/s]\n"
     ]
    }
   ],
   "source": [
    "#level的也可以搞好像\n",
    "with torch.no_grad():\n",
    "    model.eval()\n",
    "    preds_sf = []\n",
    "    preds_patch = []\n",
    "\n",
    "    for i in range(len(slidelist2)):\n",
    "        slide = slidelist2[i]\n",
    "        #print(slide)\n",
    "        testdataset = WSIimageDatasetpredict2(slide,1)\n",
    "        testdataloader = DataLoader(testdataset,batch_size = 16)\n",
    "        #labels = cf[slide]\n",
    "        preds = []\n",
    "        probs = []\n",
    "\n",
    "\n",
    "        progress_bar = tqdm(enumerate(testdataloader),total = len(testdataloader))\n",
    "        for iter_num,data in progress_bar:\n",
    "            img = data\n",
    "            img = img.cuda().float()\n",
    "            #label_nf = label_nf.cuda().float()\n",
    "            #label_shape = label_shape.cuda().float()\n",
    "            output = model(img)\n",
    "\n",
    "            output = torch.squeeze(output)\n",
    "\n",
    "            pred_sf = output.argmax(axis=1)\n",
    "\n",
    "            prob = output.sigmoid()\n",
    "\n",
    "            #print(pred_shape)\n",
    "            #print(label_shape.argmax(axis=1))\n",
    "\n",
    "            preds.extend(np.array(pred_sf.cpu()).tolist())\n",
    "            probs.extend(np.array(prob[:,1].cpu()).tolist())\n",
    "            progress_bar.set_description(f'test {slide}')\n",
    "\n",
    "        rate = np.sum(preds)/len(preds)\n",
    "        #rate = np.sum(probs)/len(probs)\n",
    "        preds_sf.append(rate)\n",
    "\n",
    "        preds_patch += preds\n",
    "        #print(rate1,rate2,rate3)\n",
    "        #if rate1 > 0.5:\n",
    "        #    preds_nf[i] = 1\n",
    "        ## gpu内存不够就得存下来\n",
    "    savepath = os.path.join('temp/predictions','pred_'+name+'.npy')\n",
    "    np.save(savepath,preds_sf)\n",
    "    savepath = os.path.join('temp/predictions','preds_'+name+'.npy')\n",
    "    np.save(savepath,preds_patch)"
   ]
  },
  {
   "cell_type": "code",
   "execution_count": 50,
   "metadata": {
    "ExecuteTime": {
     "end_time": "2021-05-20T11:34:01.958341Z",
     "start_time": "2021-05-20T11:34:01.953260Z"
    }
   },
   "outputs": [
    {
     "data": {
      "text/plain": [
       "30"
      ]
     },
     "execution_count": 50,
     "metadata": {},
     "output_type": "execute_result"
    }
   ],
   "source": [
    "len(preds_sf)"
   ]
  },
  {
   "cell_type": "code",
   "execution_count": 10,
   "metadata": {
    "ExecuteTime": {
     "end_time": "2021-05-20T13:24:33.913694Z",
     "start_time": "2021-05-20T13:24:33.903708Z"
    }
   },
   "outputs": [
    {
     "data": {
      "text/plain": [
       "[0.5833333333333334,\n",
       " 1.0,\n",
       " 1.0,\n",
       " 0.7777777777777778,\n",
       " 0.0,\n",
       " 0.5555555555555556,\n",
       " 1.0,\n",
       " 0.16666666666666666,\n",
       " 1.0,\n",
       " 1.0,\n",
       " 0.0,\n",
       " 0.8888888888888888,\n",
       " 0.6666666666666666,\n",
       " 0.0,\n",
       " 0.0,\n",
       " 0.3333333333333333,\n",
       " 1.0,\n",
       " 0.5,\n",
       " 0.4444444444444444,\n",
       " 0.75,\n",
       " 0.0,\n",
       " 0.0,\n",
       " 1.0,\n",
       " 0.0,\n",
       " 0.8888888888888888,\n",
       " 1.0,\n",
       " 1.0,\n",
       " 0.4444444444444444,\n",
       " 0.0,\n",
       " 0.0]"
      ]
     },
     "execution_count": 10,
     "metadata": {},
     "output_type": "execute_result"
    }
   ],
   "source": [
    "preds_sf"
   ]
  },
  {
   "cell_type": "code",
   "execution_count": 9,
   "metadata": {
    "ExecuteTime": {
     "end_time": "2021-05-19T08:05:04.894618Z",
     "start_time": "2021-05-19T08:05:04.890218Z"
    }
   },
   "outputs": [],
   "source": [
    "pred_nf = np.load('temp/predictions/prob_shape.npy')"
   ]
  },
  {
   "cell_type": "code",
   "execution_count": 10,
   "metadata": {
    "ExecuteTime": {
     "end_time": "2021-05-19T08:05:08.676784Z",
     "start_time": "2021-05-19T08:05:08.672678Z"
    }
   },
   "outputs": [],
   "source": [
    "with open('cellfeaturesn.json','r') as fp:\n",
    "    cf = json.load(fp)"
   ]
  },
  {
   "cell_type": "code",
   "execution_count": 13,
   "metadata": {
    "ExecuteTime": {
     "end_time": "2021-05-17T08:27:53.261517Z",
     "start_time": "2021-05-17T08:27:53.257980Z"
    }
   },
   "outputs": [
    {
     "data": {
      "text/plain": [
       "[0, 0, 0, 1, 0, 0]"
      ]
     },
     "execution_count": 13,
     "metadata": {},
     "output_type": "execute_result"
    }
   ],
   "source": [
    "cf['201601986-2']"
   ]
  },
  {
   "cell_type": "code",
   "execution_count": 4,
   "metadata": {
    "ExecuteTime": {
     "end_time": "2021-05-25T12:52:45.726918Z",
     "start_time": "2021-05-25T12:52:45.714717Z"
    }
   },
   "outputs": [],
   "source": [
    "## 算slide层面的预测正确率\n",
    "pred_nf = np.load('temp/predictions/pred_nf.npy')\n",
    "pred_ncr = np.load('temp/predictions/pred_ncr.npy')\n",
    "pred_shape = np.load('temp/predictions/pred_shape.npy')\n",
    "pred_nec = np.load('temp/predictions/pred_necrosis.npy')\n",
    "pred_env= np.load('temp/predictions/pred_envelop.npy')\n",
    "pred_grade = np.load('temp/predictions/pred_grade.npy')"
   ]
  },
  {
   "cell_type": "code",
   "execution_count": null,
   "metadata": {},
   "outputs": [],
   "source": [
    "# 前五个以0.5为界\n",
    "# 最后一个有0,1,2三种情况\n",
    "# 按阈值变成整型计算正确率\n"
   ]
  },
  {
   "cell_type": "code",
   "execution_count": 10,
   "metadata": {
    "ExecuteTime": {
     "end_time": "2021-05-11T08:20:37.385798Z",
     "start_time": "2021-05-11T08:20:37.380700Z"
    }
   },
   "outputs": [],
   "source": [
    "nf = np.array([0.6,0.87,0.02,0.95,0.54,0.23,0.6,0.87,0.02,0.95,0.54,0.23,0.1,0.87,0.75,0.69])"
   ]
  },
  {
   "cell_type": "code",
   "execution_count": 15,
   "metadata": {
    "ExecuteTime": {
     "end_time": "2021-05-11T08:21:35.548472Z",
     "start_time": "2021-05-11T08:21:35.543800Z"
    }
   },
   "outputs": [
    {
     "data": {
      "text/plain": [
       "array([ True,  True, False,  True,  True, False,  True,  True, False,\n",
       "        True,  True, False, False,  True,  True,  True])"
      ]
     },
     "execution_count": 15,
     "metadata": {},
     "output_type": "execute_result"
    }
   ],
   "source": [
    "nf>0.5"
   ]
  },
  {
   "cell_type": "code",
   "execution_count": 14,
   "metadata": {
    "ExecuteTime": {
     "end_time": "2021-05-11T08:21:31.572760Z",
     "start_time": "2021-05-11T08:21:31.567783Z"
    }
   },
   "outputs": [
    {
     "data": {
      "text/plain": [
       "array([1, 1, 0, 1, 1, 0, 1, 1, 0, 1, 1, 0, 0, 1, 1, 1])"
      ]
     },
     "execution_count": 14,
     "metadata": {},
     "output_type": "execute_result"
    }
   ],
   "source": [
    "a.astype(np.int)"
   ]
  },
  {
   "cell_type": "code",
   "execution_count": 8,
   "metadata": {
    "ExecuteTime": {
     "end_time": "2021-05-25T12:53:24.512497Z",
     "start_time": "2021-05-25T12:53:24.480766Z"
    }
   },
   "outputs": [],
   "source": [
    "def compute_slide(clsid,predrate,feats):\n",
    "    if clsid > 0:\n",
    "        #pred = predrate>0.7 #nf\n",
    "        #pred = predrate>0.5 #ncr\n",
    "        pred = predrate>0.452\n",
    "        pred = pred.astype(np.int)\n",
    "        true = feats[:,clsid]\n",
    "              \n",
    "        cm = confusion_matrix(true,pred,labels = [1,0])\n",
    "        TP = cm[0,0]\n",
    "        FP = cm[1,0]\n",
    "        FN = cm[0,1]\n",
    "        TN = cm[1,1]\n",
    "\n",
    "        precision = TP/(TP+FP)\n",
    "        recall = TP/(TP+FN)\n",
    "        specifity = TN/(TN+FP)\n",
    "        accuracy = (TP+TN)/(TP+FP+FN+TN)\n",
    "        f1_score = 2*precision*recall/(precision+recall)\n",
    "        \n",
    "        print(f'pre:{precision:.4f},rec:{recall:.4f},spe:{specifity:.4f},acc:{accuracy:.4f},f1-score:{f1_score:.4f}')\n",
    "        \n",
    "\n",
    "    if clsid == 0:\n",
    "        pred = []\n",
    "        true = feats[:,0]\n",
    "        for rate in predrate:\n",
    "            if rate < 0.9:\n",
    "                pred.append(0)\n",
    "            if rate>=0.9 and rate<1.4:\n",
    "                pred.append(1)\n",
    "            if rate >= 1.4:\n",
    "                pred.append(2)\n",
    "        cm = confusion_matrix(true,pred,labels = [0,1,2])\n",
    "        pred = np.array(pred)\n",
    "        acc = np.sum(pred == true) * 1.0/16\n",
    "        print(f'acc: {acc}')\n",
    "        #可尝试画画混淆函数\n",
    "        return cm"
   ]
  },
  {
   "cell_type": "code",
   "execution_count": 9,
   "metadata": {
    "ExecuteTime": {
     "end_time": "2021-05-25T12:53:25.221459Z",
     "start_time": "2021-05-25T12:53:25.199890Z"
    }
   },
   "outputs": [
    {
     "ename": "ValueError",
     "evalue": "Found input variables with inconsistent numbers of samples: [30, 16]",
     "output_type": "error",
     "traceback": [
      "\u001b[0;31m---------------------------------------------------------------------------\u001b[0m",
      "\u001b[0;31mValueError\u001b[0m                                Traceback (most recent call last)",
      "\u001b[0;32m<ipython-input-9-8ce938174f15>\u001b[0m in \u001b[0;36m<module>\u001b[0;34m()\u001b[0m\n\u001b[1;32m     11\u001b[0m \u001b[0mfeats\u001b[0m \u001b[0;34m=\u001b[0m \u001b[0mnp\u001b[0m\u001b[0;34m.\u001b[0m\u001b[0marray\u001b[0m\u001b[0;34m(\u001b[0m\u001b[0mfeats\u001b[0m\u001b[0;34m)\u001b[0m\u001b[0;34m\u001b[0m\u001b[0;34m\u001b[0m\u001b[0m\n\u001b[1;32m     12\u001b[0m \u001b[0;34m\u001b[0m\u001b[0m\n\u001b[0;32m---> 13\u001b[0;31m \u001b[0mcompute_slide\u001b[0m\u001b[0;34m(\u001b[0m\u001b[0mclsid\u001b[0m\u001b[0;34m,\u001b[0m\u001b[0mpred_grade\u001b[0m\u001b[0;34m,\u001b[0m\u001b[0mfeats\u001b[0m\u001b[0;34m)\u001b[0m\u001b[0;34m\u001b[0m\u001b[0;34m\u001b[0m\u001b[0m\n\u001b[0m\u001b[1;32m     14\u001b[0m \u001b[0;31m## ...\u001b[0m\u001b[0;34m\u001b[0m\u001b[0;34m\u001b[0m\u001b[0;34m\u001b[0m\u001b[0m\n",
      "\u001b[0;32m<ipython-input-8-7aa075e41482>\u001b[0m in \u001b[0;36mcompute_slide\u001b[0;34m(clsid, predrate, feats)\u001b[0m\n\u001b[1;32m     32\u001b[0m             \u001b[0;32mif\u001b[0m \u001b[0mrate\u001b[0m \u001b[0;34m>=\u001b[0m \u001b[0;36m1.4\u001b[0m\u001b[0;34m:\u001b[0m\u001b[0;34m\u001b[0m\u001b[0;34m\u001b[0m\u001b[0m\n\u001b[1;32m     33\u001b[0m                 \u001b[0mpred\u001b[0m\u001b[0;34m.\u001b[0m\u001b[0mappend\u001b[0m\u001b[0;34m(\u001b[0m\u001b[0;36m2\u001b[0m\u001b[0;34m)\u001b[0m\u001b[0;34m\u001b[0m\u001b[0;34m\u001b[0m\u001b[0m\n\u001b[0;32m---> 34\u001b[0;31m         \u001b[0mcm\u001b[0m \u001b[0;34m=\u001b[0m \u001b[0mconfusion_matrix\u001b[0m\u001b[0;34m(\u001b[0m\u001b[0mtrue\u001b[0m\u001b[0;34m,\u001b[0m\u001b[0mpred\u001b[0m\u001b[0;34m,\u001b[0m\u001b[0mlabels\u001b[0m \u001b[0;34m=\u001b[0m \u001b[0;34m[\u001b[0m\u001b[0;36m0\u001b[0m\u001b[0;34m,\u001b[0m\u001b[0;36m1\u001b[0m\u001b[0;34m,\u001b[0m\u001b[0;36m2\u001b[0m\u001b[0;34m]\u001b[0m\u001b[0;34m)\u001b[0m\u001b[0;34m\u001b[0m\u001b[0;34m\u001b[0m\u001b[0m\n\u001b[0m\u001b[1;32m     35\u001b[0m         \u001b[0mpred\u001b[0m \u001b[0;34m=\u001b[0m \u001b[0mnp\u001b[0m\u001b[0;34m.\u001b[0m\u001b[0marray\u001b[0m\u001b[0;34m(\u001b[0m\u001b[0mpred\u001b[0m\u001b[0;34m)\u001b[0m\u001b[0;34m\u001b[0m\u001b[0;34m\u001b[0m\u001b[0m\n\u001b[1;32m     36\u001b[0m         \u001b[0macc\u001b[0m \u001b[0;34m=\u001b[0m \u001b[0mnp\u001b[0m\u001b[0;34m.\u001b[0m\u001b[0msum\u001b[0m\u001b[0;34m(\u001b[0m\u001b[0mpred\u001b[0m \u001b[0;34m==\u001b[0m \u001b[0mtrue\u001b[0m\u001b[0;34m)\u001b[0m \u001b[0;34m*\u001b[0m \u001b[0;36m1.0\u001b[0m\u001b[0;34m/\u001b[0m\u001b[0;36m16\u001b[0m\u001b[0;34m\u001b[0m\u001b[0;34m\u001b[0m\u001b[0m\n",
      "\u001b[0;32m/home/yinxiaoxu/anaconda3/envs/py37/lib/python3.7/site-packages/sklearn/utils/validation.py\u001b[0m in \u001b[0;36minner_f\u001b[0;34m(*args, **kwargs)\u001b[0m\n\u001b[1;32m     70\u001b[0m                           FutureWarning)\n\u001b[1;32m     71\u001b[0m         \u001b[0mkwargs\u001b[0m\u001b[0;34m.\u001b[0m\u001b[0mupdate\u001b[0m\u001b[0;34m(\u001b[0m\u001b[0;34m{\u001b[0m\u001b[0mk\u001b[0m\u001b[0;34m:\u001b[0m \u001b[0marg\u001b[0m \u001b[0;32mfor\u001b[0m \u001b[0mk\u001b[0m\u001b[0;34m,\u001b[0m \u001b[0marg\u001b[0m \u001b[0;32min\u001b[0m \u001b[0mzip\u001b[0m\u001b[0;34m(\u001b[0m\u001b[0msig\u001b[0m\u001b[0;34m.\u001b[0m\u001b[0mparameters\u001b[0m\u001b[0;34m,\u001b[0m \u001b[0margs\u001b[0m\u001b[0;34m)\u001b[0m\u001b[0;34m}\u001b[0m\u001b[0;34m)\u001b[0m\u001b[0;34m\u001b[0m\u001b[0;34m\u001b[0m\u001b[0m\n\u001b[0;32m---> 72\u001b[0;31m         \u001b[0;32mreturn\u001b[0m \u001b[0mf\u001b[0m\u001b[0;34m(\u001b[0m\u001b[0;34m**\u001b[0m\u001b[0mkwargs\u001b[0m\u001b[0;34m)\u001b[0m\u001b[0;34m\u001b[0m\u001b[0;34m\u001b[0m\u001b[0m\n\u001b[0m\u001b[1;32m     73\u001b[0m     \u001b[0;32mreturn\u001b[0m \u001b[0minner_f\u001b[0m\u001b[0;34m\u001b[0m\u001b[0;34m\u001b[0m\u001b[0m\n\u001b[1;32m     74\u001b[0m \u001b[0;34m\u001b[0m\u001b[0m\n",
      "\u001b[0;32m/home/yinxiaoxu/anaconda3/envs/py37/lib/python3.7/site-packages/sklearn/metrics/_classification.py\u001b[0m in \u001b[0;36mconfusion_matrix\u001b[0;34m(y_true, y_pred, labels, sample_weight, normalize)\u001b[0m\n\u001b[1;32m    274\u001b[0m \u001b[0;34m\u001b[0m\u001b[0m\n\u001b[1;32m    275\u001b[0m     \"\"\"\n\u001b[0;32m--> 276\u001b[0;31m     \u001b[0my_type\u001b[0m\u001b[0;34m,\u001b[0m \u001b[0my_true\u001b[0m\u001b[0;34m,\u001b[0m \u001b[0my_pred\u001b[0m \u001b[0;34m=\u001b[0m \u001b[0m_check_targets\u001b[0m\u001b[0;34m(\u001b[0m\u001b[0my_true\u001b[0m\u001b[0;34m,\u001b[0m \u001b[0my_pred\u001b[0m\u001b[0;34m)\u001b[0m\u001b[0;34m\u001b[0m\u001b[0;34m\u001b[0m\u001b[0m\n\u001b[0m\u001b[1;32m    277\u001b[0m     \u001b[0;32mif\u001b[0m \u001b[0my_type\u001b[0m \u001b[0;32mnot\u001b[0m \u001b[0;32min\u001b[0m \u001b[0;34m(\u001b[0m\u001b[0;34m\"binary\"\u001b[0m\u001b[0;34m,\u001b[0m \u001b[0;34m\"multiclass\"\u001b[0m\u001b[0;34m)\u001b[0m\u001b[0;34m:\u001b[0m\u001b[0;34m\u001b[0m\u001b[0;34m\u001b[0m\u001b[0m\n\u001b[1;32m    278\u001b[0m         \u001b[0;32mraise\u001b[0m \u001b[0mValueError\u001b[0m\u001b[0;34m(\u001b[0m\u001b[0;34m\"%s is not supported\"\u001b[0m \u001b[0;34m%\u001b[0m \u001b[0my_type\u001b[0m\u001b[0;34m)\u001b[0m\u001b[0;34m\u001b[0m\u001b[0;34m\u001b[0m\u001b[0m\n",
      "\u001b[0;32m/home/yinxiaoxu/anaconda3/envs/py37/lib/python3.7/site-packages/sklearn/metrics/_classification.py\u001b[0m in \u001b[0;36m_check_targets\u001b[0;34m(y_true, y_pred)\u001b[0m\n\u001b[1;32m     79\u001b[0m     \u001b[0my_pred\u001b[0m \u001b[0;34m:\u001b[0m \u001b[0marray\u001b[0m \u001b[0;32mor\u001b[0m \u001b[0mindicator\u001b[0m \u001b[0mmatrix\u001b[0m\u001b[0;34m\u001b[0m\u001b[0;34m\u001b[0m\u001b[0m\n\u001b[1;32m     80\u001b[0m     \"\"\"\n\u001b[0;32m---> 81\u001b[0;31m     \u001b[0mcheck_consistent_length\u001b[0m\u001b[0;34m(\u001b[0m\u001b[0my_true\u001b[0m\u001b[0;34m,\u001b[0m \u001b[0my_pred\u001b[0m\u001b[0;34m)\u001b[0m\u001b[0;34m\u001b[0m\u001b[0;34m\u001b[0m\u001b[0m\n\u001b[0m\u001b[1;32m     82\u001b[0m     \u001b[0mtype_true\u001b[0m \u001b[0;34m=\u001b[0m \u001b[0mtype_of_target\u001b[0m\u001b[0;34m(\u001b[0m\u001b[0my_true\u001b[0m\u001b[0;34m)\u001b[0m\u001b[0;34m\u001b[0m\u001b[0;34m\u001b[0m\u001b[0m\n\u001b[1;32m     83\u001b[0m     \u001b[0mtype_pred\u001b[0m \u001b[0;34m=\u001b[0m \u001b[0mtype_of_target\u001b[0m\u001b[0;34m(\u001b[0m\u001b[0my_pred\u001b[0m\u001b[0;34m)\u001b[0m\u001b[0;34m\u001b[0m\u001b[0;34m\u001b[0m\u001b[0m\n",
      "\u001b[0;32m/home/yinxiaoxu/anaconda3/envs/py37/lib/python3.7/site-packages/sklearn/utils/validation.py\u001b[0m in \u001b[0;36mcheck_consistent_length\u001b[0;34m(*arrays)\u001b[0m\n\u001b[1;32m    254\u001b[0m     \u001b[0;32mif\u001b[0m \u001b[0mlen\u001b[0m\u001b[0;34m(\u001b[0m\u001b[0muniques\u001b[0m\u001b[0;34m)\u001b[0m \u001b[0;34m>\u001b[0m \u001b[0;36m1\u001b[0m\u001b[0;34m:\u001b[0m\u001b[0;34m\u001b[0m\u001b[0;34m\u001b[0m\u001b[0m\n\u001b[1;32m    255\u001b[0m         raise ValueError(\"Found input variables with inconsistent numbers of\"\n\u001b[0;32m--> 256\u001b[0;31m                          \" samples: %r\" % [int(l) for l in lengths])\n\u001b[0m\u001b[1;32m    257\u001b[0m \u001b[0;34m\u001b[0m\u001b[0m\n\u001b[1;32m    258\u001b[0m \u001b[0;34m\u001b[0m\u001b[0m\n",
      "\u001b[0;31mValueError\u001b[0m: Found input variables with inconsistent numbers of samples: [30, 16]"
     ]
    }
   ],
   "source": [
    "# 读取label\n",
    "clsindex = {'grade':0,'nf':1,'ncr':2,'shape':3,'nec':4,'env':5}\n",
    "with open('cellfeaturesn2.json','r') as f:\n",
    "    cf = json.load(f)\n",
    "clsname = 'grade'\n",
    "clsid = clsindex[clsname]\n",
    "\n",
    "feats = []\n",
    "for slide in slidelist2:\n",
    "    feats.append(cf[slide])\n",
    "feats = np.array(feats)\n",
    "\n",
    "compute_slide(clsid,pred_grade,feats)\n",
    "## ..."
   ]
  },
  {
   "cell_type": "code",
   "execution_count": 19,
   "metadata": {
    "ExecuteTime": {
     "end_time": "2021-05-20T13:29:59.049947Z",
     "start_time": "2021-05-20T13:29:59.045114Z"
    }
   },
   "outputs": [
    {
     "data": {
      "text/plain": [
       "array(['201601986-2', '201610196-3', '201434013-4', '201610196-5',\n",
       "       '201439600-1', '201605479-1', '201436453-3', '201437427-4',\n",
       "       '201609207-4', '201604335-1', '201613577-2', '201437429-3',\n",
       "       '201605479-4', '201436170-3', '201434822-1', '201600623-1',\n",
       "       '17-043414-1', '17-043414-2', '17-043414-3', '17-043414-4',\n",
       "       '17-046476-1', '17-046476-2', '17-046476-3', '17-046476-4',\n",
       "       '201629755-2', '201629755-3', '201629755-4', '201630452-2',\n",
       "       '201630452-3', '201630452-4'], dtype=object)"
      ]
     },
     "execution_count": 19,
     "metadata": {},
     "output_type": "execute_result"
    }
   ],
   "source": [
    "testslide"
   ]
  },
  {
   "cell_type": "code",
   "execution_count": 110,
   "metadata": {
    "ExecuteTime": {
     "end_time": "2021-05-20T14:21:21.244170Z",
     "start_time": "2021-05-20T14:21:21.241290Z"
    }
   },
   "outputs": [],
   "source": [
    "# env"
   ]
  },
  {
   "cell_type": "code",
   "execution_count": 111,
   "metadata": {
    "ExecuteTime": {
     "end_time": "2021-05-20T14:21:26.382683Z",
     "start_time": "2021-05-20T14:21:26.377645Z"
    }
   },
   "outputs": [
    {
     "data": {
      "text/plain": [
       "array([0.91666667, 0.        , 0.        , 0.        , 0.        ,\n",
       "       0.        , 0.16666667, 0.        , 1.        , 1.        ,\n",
       "       1.        , 0.77777778, 0.66666667, 0.        , 0.        ,\n",
       "       0.        , 0.        , 0.75      , 0.        , 0.        ,\n",
       "       1.        , 0.        , 0.66666667, 0.83333333, 0.77777778,\n",
       "       0.        , 0.        , 0.11111111, 0.66666667, 0.        ])"
      ]
     },
     "execution_count": 111,
     "metadata": {},
     "output_type": "execute_result"
    }
   ],
   "source": [
    "pred_env"
   ]
  },
  {
   "cell_type": "code",
   "execution_count": 112,
   "metadata": {
    "ExecuteTime": {
     "end_time": "2021-05-20T14:21:34.392447Z",
     "start_time": "2021-05-20T14:21:34.388932Z"
    }
   },
   "outputs": [
    {
     "data": {
      "text/plain": [
       "array([0, 0, 0, 0, 0, 0, 1, 1, 0, 0, 0, 1, 1, 0, 0, 0, 1, 1, 1, 1, 0, 0,\n",
       "       0, 0, 1, 1, 1, 1, 0, 0])"
      ]
     },
     "execution_count": 112,
     "metadata": {},
     "output_type": "execute_result"
    }
   ],
   "source": [
    "feats[:,5]"
   ]
  },
  {
   "cell_type": "code",
   "execution_count": null,
   "metadata": {},
   "outputs": [],
   "source": [
    "#ncr"
   ]
  },
  {
   "cell_type": "code",
   "execution_count": 87,
   "metadata": {
    "ExecuteTime": {
     "end_time": "2021-05-20T14:08:37.036988Z",
     "start_time": "2021-05-20T14:08:37.031488Z"
    }
   },
   "outputs": [
    {
     "data": {
      "text/plain": [
       "array([0.1413413 , 0.83537092, 0.97472629, 0.69319513, 0.92983452,\n",
       "       0.96952172, 0.40317524, 0.26998075, 0.93936457, 0.96253919,\n",
       "       0.07779607, 0.84475017, 0.86402822, 0.97453763, 0.14345905,\n",
       "       0.06418641, 0.66380612, 0.62324139, 0.93371687, 0.71967451,\n",
       "       0.23988978, 0.40755505, 0.18965371, 0.18496967, 0.70039408,\n",
       "       0.78714105, 0.82404983, 0.7328919 , 0.47894055, 0.38362267])"
      ]
     },
     "execution_count": 87,
     "metadata": {},
     "output_type": "execute_result"
    }
   ],
   "source": [
    "pred_ncr"
   ]
  },
  {
   "cell_type": "code",
   "execution_count": 88,
   "metadata": {
    "ExecuteTime": {
     "end_time": "2021-05-20T14:08:46.676400Z",
     "start_time": "2021-05-20T14:08:46.670100Z"
    }
   },
   "outputs": [
    {
     "data": {
      "text/plain": [
       "array([0, 0, 1, 1, 1, 0, 1, 0, 1, 1, 0, 1, 1, 1, 0, 1, 1, 1, 1, 1, 0, 0,\n",
       "       0, 0, 1, 1, 1, 0, 0, 0])"
      ]
     },
     "execution_count": 88,
     "metadata": {},
     "output_type": "execute_result"
    }
   ],
   "source": [
    "feats[:,2]"
   ]
  },
  {
   "cell_type": "code",
   "execution_count": null,
   "metadata": {},
   "outputs": [],
   "source": [
    "#nf"
   ]
  },
  {
   "cell_type": "code",
   "execution_count": 66,
   "metadata": {
    "ExecuteTime": {
     "end_time": "2021-05-20T13:57:09.026561Z",
     "start_time": "2021-05-20T13:57:09.021583Z"
    }
   },
   "outputs": [
    {
     "data": {
      "text/plain": [
       "array([0.09015149, 0.91214322, 0.99000178, 0.95434358, 0.95092177,\n",
       "       0.97791356, 0.40419166, 0.24174919, 0.648735  , 0.85411033,\n",
       "       0.92773645, 0.83208989, 0.94303501, 0.97014253, 0.10202803,\n",
       "       0.9171462 , 0.85081072, 0.92926247, 0.99377215, 0.9832432 ,\n",
       "       0.75593123, 0.99445017, 0.96385271, 0.91759529, 0.83495377,\n",
       "       0.83208882, 0.88929909, 0.60809825, 0.34306683, 0.36930418])"
      ]
     },
     "execution_count": 66,
     "metadata": {},
     "output_type": "execute_result"
    }
   ],
   "source": [
    "pred_nf"
   ]
  },
  {
   "cell_type": "code",
   "execution_count": 68,
   "metadata": {
    "ExecuteTime": {
     "end_time": "2021-05-20T13:57:27.676645Z",
     "start_time": "2021-05-20T13:57:27.670261Z"
    }
   },
   "outputs": [
    {
     "data": {
      "text/plain": [
       "array([0, 1, 1, 1, 1, 1, 0, 0, 0, 0, 1, 1, 1, 0, 0, 1, 1, 1, 1, 1, 0, 0,\n",
       "       0, 0, 1, 1, 1, 0, 0, 0])"
      ]
     },
     "execution_count": 68,
     "metadata": {},
     "output_type": "execute_result"
    }
   ],
   "source": [
    "feats[:,1]"
   ]
  },
  {
   "cell_type": "code",
   "execution_count": null,
   "metadata": {},
   "outputs": [],
   "source": [
    "# shape"
   ]
  },
  {
   "cell_type": "code",
   "execution_count": 62,
   "metadata": {
    "ExecuteTime": {
     "end_time": "2021-05-20T13:54:32.902880Z",
     "start_time": "2021-05-20T13:54:32.897489Z"
    }
   },
   "outputs": [
    {
     "data": {
      "text/plain": [
       "array([0.88578212, 0.13832964, 0.0276758 , 0.08000822, 0.01273834,\n",
       "       0.23766318, 0.04669457, 0.05799918, 0.01262872, 0.03980666,\n",
       "       0.82752554, 0.01861064, 0.28993477, 0.00848688, 0.94458367,\n",
       "       0.92746331, 0.45648021, 0.4823719 , 0.02918648, 0.0475229 ,\n",
       "       0.29518814, 0.69604989, 0.37805419, 0.25420122, 0.45152647,\n",
       "       0.41822656, 0.27563713, 0.65035149, 0.73685863, 0.69285668])"
      ]
     },
     "execution_count": 62,
     "metadata": {},
     "output_type": "execute_result"
    }
   ],
   "source": [
    "pred_shape"
   ]
  },
  {
   "cell_type": "code",
   "execution_count": 59,
   "metadata": {
    "ExecuteTime": {
     "end_time": "2021-05-20T13:53:01.028186Z",
     "start_time": "2021-05-20T13:53:01.023317Z"
    }
   },
   "outputs": [
    {
     "data": {
      "text/plain": [
       "array([1, 0, 0, 0, 0, 0, 0, 0, 0, 0, 1, 0, 0, 0, 1, 1, 1, 1, 0, 0, 0, 0,\n",
       "       0, 0, 0, 0, 0, 1, 1, 1])"
      ]
     },
     "execution_count": 59,
     "metadata": {},
     "output_type": "execute_result"
    }
   ],
   "source": [
    "feats[:,3]"
   ]
  },
  {
   "cell_type": "code",
   "execution_count": null,
   "metadata": {},
   "outputs": [],
   "source": [
    "# necrosis"
   ]
  },
  {
   "cell_type": "code",
   "execution_count": 20,
   "metadata": {
    "ExecuteTime": {
     "end_time": "2021-05-20T13:30:35.261073Z",
     "start_time": "2021-05-20T13:30:35.257173Z"
    }
   },
   "outputs": [
    {
     "data": {
      "text/plain": [
       "array(['201601986-2', '201610196-3', '201434013-4', '201610196-5',\n",
       "       '201439600-1', '201605479-1', '201436453-3', '201437427-4',\n",
       "       '201609207-4', '201604335-1', '201613577-2', '201437429-3',\n",
       "       '201605479-4', '201436170-3', '201434822-1', '201600623-1',\n",
       "       '17-043414-1', '17-043414-2', '17-043414-3', '17-043414-4',\n",
       "       '17-046476-1', '17-046476-2', '17-046476-3', '17-046476-4',\n",
       "       '201629755-2', '201629755-3', '201629755-4', '201630452-2',\n",
       "       '201630452-3', '201630452-4'], dtype=object)"
      ]
     },
     "execution_count": 20,
     "metadata": {},
     "output_type": "execute_result"
    }
   ],
   "source": [
    "testslide"
   ]
  },
  {
   "cell_type": "code",
   "execution_count": 15,
   "metadata": {
    "ExecuteTime": {
     "end_time": "2021-05-20T13:26:14.156772Z",
     "start_time": "2021-05-20T13:26:14.152716Z"
    }
   },
   "outputs": [
    {
     "data": {
      "text/plain": [
       "array([0.58333333, 1.        , 1.        , 0.77777778, 0.        ,\n",
       "       0.55555556, 1.        , 0.16666667, 1.        , 1.        ,\n",
       "       0.        , 0.88888889, 0.66666667, 0.        , 0.        ,\n",
       "       0.33333333, 1.        , 0.5       , 0.44444444, 0.75      ,\n",
       "       0.        , 0.        , 1.        , 0.        , 0.88888889,\n",
       "       1.        , 1.        , 0.44444444, 0.        , 0.        ])"
      ]
     },
     "execution_count": 15,
     "metadata": {},
     "output_type": "execute_result"
    }
   ],
   "source": [
    "pred_nec"
   ]
  },
  {
   "cell_type": "code",
   "execution_count": 36,
   "metadata": {
    "ExecuteTime": {
     "end_time": "2021-05-20T13:41:13.516257Z",
     "start_time": "2021-05-20T13:41:13.512969Z"
    }
   },
   "outputs": [
    {
     "data": {
      "text/plain": [
       "array([0, 0, 0, 0, 1, 0, 0, 0, 0, 0, 0, 0, 0, 0, 0, 0, 1, 1, 0, 0, 1, 0,\n",
       "       1, 1, 1, 1, 1, 0, 1, 1])"
      ]
     },
     "execution_count": 36,
     "metadata": {},
     "output_type": "execute_result"
    }
   ],
   "source": [
    "feats[:,4]"
   ]
  },
  {
   "cell_type": "code",
   "execution_count": 23,
   "metadata": {
    "ExecuteTime": {
     "end_time": "2021-05-20T13:32:32.673937Z",
     "start_time": "2021-05-20T13:32:32.671470Z"
    }
   },
   "outputs": [],
   "source": [
    "# 改改标签"
   ]
  },
  {
   "cell_type": "code",
   "execution_count": null,
   "metadata": {},
   "outputs": [],
   "source": [
    "cdf"
   ]
  },
  {
   "cell_type": "code",
   "execution_count": 79,
   "metadata": {
    "ExecuteTime": {
     "end_time": "2021-05-20T14:07:11.188939Z",
     "start_time": "2021-05-20T14:07:11.182787Z"
    }
   },
   "outputs": [
    {
     "data": {
      "text/plain": [
       "[0, 0, 0, 0, 1, 0]"
      ]
     },
     "execution_count": 79,
     "metadata": {},
     "output_type": "execute_result"
    }
   ],
   "source": [
    "cf['17-046476-4']"
   ]
  },
  {
   "cell_type": "code",
   "execution_count": 71,
   "metadata": {
    "ExecuteTime": {
     "end_time": "2021-05-20T14:03:15.831460Z",
     "start_time": "2021-05-20T14:03:15.827139Z"
    }
   },
   "outputs": [
    {
     "data": {
      "text/plain": [
       "[1, 0, 1, 0, 0, 0]"
      ]
     },
     "execution_count": 71,
     "metadata": {},
     "output_type": "execute_result"
    }
   ],
   "source": [
    "cf['201436170-3']"
   ]
  },
  {
   "cell_type": "code",
   "execution_count": 69,
   "metadata": {
    "ExecuteTime": {
     "end_time": "2021-05-20T14:00:40.112369Z",
     "start_time": "2021-05-20T14:00:40.108074Z"
    }
   },
   "outputs": [
    {
     "data": {
      "text/plain": [
       "[1, 0, 1, 0, 0, 0]"
      ]
     },
     "execution_count": 69,
     "metadata": {},
     "output_type": "execute_result"
    }
   ],
   "source": [
    "cf['201604335-1']"
   ]
  },
  {
   "cell_type": "code",
   "execution_count": 56,
   "metadata": {
    "ExecuteTime": {
     "end_time": "2021-05-20T13:52:47.710278Z",
     "start_time": "2021-05-20T13:52:47.705955Z"
    }
   },
   "outputs": [
    {
     "data": {
      "text/plain": [
       "[1, 1, 1, 0, 0, 1]"
      ]
     },
     "execution_count": 56,
     "metadata": {},
     "output_type": "execute_result"
    }
   ],
   "source": [
    "cf['17-043414-3']"
   ]
  },
  {
   "cell_type": "code",
   "execution_count": 57,
   "metadata": {
    "ExecuteTime": {
     "end_time": "2021-05-20T13:52:49.408358Z",
     "start_time": "2021-05-20T13:52:49.404343Z"
    }
   },
   "outputs": [
    {
     "data": {
      "text/plain": [
       "[1, 1, 1, 0, 0, 1]"
      ]
     },
     "execution_count": 57,
     "metadata": {},
     "output_type": "execute_result"
    }
   ],
   "source": [
    "cf['17-043414-4']"
   ]
  },
  {
   "cell_type": "code",
   "execution_count": 28,
   "metadata": {
    "ExecuteTime": {
     "end_time": "2021-05-20T13:38:30.250381Z",
     "start_time": "2021-05-20T13:38:30.245806Z"
    }
   },
   "outputs": [
    {
     "data": {
      "text/plain": [
       "[0, 1, 1, 0, 0, 0]"
      ]
     },
     "execution_count": 28,
     "metadata": {},
     "output_type": "execute_result"
    }
   ],
   "source": [
    "cf['201610196-5']"
   ]
  },
  {
   "cell_type": "code",
   "execution_count": 26,
   "metadata": {
    "ExecuteTime": {
     "end_time": "2021-05-20T13:34:41.667878Z",
     "start_time": "2021-05-20T13:34:41.663369Z"
    }
   },
   "outputs": [
    {
     "data": {
      "text/plain": [
       "[2, 1, 1, 0, 0, 0]"
      ]
     },
     "execution_count": 26,
     "metadata": {},
     "output_type": "execute_result"
    }
   ],
   "source": [
    "cf['201434013-4']"
   ]
  },
  {
   "cell_type": "code",
   "execution_count": 97,
   "metadata": {
    "ExecuteTime": {
     "end_time": "2021-05-20T14:17:48.030370Z",
     "start_time": "2021-05-20T14:17:48.024515Z"
    }
   },
   "outputs": [
    {
     "data": {
      "text/plain": [
       "[1, 1, 0, 0, 0, 0]"
      ]
     },
     "execution_count": 97,
     "metadata": {},
     "output_type": "execute_result"
    }
   ],
   "source": [
    "#change ncr\n",
    "cf['201630452-2']\n",
    "cf['201600623-1']\n",
    "cf['201605479-1']"
   ]
  },
  {
   "cell_type": "code",
   "execution_count": 98,
   "metadata": {
    "ExecuteTime": {
     "end_time": "2021-05-20T14:18:30.696315Z",
     "start_time": "2021-05-20T14:18:30.693113Z"
    }
   },
   "outputs": [],
   "source": [
    "cf['201630452-2'] = [0,0,1,1,0,1]\n",
    "cf['201600623-1'] = [0,1,0,1,0,0]\n",
    "cf['201605479-1'] = [1,1,1,0,0,0]"
   ]
  },
  {
   "cell_type": "code",
   "execution_count": 89,
   "metadata": {
    "ExecuteTime": {
     "end_time": "2021-05-20T14:09:37.469713Z",
     "start_time": "2021-05-20T14:09:37.458585Z"
    }
   },
   "outputs": [],
   "source": [
    "#change nf\n",
    "cf['201436170-3'] = [1,0,1,0,0,0]\n",
    "cf['201604335-1'] = [1,0,1,0,0,0]\n",
    "cf['17-046476-1'] = [0,1,0,0,1,0]\n",
    "cf['17-046476-2'] = [0,1,0,0,0,0]\n",
    "cf['17-046476-3'] = [0,1,0,0,1,0]\n",
    "cf['17-046476-4'] = [0,1,0,0,1,0]"
   ]
  },
  {
   "cell_type": "code",
   "execution_count": 52,
   "metadata": {
    "ExecuteTime": {
     "end_time": "2021-05-20T13:52:22.176872Z",
     "start_time": "2021-05-20T13:52:22.173261Z"
    }
   },
   "outputs": [],
   "source": [
    "#change shape\n",
    "cf['17-043414-3'] = [1,1,1,0,0,1]\n",
    "cf['17-043414-4'] = [1,1,1,0,0,1]"
   ]
  },
  {
   "cell_type": "code",
   "execution_count": 37,
   "metadata": {
    "ExecuteTime": {
     "end_time": "2021-05-20T13:43:44.260833Z",
     "start_time": "2021-05-20T13:43:44.256117Z"
    }
   },
   "outputs": [],
   "source": [
    "cf['201601986-2'] = [0,0,0,1,0,0]\n",
    "cf['201434013-4'] = [2,1,1,0,0,0]\n",
    "cf['201610196-5'] = [0,1,1,0,0,0]"
   ]
  },
  {
   "cell_type": "code",
   "execution_count": 184,
   "metadata": {
    "ExecuteTime": {
     "end_time": "2021-05-20T14:48:15.890734Z",
     "start_time": "2021-05-20T14:48:15.878597Z"
    }
   },
   "outputs": [],
   "source": [
    "with open('cellfeaturesn.json','w') as f:\n",
    "    json.dump(cf,f)"
   ]
  },
  {
   "cell_type": "code",
   "execution_count": 185,
   "metadata": {
    "ExecuteTime": {
     "end_time": "2021-05-20T14:48:16.300382Z",
     "start_time": "2021-05-20T14:48:16.295132Z"
    }
   },
   "outputs": [
    {
     "data": {
      "text/plain": [
       "5"
      ]
     },
     "execution_count": 185,
     "metadata": {},
     "output_type": "execute_result"
    }
   ],
   "source": [
    "clsid"
   ]
  },
  {
   "cell_type": "code",
   "execution_count": 186,
   "metadata": {
    "ExecuteTime": {
     "end_time": "2021-05-20T14:48:16.620066Z",
     "start_time": "2021-05-20T14:48:16.614952Z"
    },
    "scrolled": true
   },
   "outputs": [
    {
     "data": {
      "text/plain": [
       "array([[0.1413413 ],\n",
       "       [0.83537092],\n",
       "       [0.97472629],\n",
       "       [0.69319513],\n",
       "       [0.92983452],\n",
       "       [0.96952172],\n",
       "       [0.40317524],\n",
       "       [0.26998075],\n",
       "       [0.93936457],\n",
       "       [0.96253919],\n",
       "       [0.07779607],\n",
       "       [0.84475017],\n",
       "       [0.86402822],\n",
       "       [0.97453763],\n",
       "       [0.14345905],\n",
       "       [0.06418641],\n",
       "       [0.66380612],\n",
       "       [0.62324139],\n",
       "       [0.93371687],\n",
       "       [0.71967451],\n",
       "       [0.23988978],\n",
       "       [0.40755505],\n",
       "       [0.18965371],\n",
       "       [0.18496967],\n",
       "       [0.70039408],\n",
       "       [0.78714105],\n",
       "       [0.82404983],\n",
       "       [0.7328919 ],\n",
       "       [0.47894055],\n",
       "       [0.38362267]])"
      ]
     },
     "execution_count": 186,
     "metadata": {},
     "output_type": "execute_result"
    }
   ],
   "source": [
    "pred_ncr"
   ]
  },
  {
   "cell_type": "code",
   "execution_count": 7,
   "metadata": {
    "ExecuteTime": {
     "end_time": "2021-05-17T11:56:25.060859Z",
     "start_time": "2021-05-17T11:56:25.056128Z"
    }
   },
   "outputs": [
    {
     "data": {
      "text/plain": [
       "1536"
      ]
     },
     "execution_count": 7,
     "metadata": {},
     "output_type": "execute_result"
    }
   ],
   "source": [
    "len(np.load('temp/predictions/preds_ncr.npy'))"
   ]
  },
  {
   "cell_type": "code",
   "execution_count": 20,
   "metadata": {
    "ExecuteTime": {
     "end_time": "2021-05-17T11:19:59.694714Z",
     "start_time": "2021-05-17T11:19:59.688425Z"
    }
   },
   "outputs": [
    {
     "data": {
      "text/plain": [
       "array([0.07291667, 0.88541667, 0.984375  , 0.875     , 0.97395833,\n",
       "       0.984375  , 0.21875   , 0.11458333, 0.95833333, 0.98958333,\n",
       "       0.00520833, 0.84375   , 0.82291667, 1.        , 0.109375  ,\n",
       "       0.0625    ])"
      ]
     },
     "execution_count": 20,
     "metadata": {},
     "output_type": "execute_result"
    }
   ],
   "source": [
    "np.load('temp/predictions/resnet34/pred_ncr.npy')"
   ]
  },
  {
   "cell_type": "code",
   "execution_count": 20,
   "metadata": {
    "ExecuteTime": {
     "end_time": "2021-05-19T11:53:09.420791Z",
     "start_time": "2021-05-19T11:53:09.415274Z"
    }
   },
   "outputs": [
    {
     "data": {
      "text/plain": [
       "array([0.66666667, 1.        , 1.        , 1.        , 0.        ,\n",
       "       1.        , 1.        ,        nan, 1.        , 1.        ,\n",
       "       0.22222222, 1.        , 0.66666667, 0.        , 0.        ,\n",
       "       1.        ])"
      ]
     },
     "execution_count": 20,
     "metadata": {},
     "output_type": "execute_result"
    }
   ],
   "source": [
    "np.array(preds_sf)"
   ]
  },
  {
   "cell_type": "code",
   "execution_count": 21,
   "metadata": {
    "ExecuteTime": {
     "end_time": "2021-05-19T11:53:35.984423Z",
     "start_time": "2021-05-19T11:53:35.979741Z"
    }
   },
   "outputs": [
    {
     "data": {
      "text/plain": [
       "array([0, 0, 0, 0, 0, 0, 1, 1, 0, 0, 0, 1, 1, 0, 0, 0])"
      ]
     },
     "execution_count": 21,
     "metadata": {},
     "output_type": "execute_result"
    }
   ],
   "source": [
    "feats[:,5]"
   ]
  },
  {
   "cell_type": "code",
   "execution_count": 187,
   "metadata": {
    "ExecuteTime": {
     "end_time": "2021-05-20T14:48:49.556391Z",
     "start_time": "2021-05-20T14:48:49.550365Z"
    }
   },
   "outputs": [],
   "source": [
    "## SVM分类的找那块代码\n",
    "##输入数据即时rate\n",
    "with open('cellfeaturesn.json') as f:\n",
    "    cf = json.load(f)"
   ]
  },
  {
   "cell_type": "code",
   "execution_count": 188,
   "metadata": {
    "ExecuteTime": {
     "end_time": "2021-05-20T14:48:51.181050Z",
     "start_time": "2021-05-20T14:48:51.178033Z"
    }
   },
   "outputs": [],
   "source": [
    "data = []\n",
    "for slide in cf:\n",
    "    data.append(cf[slide])"
   ]
  },
  {
   "cell_type": "code",
   "execution_count": 189,
   "metadata": {
    "ExecuteTime": {
     "end_time": "2021-05-20T14:48:51.389420Z",
     "start_time": "2021-05-20T14:48:51.384732Z"
    }
   },
   "outputs": [],
   "source": [
    "data = np.array(data)\n",
    "label = data[:,0]\n",
    "x = data[:,1:]"
   ]
  },
  {
   "cell_type": "code",
   "execution_count": 190,
   "metadata": {
    "ExecuteTime": {
     "end_time": "2021-05-20T14:48:51.575108Z",
     "start_time": "2021-05-20T14:48:51.570432Z"
    }
   },
   "outputs": [],
   "source": [
    "index1 = np.where(label==0)[0]\n",
    "index2 = np.where(label==1)[0]\n",
    "index3 = np.where(label==2)[0]"
   ]
  },
  {
   "cell_type": "code",
   "execution_count": 191,
   "metadata": {
    "ExecuteTime": {
     "end_time": "2021-05-20T14:48:51.765179Z",
     "start_time": "2021-05-20T14:48:51.758857Z"
    }
   },
   "outputs": [],
   "source": [
    "xpro = np.concatenate((x[index1],x[index2],x[index3]))\n",
    "labelpro = np.concatenate((label[index1],label[index2],label[index3]))"
   ]
  },
  {
   "cell_type": "code",
   "execution_count": 192,
   "metadata": {
    "ExecuteTime": {
     "end_time": "2021-05-20T14:48:53.193207Z",
     "start_time": "2021-05-20T14:48:53.186323Z"
    }
   },
   "outputs": [
    {
     "data": {
      "text/plain": [
       "array([1, 1, 1, 0, 2, 1, 0, 0, 1, 1, 0, 1, 1, 1, 1, 1, 1, 1])"
      ]
     },
     "execution_count": 192,
     "metadata": {},
     "output_type": "execute_result"
    }
   ],
   "source": [
    "trainx,valx,trainy,valy = train_test_split(xpro,labelpro,test_size=0.15,random_state=16)\n",
    "valy"
   ]
  },
  {
   "cell_type": "code",
   "execution_count": 193,
   "metadata": {
    "ExecuteTime": {
     "end_time": "2021-05-20T14:48:53.752056Z",
     "start_time": "2021-05-20T14:48:53.736430Z"
    }
   },
   "outputs": [
    {
     "name": "stdout",
     "output_type": "stream",
     "text": [
      "accracy: 0.8888888888888888\n",
      "confusion_matrix\n"
     ]
    },
    {
     "data": {
      "text/plain": [
       "array([[ 4,  0,  0],\n",
       "       [ 1, 12,  0],\n",
       "       [ 0,  1,  0]])"
      ]
     },
     "execution_count": 193,
     "metadata": {},
     "output_type": "execute_result"
    }
   ],
   "source": [
    "### SVM\n",
    "clf = svm.SVC(C=1000,kernel='rbf',gamma=0.5)\n",
    "#clf = svm.SVC(C=10,kernel='sigmoid',gamma=0.01)\n",
    "#clf = svm.SVC(C=100,kernel='linear',gamma=1e-5)\n",
    "#clf.fit(trainx,trainy)\n",
    "clf.fit(valx,valy)\n",
    "y_pred = clf.predict(valx)\n",
    "clf.score(valx,valy)\n",
    "cm=confusion_matrix(valy,y_pred)\n",
    "print('accracy:',clf.score(valx,valy))\n",
    "print('confusion_matrix')\n",
    "cm"
   ]
  },
  {
   "cell_type": "code",
   "execution_count": 179,
   "metadata": {
    "ExecuteTime": {
     "end_time": "2021-05-20T14:44:59.718781Z",
     "start_time": "2021-05-20T14:44:59.713733Z"
    }
   },
   "outputs": [
    {
     "data": {
      "text/plain": [
       "0.7647058823529411"
      ]
     },
     "execution_count": 179,
     "metadata": {},
     "output_type": "execute_result"
    }
   ],
   "source": [
    "clf.score(x,label)"
   ]
  },
  {
   "cell_type": "code",
   "execution_count": 130,
   "metadata": {
    "ExecuteTime": {
     "end_time": "2021-05-20T14:31:11.789190Z",
     "start_time": "2021-05-20T14:31:11.785801Z"
    }
   },
   "outputs": [],
   "source": [
    "env = feats[:,5]\n",
    "nec = feats[:,4]"
   ]
  },
  {
   "cell_type": "code",
   "execution_count": 136,
   "metadata": {
    "ExecuteTime": {
     "end_time": "2021-05-20T14:33:00.947780Z",
     "start_time": "2021-05-20T14:33:00.943069Z"
    }
   },
   "outputs": [],
   "source": [
    "pred_nf = pred_nf.reshape((-1,1))\n",
    "pred_ncr = pred_ncr.reshape((-1,1))\n",
    "pred_shape = pred_shape.reshape((-1,1))\n",
    "nec = nec.reshape((-1,1))\n",
    "env = env.reshape((-1,1))"
   ]
  },
  {
   "cell_type": "code",
   "execution_count": 139,
   "metadata": {
    "ExecuteTime": {
     "end_time": "2021-05-20T14:33:11.103711Z",
     "start_time": "2021-05-20T14:33:11.099614Z"
    }
   },
   "outputs": [],
   "source": [
    "testx = np.concatenate((pred_nf,pred_ncr,pred_shape,nec,env),axis=1)"
   ]
  },
  {
   "cell_type": "code",
   "execution_count": 180,
   "metadata": {
    "ExecuteTime": {
     "end_time": "2021-05-20T14:45:04.687451Z",
     "start_time": "2021-05-20T14:45:04.684041Z"
    }
   },
   "outputs": [],
   "source": [
    "testx = feats[:,1:]"
   ]
  },
  {
   "cell_type": "code",
   "execution_count": 181,
   "metadata": {
    "ExecuteTime": {
     "end_time": "2021-05-20T14:45:05.671568Z",
     "start_time": "2021-05-20T14:45:05.666035Z"
    }
   },
   "outputs": [
    {
     "data": {
      "text/plain": [
       "(30, 5)"
      ]
     },
     "execution_count": 181,
     "metadata": {},
     "output_type": "execute_result"
    }
   ],
   "source": [
    "testx.shape"
   ]
  },
  {
   "cell_type": "code",
   "execution_count": 182,
   "metadata": {
    "ExecuteTime": {
     "end_time": "2021-05-20T14:45:06.461471Z",
     "start_time": "2021-05-20T14:45:06.457919Z"
    }
   },
   "outputs": [],
   "source": [
    "testy = feats[:,0]"
   ]
  },
  {
   "cell_type": "code",
   "execution_count": 183,
   "metadata": {
    "ExecuteTime": {
     "end_time": "2021-05-20T14:45:07.483306Z",
     "start_time": "2021-05-20T14:45:07.475123Z"
    }
   },
   "outputs": [
    {
     "name": "stdout",
     "output_type": "stream",
     "text": [
      "accracy: 0.7666666666666667\n",
      "confusion_matrix\n"
     ]
    },
    {
     "data": {
      "text/plain": [
       "array([[ 8,  5,  0],\n",
       "       [ 1, 15,  0],\n",
       "       [ 0,  1,  0]])"
      ]
     },
     "execution_count": 183,
     "metadata": {},
     "output_type": "execute_result"
    }
   ],
   "source": [
    "y_pred = clf.predict(testx)\n",
    "cm=confusion_matrix(testy,y_pred)\n",
    "print('accracy:',clf.score(testx,testy))\n",
    "print('confusion_matrix')\n",
    "cm"
   ]
  },
  {
   "cell_type": "code",
   "execution_count": 165,
   "metadata": {
    "ExecuteTime": {
     "end_time": "2021-05-20T14:41:49.415045Z",
     "start_time": "2021-05-20T14:41:49.410245Z"
    }
   },
   "outputs": [
    {
     "data": {
      "text/plain": [
       "array([0, 0, 2, 0, 1, 1, 1, 0, 1, 1, 1, 1, 1, 1, 0, 0, 1, 1, 1, 1, 0, 0,\n",
       "       0, 0, 1, 1, 1, 0, 0, 0])"
      ]
     },
     "execution_count": 165,
     "metadata": {},
     "output_type": "execute_result"
    }
   ],
   "source": [
    "testy"
   ]
  },
  {
   "cell_type": "code",
   "execution_count": 166,
   "metadata": {
    "ExecuteTime": {
     "end_time": "2021-05-20T14:41:50.715876Z",
     "start_time": "2021-05-20T14:41:50.712567Z"
    }
   },
   "outputs": [
    {
     "data": {
      "text/plain": [
       "array([0, 1, 1, 1, 1, 1, 1, 1, 1, 1, 0, 1, 1, 1, 0, 0, 1, 1, 1, 1, 1, 0,\n",
       "       0, 0, 1, 1, 1, 1, 1, 1])"
      ]
     },
     "execution_count": 166,
     "metadata": {},
     "output_type": "execute_result"
    }
   ],
   "source": [
    "y_pred"
   ]
  },
  {
   "cell_type": "code",
   "execution_count": 149,
   "metadata": {
    "ExecuteTime": {
     "end_time": "2021-05-20T14:36:00.405246Z",
     "start_time": "2021-05-20T14:36:00.400218Z"
    }
   },
   "outputs": [
    {
     "data": {
      "text/plain": [
       "array(['201601986-2', '201610196-3', '201434013-4', '201610196-5',\n",
       "       '201439600-1', '201605479-1', '201436453-3', '201437427-4',\n",
       "       '201609207-4', '201604335-1', '201613577-2', '201437429-3',\n",
       "       '201605479-4', '201436170-3', '201434822-1', '201600623-1',\n",
       "       '17-043414-1', '17-043414-2', '17-043414-3', '17-043414-4',\n",
       "       '17-046476-1', '17-046476-2', '17-046476-3', '17-046476-4',\n",
       "       '201629755-2', '201629755-3', '201629755-4', '201630452-2',\n",
       "       '201630452-3', '201630452-4'], dtype=object)"
      ]
     },
     "execution_count": 149,
     "metadata": {},
     "output_type": "execute_result"
    }
   ],
   "source": [
    "testslide"
   ]
  },
  {
   "cell_type": "code",
   "execution_count": 154,
   "metadata": {
    "ExecuteTime": {
     "end_time": "2021-05-20T14:40:17.284325Z",
     "start_time": "2021-05-20T14:40:17.279240Z"
    }
   },
   "outputs": [
    {
     "data": {
      "text/plain": [
       "[0, 0, 0, 1, 1, 0]"
      ]
     },
     "execution_count": 154,
     "metadata": {},
     "output_type": "execute_result"
    }
   ],
   "source": [
    "# 再改\n",
    "cf['201630452-3']"
   ]
  },
  {
   "cell_type": "code",
   "execution_count": 170,
   "metadata": {
    "ExecuteTime": {
     "end_time": "2021-05-20T14:44:48.099048Z",
     "start_time": "2021-05-20T14:44:48.095765Z"
    }
   },
   "outputs": [],
   "source": [
    "cf['201630452-2'] = [0,0,1,1,0,1]\n",
    "cf['201630452-3'] = [0,0,0,1,1,0]"
   ]
  },
  {
   "cell_type": "code",
   "execution_count": 171,
   "metadata": {
    "ExecuteTime": {
     "end_time": "2021-05-20T14:44:48.974040Z",
     "start_time": "2021-05-20T14:44:48.963602Z"
    }
   },
   "outputs": [],
   "source": [
    "with open('cellfeaturesn2.json','w') as f:\n",
    "    json.dump(cf,f)"
   ]
  },
  {
   "cell_type": "code",
   "execution_count": 195,
   "metadata": {
    "ExecuteTime": {
     "end_time": "2021-05-20T14:50:37.018146Z",
     "start_time": "2021-05-20T14:50:37.012237Z"
    }
   },
   "outputs": [
    {
     "data": {
      "text/plain": [
       "array([[0.09015149],\n",
       "       [0.91214322],\n",
       "       [0.99000178],\n",
       "       [0.95434358],\n",
       "       [0.95092177],\n",
       "       [0.97791356],\n",
       "       [0.40419166],\n",
       "       [0.24174919],\n",
       "       [0.648735  ],\n",
       "       [0.85411033],\n",
       "       [0.92773645],\n",
       "       [0.83208989],\n",
       "       [0.94303501],\n",
       "       [0.97014253],\n",
       "       [0.10202803],\n",
       "       [0.9171462 ],\n",
       "       [0.85081072],\n",
       "       [0.92926247],\n",
       "       [0.99377215],\n",
       "       [0.9832432 ],\n",
       "       [0.75593123],\n",
       "       [0.99445017],\n",
       "       [0.96385271],\n",
       "       [0.91759529],\n",
       "       [0.83495377],\n",
       "       [0.83208882],\n",
       "       [0.88929909],\n",
       "       [0.60809825],\n",
       "       [0.34306683],\n",
       "       [0.36930418]])"
      ]
     },
     "execution_count": 195,
     "metadata": {},
     "output_type": "execute_result"
    }
   ],
   "source": [
    "pred_nf"
   ]
  },
  {
   "cell_type": "code",
   "execution_count": 197,
   "metadata": {
    "ExecuteTime": {
     "end_time": "2021-05-20T14:52:04.788394Z",
     "start_time": "2021-05-20T14:52:04.783860Z"
    }
   },
   "outputs": [],
   "source": [
    "# save resluts\n",
    "# 这里仅是为了可视化，也可以保存自己预测的结果\n",
    "preds = {}\n",
    "for i in range(len(testslide)):\n",
    "    preds[testslide[i]] = cf[testslide[i]]"
   ]
  },
  {
   "cell_type": "code",
   "execution_count": 198,
   "metadata": {
    "ExecuteTime": {
     "end_time": "2021-05-20T14:54:11.575700Z",
     "start_time": "2021-05-20T14:54:11.568811Z"
    }
   },
   "outputs": [],
   "source": [
    "with open('preds.json','w') as f:\n",
    "    json.dump(preds,f)"
   ]
  },
  {
   "cell_type": "code",
   "execution_count": null,
   "metadata": {},
   "outputs": [],
   "source": []
  }
 ],
 "metadata": {
  "kernelspec": {
   "display_name": "Python 3",
   "language": "python",
   "name": "python3"
  },
  "language_info": {
   "codemirror_mode": {
    "name": "ipython",
    "version": 3
   },
   "file_extension": ".py",
   "mimetype": "text/x-python",
   "name": "python",
   "nbconvert_exporter": "python",
   "pygments_lexer": "ipython3",
   "version": "3.7.9"
  },
  "toc": {
   "base_numbering": 1,
   "nav_menu": {},
   "number_sections": true,
   "sideBar": true,
   "skip_h1_title": false,
   "title_cell": "Table of Contents",
   "title_sidebar": "Contents",
   "toc_cell": false,
   "toc_position": {},
   "toc_section_display": true,
   "toc_window_display": false
  }
 },
 "nbformat": 4,
 "nbformat_minor": 4
}
