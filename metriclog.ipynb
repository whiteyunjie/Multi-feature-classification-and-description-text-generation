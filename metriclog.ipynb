{
 "cells": [
  {
   "cell_type": "code",
   "execution_count": 126,
   "metadata": {
    "ExecuteTime": {
     "end_time": "2021-04-06T07:27:46.143874Z",
     "start_time": "2021-04-06T07:27:46.130621Z"
    }
   },
   "outputs": [],
   "source": [
    "import sys\n",
    "import os\n",
    "import argparse\n",
    "import logging\n",
    "import json\n",
    "import time\n",
    "\n",
    "import numpy as np\n",
    "import torch\n",
    "import pickle\n",
    "os.environ[\"CUDA_VISIBLE_DEVICES\"]=\"3\"\n",
    "from torch.utils.data import DataLoader\n",
    "from torch.autograd import Variable\n",
    "from torch.nn import BCEWithLogitsLoss, BCELoss ,CrossEntropyLoss\n",
    "from torch.optim import SGD\n",
    "from torchvision import models\n",
    "from torch import nn\n",
    "\n",
    "from tqdm import tqdm\n",
    "from tensorboardX import SummaryWriter\n",
    "from imagedataset import ImageDataset, WSIimageDataset, GradeImageDataset, tumorImageDataset\n",
    "from clsmodels.models import create_model\n",
    "from clsmodels import resnet_fpn,senet_fpn\n",
    "from sklearn.metrics import roc_curve, auc, confusion_matrix\n",
    "from sklearn.metrics import precision_recall_curve,average_precision_score\n",
    "import itertools\n",
    "import matplotlib.pyplot as plt\n",
    "from PIL import Image"
   ]
  },
  {
   "cell_type": "markdown",
   "metadata": {},
   "source": [
    "## tumor"
   ]
  },
  {
   "cell_type": "code",
   "execution_count": 3,
   "metadata": {
    "ExecuteTime": {
     "end_time": "2021-03-21T10:26:08.133837Z",
     "start_time": "2021-03-21T10:25:36.475516Z"
    }
   },
   "outputs": [
    {
     "name": "stdout",
     "output_type": "stream",
     "text": [
      "loading PLC/trainable_0_3000/best_pretrained.pth...\n"
     ]
    }
   ],
   "source": [
    "# dataset\n",
    "slidelist = np.load('data/slide.npy')\n",
    "testdataset = tumorImageDataset(slidelist,256,224,False)\n",
    "testdataloader = DataLoader(testdataset,batch_size = 32)\n",
    "# load model\n",
    "model = create_model('se_resnext50_32x4d', pretrained=True, num_classes=1, load_backbone_weights=False)\n",
    "model_file = 'PLC/trainable_0_3000/best_pretrained.pth'\n",
    "print(f'loading {model_file}...')\n",
    "model.load_state_dict(torch.load(model_file))\n",
    "model = nn.DataParallel(model)\n",
    "model = model.cuda()\n",
    "\n",
    "loss_fn = BCEWithLogitsLoss().cuda()"
   ]
  },
  {
   "cell_type": "code",
   "execution_count": 4,
   "metadata": {
    "ExecuteTime": {
     "end_time": "2021-03-21T10:51:29.070147Z",
     "start_time": "2021-03-21T10:26:11.989495Z"
    },
    "scrolled": true
   },
   "outputs": [
    {
     "name": "stderr",
     "output_type": "stream",
     "text": [
      "loss: 1.0036 acc: 0.8042: 100%|██████████| 469/469 [25:17<00:00,  3.23s/it]\n"
     ]
    }
   ],
   "source": [
    "model.eval()\n",
    "\n",
    "acclist = []\n",
    "losslist = []\n",
    "predlist = []\n",
    "problist = []\n",
    "\n",
    "with torch.no_grad():\n",
    "    progress_bar = tqdm(testdataloader)\n",
    "    for imgs,label in progress_bar:\n",
    "        imgs = imgs.float().cuda()\n",
    "        label = label.float().cuda()\n",
    "\n",
    "        output = model(imgs)\n",
    "        output = torch.squeeze(output)\n",
    "        loss = loss_fn(output,label)\n",
    "\n",
    "        prob = output.sigmoid()\n",
    "        pred = (prob>=0.4).type(torch.cuda.FloatTensor)\n",
    "\n",
    "        acc_data = (pred == label).sum().data * 1.0/32\n",
    "        loss_data = loss.data\n",
    "\n",
    "        acclist.append(float(acc_data))\n",
    "        losslist.append(float(loss_data))\n",
    "        predlist.extend(pred)\n",
    "        problist.extend(prob)\n",
    "        \n",
    "        progress_bar.set_description(f'loss: {np.mean(losslist):1.4f} acc: {np.mean(acclist):1.4f}')"
   ]
  },
  {
   "cell_type": "code",
   "execution_count": 4,
   "metadata": {
    "ExecuteTime": {
     "end_time": "2021-03-15T08:54:09.127168Z",
     "start_time": "2021-03-15T08:54:09.097213Z"
    }
   },
   "outputs": [
    {
     "data": {
      "text/plain": [
       "tensor([1., 0., 1., 1., 1., 0., 1., 1., 0., 1., 0., 0., 1., 1., 1., 1., 1., 1.,\n",
       "        1., 0., 0., 1., 1., 1.], device='cuda:0')"
      ]
     },
     "execution_count": 4,
     "metadata": {},
     "output_type": "execute_result"
    }
   ],
   "source": [
    "pred"
   ]
  },
  {
   "cell_type": "code",
   "execution_count": 5,
   "metadata": {
    "ExecuteTime": {
     "end_time": "2021-03-15T08:54:10.156358Z",
     "start_time": "2021-03-15T08:54:10.136305Z"
    }
   },
   "outputs": [
    {
     "data": {
      "text/plain": [
       "tensor([1., 0., 1., 0., 0., 0., 1., 1., 0., 1., 0., 0., 1., 1., 1., 1., 0., 1.,\n",
       "        1., 0., 0., 1., 1., 1.], device='cuda:0')"
      ]
     },
     "execution_count": 5,
     "metadata": {},
     "output_type": "execute_result"
    }
   ],
   "source": [
    "label"
   ]
  },
  {
   "cell_type": "code",
   "execution_count": 6,
   "metadata": {
    "ExecuteTime": {
     "end_time": "2021-03-15T07:44:50.984989Z",
     "start_time": "2021-03-15T07:44:50.974453Z"
    }
   },
   "outputs": [
    {
     "data": {
      "text/plain": [
       "tensor([3.0258e-01, 9.9974e-01, 5.7231e-01, 6.6307e-01, 9.7705e-01, 1.4541e-02,\n",
       "        4.3898e-01, 5.7720e-01, 1.9674e-01, 6.4987e-01, 7.7483e-01, 2.4860e-01,\n",
       "        2.5837e-01, 2.5333e-01, 1.8785e-01, 1.1256e-01, 2.8086e-01, 9.3855e-01,\n",
       "        5.5985e-01, 5.1455e-01, 3.3098e-01, 7.8089e-01, 1.9025e-01, 9.9500e-04],\n",
       "       device='cuda:0')"
      ]
     },
     "execution_count": 6,
     "metadata": {},
     "output_type": "execute_result"
    }
   ],
   "source": [
    "prob"
   ]
  },
  {
   "cell_type": "code",
   "execution_count": 10,
   "metadata": {
    "ExecuteTime": {
     "end_time": "2021-03-15T07:47:32.488717Z",
     "start_time": "2021-03-15T07:47:32.484235Z"
    }
   },
   "outputs": [],
   "source": [
    "labelc = label.cpu()"
   ]
  },
  {
   "cell_type": "code",
   "execution_count": 14,
   "metadata": {
    "ExecuteTime": {
     "end_time": "2021-03-15T07:47:54.660940Z",
     "start_time": "2021-03-15T07:47:54.656859Z"
    }
   },
   "outputs": [],
   "source": [
    "fpr, tpr, threshold = roc_curve(labelc,prob.cpu())"
   ]
  },
  {
   "cell_type": "code",
   "execution_count": 15,
   "metadata": {
    "ExecuteTime": {
     "end_time": "2021-03-15T07:48:24.320490Z",
     "start_time": "2021-03-15T07:48:24.317894Z"
    }
   },
   "outputs": [],
   "source": [
    "roc_auc = auc(fpr,tpr)"
   ]
  },
  {
   "cell_type": "code",
   "execution_count": 16,
   "metadata": {
    "ExecuteTime": {
     "end_time": "2021-03-15T07:48:29.102157Z",
     "start_time": "2021-03-15T07:48:29.098806Z"
    }
   },
   "outputs": [
    {
     "data": {
      "text/plain": [
       "0.6814814814814815"
      ]
     },
     "execution_count": 16,
     "metadata": {},
     "output_type": "execute_result"
    }
   ],
   "source": [
    "roc_auc"
   ]
  },
  {
   "cell_type": "code",
   "execution_count": 18,
   "metadata": {
    "ExecuteTime": {
     "end_time": "2021-03-15T07:49:01.664622Z",
     "start_time": "2021-03-15T07:49:01.012975Z"
    }
   },
   "outputs": [
    {
     "data": {
      "image/png": "[encoded data removed]",
      "text/plain": [
       "<Figure size 576x360 with 1 Axes>"
      ]
     },
     "metadata": {
      "needs_background": "light"
     },
     "output_type": "display_data"
    }
   ],
   "source": [
    "plt.figure(figsize=(8, 5))\n",
    "plt.plot(fpr, tpr, color='darkorange',\n",
    "         lw=1, label='ROC curve (area = %0.2f)' % roc_auc)\n",
    "plt.xlim([0.0, 1.0])\n",
    "plt.ylim([0.0, 1.05])\n",
    "plt.xlabel('False Positive Rate')\n",
    "plt.ylabel('True Positive Rate')\n",
    "plt.title('Receiver operating characteristic example')\n",
    "plt.legend(loc=\"lower right\")\n",
    "plt.show()"
   ]
  },
  {
   "cell_type": "markdown",
   "metadata": {},
   "source": [
    "## nf and shape"
   ]
  },
  {
   "cell_type": "code",
   "execution_count": 10,
   "metadata": {
    "ExecuteTime": {
     "end_time": "2021-03-23T11:59:58.967216Z",
     "start_time": "2021-03-23T11:59:58.960365Z"
    }
   },
   "outputs": [],
   "source": [
    "slist = np.load('fin.npy')\n",
    "with open('cftestdata.json','r') as f:\n",
    "    cf = json.load(f)\n",
    "slidelist = []\n",
    "for slide in slist:\n",
    "    if slide in cf:\n",
    "        slidelist.append(slide)"
   ]
  },
  {
   "cell_type": "code",
   "execution_count": 3,
   "metadata": {
    "ExecuteTime": {
     "end_time": "2021-03-16T07:18:13.494674Z",
     "start_time": "2021-03-16T07:18:13.488288Z"
    }
   },
   "outputs": [
    {
     "data": {
      "text/plain": [
       "['201605479-1',\n",
       " '201601986-3',\n",
       " '201600885-2',\n",
       " '201603238-4',\n",
       " '201600885-1',\n",
       " '201601564-2',\n",
       " '201605479-3',\n",
       " '201434822-3',\n",
       " '201436170-3']"
      ]
     },
     "execution_count": 3,
     "metadata": {},
     "output_type": "execute_result"
    }
   ],
   "source": [
    "slidelist"
   ]
  },
  {
   "cell_type": "code",
   "execution_count": 30,
   "metadata": {
    "ExecuteTime": {
     "end_time": "2021-03-16T05:08:27.942706Z",
     "start_time": "2021-03-16T05:08:27.928830Z"
    }
   },
   "outputs": [],
   "source": [
    "slist = np.load('fin.npy')\n",
    "with open('sample_cellfeatures1.json','r') as f:\n",
    "    cf = json.load(f)\n",
    "with open('cellfeatures.json','r') as f:\n",
    "    cf_all = json.load(f)\n",
    "slidelist = []\n",
    "i = 0\n",
    "for slide in slist:\n",
    "    #if slide not in cf and slide in cf_all:\n",
    "    if slide in cf_all and i < 20:\n",
    "        slidelist.append(slide)\n",
    "        i = i + 1"
   ]
  },
  {
   "cell_type": "code",
   "execution_count": 117,
   "metadata": {
    "ExecuteTime": {
     "end_time": "2021-04-06T07:21:25.103787Z",
     "start_time": "2021-04-06T07:21:25.098329Z"
    }
   },
   "outputs": [],
   "source": [
    "#path = 'temp/results/resnet34_fpn_classifier/re_-1_99_3.pkl'\n",
    "path = 'temp/results/densenet121/re_ncr_31.pkl'\n",
    "with open(path,'rb') as  f:\n",
    "    results = pickle.load(f)"
   ]
  },
  {
   "cell_type": "code",
   "execution_count": 74,
   "metadata": {
    "ExecuteTime": {
     "end_time": "2021-04-06T05:53:56.779539Z",
     "start_time": "2021-04-06T05:53:56.764702Z"
    }
   },
   "outputs": [],
   "source": [
    "loss_nf = results['loss_nf']\n",
    "loss_ncr = results['loss_ncr']\n",
    "loss_shape = results['loss_shape']\n",
    "loss = results['loss']\n",
    "\n",
    "loss_nf_val = results['loss_nf_val']\n",
    "loss_ncr_val = results['loss_ncr_val']\n",
    "loss_shape_val = results['loss_shape_val']\n",
    "loss_val = results['loss_val']\n",
    "\n",
    "acc_nf = results['acc_nf']\n",
    "acc_ncr = results['acc_ncr']\n",
    "acc_shape = results['acc_shape']\n",
    "\n",
    "acc_nf_val = results['acc_nf_val']\n",
    "acc_ncr_val = results['acc_ncr_val']\n",
    "acc_shape_val = results['acc_shape_val']\n"
   ]
  },
  {
   "cell_type": "code",
   "execution_count": 154,
   "metadata": {
    "ExecuteTime": {
     "end_time": "2021-04-04T06:02:20.063431Z",
     "start_time": "2021-04-04T06:02:20.054084Z"
    },
    "scrolled": true
   },
   "outputs": [
    {
     "data": {
      "text/plain": [
       "[0.41935483870967744,\n",
       " 0.4223790322580645,\n",
       " 0.4405241935483871,\n",
       " 0.43548387096774194,\n",
       " 0.4475806451612903,\n",
       " 0.5332661290322581,\n",
       " 0.6229838709677419,\n",
       " 0.6824596774193549,\n",
       " 0.6935483870967742,\n",
       " 0.7439516129032258,\n",
       " 0.7893145161290323,\n",
       " 0.7953629032258065,\n",
       " 0.842741935483871,\n",
       " 0.8639112903225806,\n",
       " 0.8598790322580645,\n",
       " 0.8981854838709677,\n",
       " 0.8840725806451613,\n",
       " 0.8649193548387096,\n",
       " 0.8830645161290323,\n",
       " 0.876008064516129,\n",
       " 0.8891129032258065,\n",
       " 0.873991935483871,\n",
       " 0.8820564516129032,\n",
       " 0.8598790322580645,\n",
       " 0.8790322580645161,\n",
       " 0.8790322580645161,\n",
       " 0.8598790322580645,\n",
       " 0.8558467741935484,\n",
       " 0.842741935483871,\n",
       " 0.8608870967741935,\n",
       " 0.8608870967741935,\n",
       " 0.8800403225806451,\n",
       " 0.8719758064516129,\n",
       " 0.8618951612903226,\n",
       " 0.8225806451612904,\n",
       " 0.8669354838709677,\n",
       " 0.8699596774193549,\n",
       " 0.8245967741935484,\n",
       " 0.8578629032258065,\n",
       " 0.7993951612903226,\n",
       " 0.7651209677419355,\n",
       " 0.7963709677419355,\n",
       " 0.8306451612903226,\n",
       " 0.7469758064516129,\n",
       " 0.8195564516129032,\n",
       " 0.8104838709677419,\n",
       " 0.8266129032258065,\n",
       " 0.8215725806451613,\n",
       " 0.8508064516129032,\n",
       " 0.7963709677419355,\n",
       " 0.8397177419354839,\n",
       " 0.8125,\n",
       " 0.7893145161290323,\n",
       " 0.8024193548387096,\n",
       " 0.7832661290322581,\n",
       " 0.7792338709677419,\n",
       " 0.8266129032258065,\n",
       " 0.8175403225806451,\n",
       " 0.8155241935483871,\n",
       " 0.8245967741935484,\n",
       " 0.7903225806451613,\n",
       " 0.8004032258064516,\n",
       " 0.8256048387096774,\n",
       " 0.7953629032258065,\n",
       " 0.7893145161290323,\n",
       " 0.7913306451612904,\n",
       " 0.7792338709677419,\n",
       " 0.8417338709677419,\n",
       " 0.7883064516129032,\n",
       " 0.8215725806451613,\n",
       " 0.8286290322580645,\n",
       " 0.7872983870967742,\n",
       " 0.8044354838709677,\n",
       " 0.7923387096774194,\n",
       " 0.8104838709677419,\n",
       " 0.8155241935483871,\n",
       " 0.8054435483870968,\n",
       " 0.7741935483870968,\n",
       " 0.8578629032258065,\n",
       " 0.8316532258064516,\n",
       " 0.7832661290322581,\n",
       " 0.8064516129032258,\n",
       " 0.7923387096774194,\n",
       " 0.8074596774193549,\n",
       " 0.7953629032258065,\n",
       " 0.811491935483871,\n",
       " 0.813508064516129,\n",
       " 0.8477822580645161,\n",
       " 0.8316532258064516,\n",
       " 0.8165322580645161,\n",
       " 0.7913306451612904,\n",
       " 0.8598790322580645,\n",
       " 0.8336693548387096,\n",
       " 0.7923387096774194,\n",
       " 0.7741935483870968,\n",
       " 0.8356854838709677,\n",
       " 0.8084677419354839,\n",
       " 0.8084677419354839,\n",
       " 0.8195564516129032,\n",
       " 0.8346774193548387]"
      ]
     },
     "execution_count": 154,
     "metadata": {},
     "output_type": "execute_result"
    }
   ],
   "source": [
    "acc_ncr_val"
   ]
  },
  {
   "cell_type": "code",
   "execution_count": 87,
   "metadata": {
    "ExecuteTime": {
     "end_time": "2021-04-06T06:00:53.189215Z",
     "start_time": "2021-04-06T06:00:53.180406Z"
    }
   },
   "outputs": [
    {
     "data": {
      "text/plain": [
       "(array([40, 62, 66, 73, 94]),)"
      ]
     },
     "execution_count": 87,
     "metadata": {},
     "output_type": "execute_result"
    }
   ],
   "source": [
    "np.where(np.array(acc_shape_val)>0.875)"
   ]
  },
  {
   "cell_type": "code",
   "execution_count": 84,
   "metadata": {
    "ExecuteTime": {
     "end_time": "2021-04-06T06:00:12.795027Z",
     "start_time": "2021-04-06T06:00:12.782350Z"
    }
   },
   "outputs": [
    {
     "data": {
      "text/plain": [
       "0.8921370967741935"
      ]
     },
     "execution_count": 84,
     "metadata": {},
     "output_type": "execute_result"
    }
   ],
   "source": [
    "np.max(np.array(acc_shape_val))"
   ]
  },
  {
   "cell_type": "code",
   "execution_count": 4,
   "metadata": {
    "ExecuteTime": {
     "end_time": "2021-04-01T07:23:07.926331Z",
     "start_time": "2021-04-01T07:23:06.345246Z"
    },
    "scrolled": true
   },
   "outputs": [
    {
     "data": {
      "image/png": "[encoded data removed]",
      "text/plain": [
       "<Figure size 1152x864 with 4 Axes>"
      ]
     },
     "metadata": {
      "needs_background": "light"
     },
     "output_type": "display_data"
    }
   ],
   "source": [
    "## plot\n",
    "plt.figure(figsize=(16,12))\n",
    "\n",
    "# loss nf and shape\n",
    "plt.subplot(2,2,1)\n",
    "plt.plot(loss_nf_val)\n",
    "plt.plot(loss_shape_val)\n",
    "plt.xlabel('epoch')\n",
    "plt.ylabel('loss')\n",
    "#plt.legend(['loss_nf','loss_shape','loss_nf_val','loss_shape_val'])\n",
    "plt.legend(['loss_nf_val','loss_shape_val'])\n",
    "plt.title('loss of 2 category')\n",
    "# loss val and train\n",
    "plt.subplot(2,2,2)\n",
    "plt.plot(loss)\n",
    "plt.plot(loss_val)\n",
    "plt.xlabel('epoch')\n",
    "plt.ylabel('loss')\n",
    "plt.legend(['loss','loss_val'])\n",
    "plt.title('loss on traindataset and valdataset')\n",
    "# acc\n",
    "plt.subplot(2,2,3)\n",
    "plt.plot(acc_nf)\n",
    "plt.plot(acc_nf_val)\n",
    "plt.xlabel('epoch')\n",
    "plt.ylabel('acc')\n",
    "plt.legend(['acc_nf','acc_nf_val'])\n",
    "plt.title('acc of neclui features')\n",
    "\n",
    "plt.subplot(2,2,4)\n",
    "plt.plot(acc_shape)\n",
    "plt.plot(acc_shape_val)\n",
    "plt.xlabel('epoch')\n",
    "plt.ylabel('acc')\n",
    "plt.legend(['acc_shape','acc_shape_val'])\n",
    "plt.title('acc of shape features')\n",
    "plt.savefig('acc_shape.png')\n",
    "\n",
    "plt.show()"
   ]
  },
  {
   "cell_type": "code",
   "execution_count": 5,
   "metadata": {
    "ExecuteTime": {
     "end_time": "2021-04-01T07:23:25.301733Z",
     "start_time": "2021-04-01T07:23:24.811831Z"
    }
   },
   "outputs": [
    {
     "data": {
      "image/png": "[encoded data removed]",
      "text/plain": [
       "<Figure size 432x288 with 1 Axes>"
      ]
     },
     "metadata": {
      "needs_background": "light"
     },
     "output_type": "display_data"
    }
   ],
   "source": [
    "plt.figure()\n",
    "plt.plot(acc_nf_val)\n",
    "plt.plot(acc_ncr_val)\n",
    "plt.plot(acc_shape_val)\n",
    "plt.xlabel('epoch')\n",
    "plt.ylabel('loss')\n",
    "#plt.legend(['loss_nf','loss_shape','loss_nf_val','loss_shape_val'])\n",
    "plt.legend(['acc_nf_val','acc_ncr_val','acc_shape_val'])\n",
    "plt.title('accuracy of 3 category')\n",
    "plt.savefig('resnet34fc.png')"
   ]
  },
  {
   "cell_type": "code",
   "execution_count": 120,
   "metadata": {
    "ExecuteTime": {
     "end_time": "2021-04-06T07:21:54.483203Z",
     "start_time": "2021-04-06T07:21:53.829482Z"
    }
   },
   "outputs": [
    {
     "data": {
      "image/png": "[encoded data removed]",
      "text/plain": [
       "<Figure size 432x288 with 1 Axes>"
      ]
     },
     "metadata": {
      "needs_background": "light"
     },
     "output_type": "display_data"
    }
   ],
   "source": [
    "loss_ncr_val = results['acc_val']\n",
    "plt.figure()\n",
    "plt.plot(loss_ncr_val)\n",
    "plt.show()"
   ]
  },
  {
   "cell_type": "code",
   "execution_count": null,
   "metadata": {},
   "outputs": [],
   "source": []
  },
  {
   "cell_type": "code",
   "execution_count": 16,
   "metadata": {
    "ExecuteTime": {
     "end_time": "2021-03-30T02:26:21.712474Z",
     "start_time": "2021-03-30T02:26:21.707072Z"
    }
   },
   "outputs": [],
   "source": [
    "path = 'temp/results/resnet18/re_ncr_16.pkl'\n",
    "with open(path,'rb') as  f:\n",
    "    results = pickle.load(f)"
   ]
  },
  {
   "cell_type": "code",
   "execution_count": 17,
   "metadata": {
    "ExecuteTime": {
     "end_time": "2021-03-30T02:26:36.043388Z",
     "start_time": "2021-03-30T02:26:35.775744Z"
    }
   },
   "outputs": [
    {
     "data": {
      "image/png": "[encoded data removed]",
      "text/plain": [
       "<Figure size 432x288 with 1 Axes>"
      ]
     },
     "metadata": {
      "needs_background": "light"
     },
     "output_type": "display_data"
    }
   ],
   "source": [
    "loss_ncr_val = results['acc_val']\n",
    "#loss_ncr_val = results['acc_shape_val']\n",
    "plt.figure()\n",
    "plt.plot(loss_ncr_val)\n",
    "plt.show()"
   ]
  },
  {
   "cell_type": "code",
   "execution_count": 8,
   "metadata": {
    "ExecuteTime": {
     "end_time": "2021-03-24T02:02:31.331343Z",
     "start_time": "2021-03-24T02:02:31.325185Z"
    }
   },
   "outputs": [
    {
     "data": {
      "text/plain": [
       "0.6214717741935484"
      ]
     },
     "execution_count": 8,
     "metadata": {},
     "output_type": "execute_result"
    }
   ],
   "source": [
    "np.max(acc_shape_val)"
   ]
  },
  {
   "cell_type": "markdown",
   "metadata": {},
   "source": [
    "## testmodel"
   ]
  },
  {
   "cell_type": "code",
   "execution_count": null,
   "metadata": {},
   "outputs": [],
   "source": []
  },
  {
   "cell_type": "code",
   "execution_count": 3,
   "metadata": {
    "ExecuteTime": {
     "end_time": "2021-04-06T02:39:47.197903Z",
     "start_time": "2021-04-06T02:39:47.179463Z"
    }
   },
   "outputs": [],
   "source": [
    "slist = np.load('fin.npy')\n",
    "\n",
    "\n",
    "with open('cftrainnf.json','r') as f:\n",
    "    cf = json.load(f)\n",
    "slidelist1 = []\n",
    "for slide in slist:\n",
    "    if slide in cf:\n",
    "        slidelist1.append(slide)\n",
    "        \n",
    "i = 0\n",
    "with open('cellfeatures3.json','r') as f:\n",
    "    cf = json.load(f)\n",
    "    slidelist = []\n",
    "    for slide in slist:\n",
    "        if slide in cf and slide not in slidelist1:\n",
    "            i = i + 1 \n",
    "            slidelist.append(slide)\n",
    "with open('cftestnf.json','r') as f:\n",
    "    cf2 = json.load(f)\n",
    "slidelist2 = []\n",
    "for slide in slist:\n",
    "    if slide in cf2:\n",
    "        slidelist2.append(slide)"
   ]
  },
  {
   "cell_type": "code",
   "execution_count": 22,
   "metadata": {
    "ExecuteTime": {
     "end_time": "2021-04-04T03:47:51.873298Z",
     "start_time": "2021-04-04T03:47:51.864132Z"
    }
   },
   "outputs": [
    {
     "data": {
      "text/plain": [
       "['201434013-4', '201603238-2', '201608537-4', '201434822-2', '201603916-3']"
      ]
     },
     "execution_count": 22,
     "metadata": {},
     "output_type": "execute_result"
    }
   ],
   "source": [
    "slidelist2"
   ]
  },
  {
   "cell_type": "code",
   "execution_count": 41,
   "metadata": {
    "ExecuteTime": {
     "end_time": "2021-04-04T03:57:51.572125Z",
     "start_time": "2021-04-04T03:57:51.567336Z"
    }
   },
   "outputs": [
    {
     "data": {
      "text/plain": [
       "['201434013-4',\n",
       " '201600666-5',\n",
       " '201434013-3',\n",
       " '201600623-1',\n",
       " '201609207-5',\n",
       " '201609207-2',\n",
       " '201609810-1',\n",
       " '201603238-2',\n",
       " '201604045-2',\n",
       " '201434013-2',\n",
       " '201434013-5',\n",
       " '201435884-1',\n",
       " '201604335-2',\n",
       " '201608537-4',\n",
       " '201434822-2',\n",
       " '201603916-3',\n",
       " '201612290-1',\n",
       " '201436170-4',\n",
       " '201605479-2',\n",
       " '201602683-2',\n",
       " '201600666-1',\n",
       " '201603916-2']"
      ]
     },
     "execution_count": 41,
     "metadata": {},
     "output_type": "execute_result"
    }
   ],
   "source": [
    "slidelist"
   ]
  },
  {
   "cell_type": "code",
   "execution_count": 63,
   "metadata": {
    "ExecuteTime": {
     "end_time": "2021-04-04T04:03:55.549472Z",
     "start_time": "2021-04-04T04:03:55.540195Z"
    }
   },
   "outputs": [
    {
     "data": {
      "text/plain": [
       "{'201603916-3': [1, 1, 1, 0, 0, 0],\n",
       " '201608537-4': [1, 1, 1, 0, 0, 0],\n",
       " '201434822-2': [0, 0, 0, 1, 1, 0],\n",
       " '201603238-2': [0, 0, 0, 1, 0, 0],\n",
       " '201434013-4': [2, 1, 1, 0, 0, 0]}"
      ]
     },
     "execution_count": 63,
     "metadata": {},
     "output_type": "execute_result"
    }
   ],
   "source": [
    "cf2"
   ]
  },
  {
   "cell_type": "code",
   "execution_count": 116,
   "metadata": {
    "ExecuteTime": {
     "end_time": "2021-04-06T07:17:37.468324Z",
     "start_time": "2021-04-06T07:17:37.461325Z"
    }
   },
   "outputs": [
    {
     "data": {
      "text/plain": [
       "{'201600666-5': [0, 1, 0, 0, 0, 1],\n",
       " '201600623-1': [0, 1, 1, 1, 0, 0],\n",
       " '201434013-5': [2, 1, 1, 0, 0, 0],\n",
       " '201600666-1': [0, 1, 0, 0, 1, 1],\n",
       " '201434013-4': [2, 1, 1, 0, 0, 0],\n",
       " '201603238-2': [0, 0, 0, 1, 0, 0],\n",
       " '201608537-4': [1, 1, 1, 0, 0, 0],\n",
       " '201434822-2': [0, 0, 0, 1, 1, 0],\n",
       " '201603916-3': [1, 1, 1, 0, 0, 0]}"
      ]
     },
     "execution_count": 116,
     "metadata": {},
     "output_type": "execute_result"
    }
   ],
   "source": [
    "index = np.array([1,3,10,20])\n",
    "slidelistval = np.array(slidelist)[index]\n",
    "cfval = {}\n",
    "for i in range(len(slidelisttest)):\n",
    "    cfval[slidelisttest[i]] = cf[slidelisttest[i]]\n",
    "cfval"
   ]
  },
  {
   "cell_type": "code",
   "execution_count": 71,
   "metadata": {
    "ExecuteTime": {
     "end_time": "2021-04-04T04:06:25.542171Z",
     "start_time": "2021-04-04T04:06:25.537054Z"
    }
   },
   "outputs": [
    {
     "data": {
      "text/plain": [
       "array(['201434013-4', '201434013-5', '201434822-2', '201600623-1',\n",
       "       '201600666-1', '201600666-5', '201603238-2', '201603916-3',\n",
       "       '201608537-4'], dtype='<U11')"
      ]
     },
     "execution_count": 71,
     "metadata": {},
     "output_type": "execute_result"
    }
   ],
   "source": [
    "np.unique(slidelisttest)"
   ]
  },
  {
   "cell_type": "code",
   "execution_count": 92,
   "metadata": {
    "ExecuteTime": {
     "end_time": "2021-04-06T06:10:23.292906Z",
     "start_time": "2021-04-06T06:10:23.289659Z"
    }
   },
   "outputs": [],
   "source": [
    "slidelisttest = slidelistval.tolist() + slidelist2"
   ]
  },
  {
   "cell_type": "code",
   "execution_count": 135,
   "metadata": {
    "ExecuteTime": {
     "end_time": "2021-04-06T07:37:06.963633Z",
     "start_time": "2021-04-06T07:37:06.531514Z"
    }
   },
   "outputs": [
    {
     "name": "stdout",
     "output_type": "stream",
     "text": [
      "create_pretrained_resnet 18\n",
      "creating resnet18, pretrained: True\n"
     ]
    }
   ],
   "source": [
    "model = create_model('resnet18',pretrained = True,num_classes=2)\n",
    "#model = resnet_fpn.resnet34_fpn_classifier(num_classes=[2,2,2],pretrained = True)\n",
    "model = torch.nn.DataParallel(model).cuda()\n",
    "model.load_state_dict(torch.load('temp/checkpoints/bestmodel/resnet18_8_ncr_1_best.pth.tar'))\n",
    "\n",
    "#model = torch.nn.DataParallel(model).cuda()\n",
    "\n",
    "#retinanet = torch.nn.DataParallel(retinanet).cuda()\n",
    "testdataset = ImageDataset(slide_list = slidelisttest,\n",
    "                            img_size = 512,\n",
    "                            level = 1,\n",
    "                            is_training = True)\n",
    "testdataloader = DataLoader(testdataset,\n",
    "                            batch_size = 32,\n",
    "                            shuffle = True,\n",
    "                            drop_last = True)\n",
    "loss_fn = BCEWithLogitsLoss().cuda()"
   ]
  },
  {
   "cell_type": "code",
   "execution_count": 136,
   "metadata": {
    "ExecuteTime": {
     "end_time": "2021-04-06T07:37:48.656463Z",
     "start_time": "2021-04-06T07:37:07.432882Z"
    }
   },
   "outputs": [
    {
     "name": "stderr",
     "output_type": "stream",
     "text": [
      "\r",
      "  0%|          | 0/56 [00:00<?, ?it/s]"
     ]
    },
    {
     "name": "stdout",
     "output_type": "stream",
     "text": [
      "Num training images: 1800\n"
     ]
    },
    {
     "name": "stderr",
     "output_type": "stream",
     "text": [
      "cls_nf: 0.5667 acc_nf: 0.7522: 100%|██████████| 56/56 [00:41<00:00,  1.36it/s]\n"
     ]
    }
   ],
   "source": [
    "model.eval()\n",
    "#model.module.freeze_bn()\n",
    "ALPHA = 0.5\n",
    "print('Num training images: {}'.format(len(testdataset)))\n",
    "with torch.no_grad():\n",
    "    model.eval()\n",
    "    epoch_loss_val = []\n",
    "    loss_val = []\n",
    "    acc_val = []\n",
    "    preds = []\n",
    "    trues = []\n",
    "    probs = []\n",
    "\n",
    "    progress_bar = tqdm(enumerate(testdataloader),total = len(testdataloader))\n",
    "    for iter_num,data in progress_bar:\n",
    "        img,label1,label2,label3 = data\n",
    "        img = img.cuda().float()\n",
    "        label = label1.cuda().float()\n",
    "        output = model(img)\n",
    "\n",
    "        output = torch.squeeze(output)\n",
    "        #output2 = torch.squeeze(output2)\n",
    "        \n",
    "        prob = output.sigmoid()\n",
    "        \n",
    "        loss = loss_fn(output,label)\n",
    "        #loss_shape = loss_fn(output2,label_shape)\n",
    "\n",
    "        #loss = loss_nf + ALPHA*loss_shape\n",
    "\n",
    "        pred = output.argmax(axis=1)\n",
    "        #pred_shape = output2.argmax(axis=1)\n",
    "\n",
    "        #print(pred_shape)\n",
    "        #print(label_shape.argmax(axis=1))\n",
    "\n",
    "        acc = (pred == label.argmax(axis=1)).sum().data * 1.0/32\n",
    "        #acc_shape = (pred_shape == label_shape.argmax(axis=1)).sum().data * 1.0/32\n",
    "\n",
    "        loss_val.append(float(loss))\n",
    "        #loss_cls2_val.append(float(loss_shape))\n",
    "        #epoch_loss_val.append(float(loss))\n",
    "        acc_val.append(float(acc))\n",
    "        #acc_cls2_val.append(float(acc_shape))\n",
    "        preds.extend(np.array(pred.cpu()).tolist())\n",
    "        #pred2.extend(np.array(pred_shape.cpu()).tolist())\n",
    "        trues.extend(np.array(label.argmax(axis=1).cpu()).tolist())\n",
    "        #true2.extend(np.array(label_shape.argmax(axis=1).cpu()).tolist())\n",
    "        probs.extend(np.array(prob[:,1].cpu()).tolist())\n",
    "\n",
    "\n",
    "        progress_bar.set_description(\n",
    "            f'cls_nf: {np.mean(loss_val):1.4f} acc_nf: {np.mean(acc_val):1.4f}')\n"
   ]
  },
  {
   "cell_type": "code",
   "execution_count": 124,
   "metadata": {
    "ExecuteTime": {
     "end_time": "2021-04-06T07:24:29.053124Z",
     "start_time": "2021-04-06T07:24:29.031836Z"
    }
   },
   "outputs": [
    {
     "name": "stdout",
     "output_type": "stream",
     "text": [
      "pre:0.9745,rec:0.7948,spe:0.9271,acc:0.8242,f1-score:0.8755\n"
     ]
    }
   ],
   "source": [
    "# 单特征结果\n",
    "cm = confusion_matrix(trues,preds,labels = [1,0])\n",
    "TP = cm[0,0]\n",
    "FP = cm[1,0]\n",
    "FN = cm[0,1]\n",
    "TN = cm[1,1]\n",
    "\n",
    "precision = TP/(TP+FP)\n",
    "recall = TP/(TP+FN)\n",
    "specifity = TN/(TN+FP)\n",
    "accuracy = (TP+TN)/(TP+FP+FN+TN)\n",
    "f1_score = 2*precision*recall/(precision+recall)\n",
    "\n",
    "print(f'pre:{precision:.4f},rec:{recall:.4f},spe:{specifity:.4f},acc:{accuracy:.4f},f1-score:{f1_score:.4f}')"
   ]
  },
  {
   "cell_type": "code",
   "execution_count": 131,
   "metadata": {
    "ExecuteTime": {
     "end_time": "2021-04-06T07:32:53.385484Z",
     "start_time": "2021-04-06T07:32:53.380669Z"
    }
   },
   "outputs": [],
   "source": [
    "## roc曲线\n",
    "dense_nf = {}\n",
    "dense_nf['label'] = trues\n",
    "dense_nf['prob'] = probs"
   ]
  },
  {
   "cell_type": "code",
   "execution_count": 125,
   "metadata": {
    "ExecuteTime": {
     "end_time": "2021-04-06T07:26:53.106652Z",
     "start_time": "2021-04-06T07:26:53.103217Z"
    }
   },
   "outputs": [],
   "source": [
    "dense_ncr = {}\n",
    "dense_ncr['label'] = trues\n",
    "dense_ncr['prob'] = probs"
   ]
  },
  {
   "cell_type": "code",
   "execution_count": 19,
   "metadata": {
    "ExecuteTime": {
     "end_time": "2021-04-06T02:55:22.897772Z",
     "start_time": "2021-04-06T02:55:22.894347Z"
    }
   },
   "outputs": [],
   "source": [
    "dense_shape = {}\n",
    "dense_shape['label'] = trues\n",
    "dense_shape['prob'] = probs"
   ]
  },
  {
   "cell_type": "code",
   "execution_count": 134,
   "metadata": {
    "ExecuteTime": {
     "end_time": "2021-04-06T07:36:49.477153Z",
     "start_time": "2021-04-06T07:36:49.471582Z"
    }
   },
   "outputs": [],
   "source": [
    "bl_nf = {}\n",
    "bl_nf['label'] = trues\n",
    "bl_nf['prob'] = probs"
   ]
  },
  {
   "cell_type": "code",
   "execution_count": 137,
   "metadata": {
    "ExecuteTime": {
     "end_time": "2021-04-06T07:37:56.366510Z",
     "start_time": "2021-04-06T07:37:56.362123Z"
    }
   },
   "outputs": [],
   "source": [
    "bl_ncr = {}\n",
    "bl_ncr['label'] = trues\n",
    "bl_ncr['prob'] = probs"
   ]
  },
  {
   "cell_type": "code",
   "execution_count": 15,
   "metadata": {
    "ExecuteTime": {
     "end_time": "2021-04-06T02:52:10.876612Z",
     "start_time": "2021-04-06T02:52:10.873086Z"
    }
   },
   "outputs": [],
   "source": [
    "bl_shape = {}\n",
    "bl_shape['label'] = trues\n",
    "bl_shape['prob'] = probs"
   ]
  },
  {
   "cell_type": "code",
   "execution_count": 185,
   "metadata": {
    "ExecuteTime": {
     "end_time": "2021-04-06T08:39:31.735894Z",
     "start_time": "2021-04-06T08:39:30.613743Z"
    }
   },
   "outputs": [],
   "source": [
    "## 多特征结果\n",
    "#model = create_model('densenet121',pretrained = True,num_classes=2)\n",
    "#model = resnet_fpn.resnet34_fc_classifier(num_classes=[2,2,2],pretrained = True)\n",
    "model = senet_fpn.se_resnet50_fpn_classifier(num_classes=[2,2,2])\n",
    "model = torch.nn.DataParallel(model).cuda()\n",
    "model.load_state_dict(torch.load('temp/checkpoints/bestmodel/se_resnet50_fpn_classifier_89_3_best.pth.tar'))\n",
    "\n",
    "#model = torch.nn.DataParallel(model).cuda()\n",
    "\n",
    "#retinanet = torch.nn.DataParallel(retinanet).cuda()\n",
    "testdataset = ImageDataset(slide_list = slidelist2,\n",
    "                            img_size = 512,\n",
    "                            level = 1,\n",
    "                            is_training = True)\n",
    "testdataloader = DataLoader(testdataset,\n",
    "                            batch_size = 32,\n",
    "                            shuffle = True,\n",
    "                            drop_last = True)\n",
    "loss_fn = BCEWithLogitsLoss().cuda()"
   ]
  },
  {
   "cell_type": "code",
   "execution_count": 186,
   "metadata": {
    "ExecuteTime": {
     "end_time": "2021-04-06T08:40:05.077497Z",
     "start_time": "2021-04-06T08:39:35.836198Z"
    },
    "scrolled": true
   },
   "outputs": [
    {
     "name": "stderr",
     "output_type": "stream",
     "text": [
      "\r",
      "  0%|          | 0/31 [00:00<?, ?it/s]"
     ]
    },
    {
     "name": "stdout",
     "output_type": "stream",
     "text": [
      "Num training images: 1000\n"
     ]
    },
    {
     "name": "stderr",
     "output_type": "stream",
     "text": [
      "cls_nf: 0.3339 acc_nf: 0.8851 acc_ncr: 0.8256 acc_shape: 0.5978: 100%|██████████| 31/31 [00:29<00:00,  1.06it/s]\n"
     ]
    }
   ],
   "source": [
    "model.eval()\n",
    "#model.module.freeze_bn()\n",
    "ALPHA = 0.5\n",
    "print('Num training images: {}'.format(len(testdataset)))\n",
    "with torch.no_grad():\n",
    "    model.eval()\n",
    "    epoch_loss_val = []\n",
    "    loss_cls1_val = []\n",
    "    loss_cls2_val = []\n",
    "    acc_cls1_val = []\n",
    "    acc_cls2_val = []\n",
    "    acc_cls3_val = []\n",
    "    pred1 = []\n",
    "    pred2 = []\n",
    "    pred3 = []\n",
    "    true1 = []\n",
    "    true2 = []\n",
    "    true3 = []\n",
    "    probs1 = []\n",
    "    probs2 = []\n",
    "    probs3 = []\n",
    "\n",
    "    progress_bar = tqdm(enumerate(testdataloader),total = len(testdataloader))\n",
    "    for iter_num,data in progress_bar:\n",
    "        img, label_nf,label_ncr,label_shape = data\n",
    "        img = img.cuda().float()\n",
    "        label_nf = label_nf.cuda().float()\n",
    "        label_ncr = label_ncr.cuda().float()\n",
    "        label_shape = label_shape.cuda().float()\n",
    "        output1,output2,output3 = model(img)\n",
    "\n",
    "        output1 = torch.squeeze(output1)\n",
    "        output2 = torch.squeeze(output2)\n",
    "        output3 = torch.squeeze(output3)\n",
    "        \n",
    "        prob1 = output1.sigmoid()\n",
    "        prob2 = output2.sigmoid()\n",
    "        prob3 = output3.sigmoid()\n",
    "        \n",
    "        loss_nf = loss_fn(output1,label_nf)\n",
    "        #loss_shape = loss_fn(output2,label_shape)\n",
    "\n",
    "        #loss = loss_nf + ALPHA*loss_shape\n",
    "\n",
    "        pred_nf = output1.argmax(axis=1)\n",
    "        pred_ncr = output2.argmax(axis=1)\n",
    "        pred_shape = output3.argmax(axis=1)\n",
    "\n",
    "        #print(pred_shape)\n",
    "        #print(label_shape.argmax(axis=1))\n",
    "\n",
    "        acc_nf = (pred_nf == label_nf.argmax(axis=1)).sum().data * 1.0/32\n",
    "        acc_ncr = (pred_ncr == label_ncr.argmax(axis=1)).sum().data * 1.0/32\n",
    "        acc_shape = (pred_shape == label_shape.argmax(axis=1)).sum().data * 1.0/32\n",
    "\n",
    "        loss_cls1_val.append(float(loss_nf))\n",
    "        #loss_cls2_val.append(float(loss_shape))\n",
    "        #epoch_loss_val.append(float(loss))\n",
    "        acc_cls1_val.append(float(acc_nf))\n",
    "        acc_cls2_val.append(float(acc_ncr))\n",
    "        acc_cls3_val.append(float(acc_shape))\n",
    "        pred1.extend(np.array(pred_nf.cpu()).tolist())\n",
    "        pred2.extend(np.array(pred_ncr.cpu()).tolist())\n",
    "        pred3.extend(np.array(pred_shape.cpu()).tolist())\n",
    "        true1.extend(np.array(label_nf.argmax(axis=1).cpu()).tolist())\n",
    "        true2.extend(np.array(label_ncr.argmax(axis=1).cpu()).tolist())\n",
    "        true3.extend(np.array(label_shape.argmax(axis=1).cpu()).tolist())\n",
    "        probs1.extend(np.array(prob1[:,1].cpu()).tolist())\n",
    "        probs2.extend(np.array(prob2[:,1].cpu()).tolist())\n",
    "        probs3.extend(np.array(prob3[:,1].cpu()).tolist())\n",
    "\n",
    "\n",
    "        progress_bar.set_description(\n",
    "            f'cls_nf: {np.mean(loss_cls1_val):1.4f} acc_nf: {np.mean(acc_cls1_val):1.4f} acc_ncr: {np.mean(acc_cls2_val):1.4f} acc_shape: {np.mean(acc_cls3_val):1.4f}')\n"
   ]
  },
  {
   "cell_type": "code",
   "execution_count": 184,
   "metadata": {
    "ExecuteTime": {
     "end_time": "2021-04-06T08:39:23.472030Z",
     "start_time": "2021-04-06T08:39:23.453978Z"
    }
   },
   "outputs": [
    {
     "name": "stdout",
     "output_type": "stream",
     "text": [
      "pre:0.9424,rec:0.7429,spe:0.9320,acc:0.8185,f1-score:0.8308\n"
     ]
    }
   ],
   "source": [
    "cm = confusion_matrix(true2,pred2,labels = [1,0])\n",
    "TP = cm[0,0]\n",
    "FP = cm[1,0]\n",
    "FN = cm[0,1]\n",
    "TN = cm[1,1]\n",
    "\n",
    "precision = TP/(TP+FP)\n",
    "recall = TP/(TP+FN)\n",
    "specifity = TN/(TN+FP)\n",
    "accuracy = (TP+TN)/(TP+FP+FN+TN)\n",
    "f1_score = 2*precision*recall/(precision+recall)\n",
    "\n",
    "print(f'pre:{precision:.4f},rec:{recall:.4f},spe:{specifity:.4f},acc:{accuracy:.4f},f1-score:{f1_score:.4f}')"
   ]
  },
  {
   "cell_type": "code",
   "execution_count": 30,
   "metadata": {
    "ExecuteTime": {
     "end_time": "2021-03-31T08:05:01.930188Z",
     "start_time": "2021-03-31T08:05:01.925388Z"
    }
   },
   "outputs": [
    {
     "data": {
      "text/plain": [
       "0.5020161290322581"
      ]
     },
     "execution_count": 30,
     "metadata": {},
     "output_type": "execute_result"
    }
   ],
   "source": [
    "np.sum(pred1)/len(pred1)"
   ]
  },
  {
   "cell_type": "code",
   "execution_count": 184,
   "metadata": {
    "ExecuteTime": {
     "end_time": "2021-04-04T06:28:21.200263Z",
     "start_time": "2021-04-04T06:28:21.194737Z"
    }
   },
   "outputs": [],
   "source": [
    "resfpn_nf = {}\n",
    "resfpn_nf['label'] = true1\n",
    "resfpn_nf['prob'] = probs1\n",
    "# resfpn_ncr = {}\n",
    "# resfpn_ncr['label'] = true2\n",
    "# resfpn_ncr['prob'] = prob1\n",
    "# resfpn_shape = {}\n",
    "# resfpn_shape['label'] = true3\n",
    "# resfpn_shape['prob'] = prob1"
   ]
  },
  {
   "cell_type": "code",
   "execution_count": 166,
   "metadata": {
    "ExecuteTime": {
     "end_time": "2021-04-06T08:22:28.345023Z",
     "start_time": "2021-04-06T08:22:28.339302Z"
    }
   },
   "outputs": [],
   "source": [
    "resfc_nf = {}\n",
    "resfc_nf['label'] = true1\n",
    "resfc_nf['prob'] = probs1\n",
    "resfc_ncr = {}\n",
    "resfc_ncr['label'] = true2\n",
    "resfc_ncr['prob'] = probs2\n",
    "resfc_shape = {}\n",
    "resfc_shape['label'] = true3\n",
    "resfc_shape['prob'] = probs3"
   ]
  },
  {
   "cell_type": "code",
   "execution_count": 187,
   "metadata": {
    "ExecuteTime": {
     "end_time": "2021-04-06T08:47:06.009748Z",
     "start_time": "2021-04-06T08:47:06.000523Z"
    }
   },
   "outputs": [],
   "source": [
    "seresfpn_nf = {}\n",
    "seresfpn_nf['label'] = true1\n",
    "seresfpn_nf['prob'] = probs1\n",
    "seresfpn_ncr = {}\n",
    "seresfpn_ncr['label'] = true2\n",
    "seresfpn_ncr['prob'] = probs3\n",
    "seresfpn_shape = {}\n",
    "seresfpn_shape['label'] = true3\n",
    "seresfpn_shape['prob'] = probs3"
   ]
  },
  {
   "cell_type": "code",
   "execution_count": 176,
   "metadata": {
    "ExecuteTime": {
     "end_time": "2021-04-04T06:18:57.961504Z",
     "start_time": "2021-04-04T06:18:57.953516Z"
    }
   },
   "outputs": [
    {
     "data": {
      "text/plain": [
       "32"
      ]
     },
     "execution_count": 176,
     "metadata": {},
     "output_type": "execute_result"
    }
   ],
   "source": [
    "len(resfc_nf['prob'])"
   ]
  },
  {
   "cell_type": "code",
   "execution_count": 201,
   "metadata": {
    "ExecuteTime": {
     "end_time": "2021-04-04T06:38:44.616351Z",
     "start_time": "2021-04-04T06:38:41.481440Z"
    },
    "scrolled": true
   },
   "outputs": [
    {
     "data": {
      "image/png": "[encoded data removed]",
      "text/plain": [
       "<Figure size 864x360 with 1 Axes>"
      ]
     },
     "metadata": {
      "needs_background": "light"
     },
     "output_type": "display_data"
    }
   ],
   "source": [
    "### ROC\n",
    "plt.figure(figsize=(12,5))\n",
    "fprbl, tprbl, thresholdbl = roc_curve(bl_nf['label'],bl_nf['prob'])\n",
    "roc_aucbl = auc(fprbl,tprbl)\n",
    "plt.plot(fprbl, tprbl)\n",
    "\n",
    "fprde, tprde, thresholdde = roc_curve(dense_nf['label'],dense_nf['prob'])\n",
    "roc_aucde = auc(fprde,tprde)\n",
    "plt.plot(fprde, tprde)\n",
    "\n",
    "fprfc, tprfc, thresholdfc = roc_curve(resfc_nf['label'],resfc_nf['prob'])\n",
    "roc_aucfc = auc(fprfc,tprfc)\n",
    "plt.plot(fprfc, tprfc)\n",
    "\n",
    "fprfpn, tprfpn, thresholdfpn = roc_curve(resfpn_nf['label'],resfpn_nf['prob'])\n",
    "roc_aucfpn = auc(fprfpn,tprfpn)\n",
    "plt.plot(fprfpn, tprfpn)\n",
    "\n",
    "fprsefpn, tprsefpn, thresholdsefpn = roc_curve(seresfpn_nf['label'],seresfpn_nf['prob'])\n",
    "roc_aucsefpn = auc(fprsefpn,tprsefpn)\n",
    "plt.plot(fprsefpn, tprsefpn)\n",
    "\n",
    "plt.xlabel('False Positive Rate')\n",
    "plt.ylabel('True Positive Rate')\n",
    "plt.legend([f'baseline auc:{roc_aucbl:.4f}',f'densenet121 auc:{roc_aucde:.4f}',f'MF_resnet34 auc:{roc_aucfc:.4f}',f'FMF_resnet34 auc:{roc_aucfpn:.4f}',f'FMF_se-resnet50 auc:{roc_aucsefpn:.4f}'])\n",
    "plt.title('ROC curve between different models(nf)')\n",
    "plt.savefig('roc_curve_nf.png')\n",
    "plt.show()"
   ]
  },
  {
   "cell_type": "code",
   "execution_count": 204,
   "metadata": {
    "ExecuteTime": {
     "end_time": "2021-04-04T06:46:48.775585Z",
     "start_time": "2021-04-04T06:46:46.469139Z"
    }
   },
   "outputs": [
    {
     "data": {
      "image/png": "[encoded data removed]",
      "text/plain": [
       "<Figure size 864x360 with 1 Axes>"
      ]
     },
     "metadata": {
      "needs_background": "light"
     },
     "output_type": "display_data"
    }
   ],
   "source": [
    "### PRC\n",
    "plt.figure(figsize=(12,5))\n",
    "prebl, recbl, thresholdbl = precision_recall_curve(bl_nf['label'],bl_nf['prob'])\n",
    "roc_aucbl = average_precision_score(bl_nf['label'],bl_nf['prob'])\n",
    "plt.plot(recbl, prebl)\n",
    "\n",
    "prede, recde, thresholdbl = precision_recall_curve(dense_nf['label'],dense_nf['prob'])\n",
    "roc_aucde = average_precision_score(dense_nf['label'],dense_nf['prob'])\n",
    "plt.plot(recde, prede)\n",
    "\n",
    "prefc, recfc, thresholdbl = precision_recall_curve(resfc_nf['label'],resfc_nf['prob'])\n",
    "roc_aucfc = average_precision_score(resfc_nf['label'],resfc_nf['prob'])\n",
    "plt.plot(recfc, prefc)\n",
    "\n",
    "prefpn, recfpn, thresholdbl = precision_recall_curve(resfpn_nf['label'],resfpn_nf['prob'])\n",
    "roc_aucfpn = average_precision_score(resfpn_nf['label'],resfpn_nf['prob'])\n",
    "plt.plot(recfpn, prefpn)\n",
    "\n",
    "presefpn, recsefpn, thresholdfpn = precision_recall_curve(seresfpn_nf['label'],seresfpn_nf['prob'])\n",
    "roc_aucsefpn = average_precision_score(seresfpn_nf['label'],seresfpn_nf['prob'])\n",
    "plt.plot(recsefpn, presefpn)\n",
    "\n",
    "plt.xlabel('Recall')\n",
    "plt.ylabel('Precision')\n",
    "plt.legend([f'baseline prc:{roc_aucbl:.4f}',f'densenet121 prc:{roc_aucde:.4f}',f'MF_resnet34 prc:{roc_aucfc:.4f}',f'FMF_resnet34 prc:{roc_aucfpn:.4f}',f'FMF_se-resnet50 prc:{roc_aucsefpn:.4f}'])\n",
    "plt.title('PRC curve between different models(nf)')\n",
    "plt.savefig('prc_curve_nf.png')\n",
    "plt.show()"
   ]
  },
  {
   "cell_type": "code",
   "execution_count": 190,
   "metadata": {
    "ExecuteTime": {
     "end_time": "2021-04-06T08:47:40.794900Z",
     "start_time": "2021-04-06T08:47:40.790746Z"
    }
   },
   "outputs": [],
   "source": [
    "seresfpn_ncr['prob'] = 1-np.array(seresfpn_ncr['prob'])"
   ]
  },
  {
   "cell_type": "code",
   "execution_count": 191,
   "metadata": {
    "ExecuteTime": {
     "end_time": "2021-04-06T08:47:42.974220Z",
     "start_time": "2021-04-06T08:47:42.550188Z"
    }
   },
   "outputs": [
    {
     "data": {
      "image/png": "[encoded data removed]",
      "text/plain": [
       "<Figure size 864x360 with 1 Axes>"
      ]
     },
     "metadata": {
      "needs_background": "light"
     },
     "output_type": "display_data"
    }
   ],
   "source": [
    "### ROC\n",
    "plt.figure(figsize=(12,5))\n",
    "fprbl, tprbl, thresholdbl = roc_curve(bl_ncr['label'],bl_ncr['prob'])\n",
    "roc_aucbl = auc(fprbl,tprbl)\n",
    "plt.plot(fprbl, tprbl)\n",
    "\n",
    "fprde, tprde, thresholdde = roc_curve(dense_ncr['label'],dense_ncr['prob'])\n",
    "roc_aucde = auc(fprde,tprde)\n",
    "plt.plot(fprde, tprde)\n",
    "\n",
    "fprfc, tprfc, thresholdfc = roc_curve(resfc_ncr['label'],resfc_ncr['prob'])\n",
    "roc_aucfc = auc(fprfc,tprfc)\n",
    "plt.plot(fprfc, tprfc)\n",
    "\n",
    "# fprfpn, tprfpn, thresholdfpn = roc_curve(resfpn_nf['label'],resfpn_nf['prob'])\n",
    "# roc_aucfpn = auc(fprfpn,tprfpn)\n",
    "# plt.plot(fprfpn, tprfpn)\n",
    "\n",
    "fprsefpn, tprsefpn, thresholdsefpn = roc_curve(seresfpn_ncr['label'],seresfpn_ncr['prob'])\n",
    "roc_aucsefpn = auc(fprsefpn,tprsefpn)\n",
    "plt.plot(fprsefpn, tprsefpn)\n",
    "\n",
    "plt.xlabel('False Positive Rate')\n",
    "plt.ylabel('True Positive Rate')\n",
    "plt.legend([f'baseline auc:{roc_aucbl:.4f}',f'densenet121 auc:{roc_aucde:.4f}',f'MF_resnet34 auc:{roc_aucfc:.4f}',f'FMF_se-resnet50 auc:{roc_aucsefpn:.4f}'])\n",
    "plt.title('ROC curve between different models(ncr)')\n",
    "#plt.savefig('roc_curve_ncr.png')\n",
    "plt.show()"
   ]
  },
  {
   "cell_type": "code",
   "execution_count": 192,
   "metadata": {
    "ExecuteTime": {
     "end_time": "2021-04-06T08:47:46.901325Z",
     "start_time": "2021-04-06T08:47:46.110277Z"
    }
   },
   "outputs": [
    {
     "data": {
      "image/png": "[encoded data removed]",
      "text/plain": [
       "<Figure size 864x360 with 1 Axes>"
      ]
     },
     "metadata": {
      "needs_background": "light"
     },
     "output_type": "display_data"
    }
   ],
   "source": [
    "### PRC\n",
    "plt.figure(figsize=(12,5))\n",
    "prebl, recbl, thresholdbl = precision_recall_curve(bl_ncr['label'],bl_ncr['prob'])\n",
    "roc_aucbl = average_precision_score(bl_ncr['label'],bl_ncr['prob'])\n",
    "plt.plot(recbl, prebl)\n",
    "\n",
    "prede, recde, thresholdbl = precision_recall_curve(dense_nf['label'],dense_nf['prob'])\n",
    "roc_aucde = average_precision_score(dense_nf['label'],dense_nf['prob'])\n",
    "plt.plot(recde, prede)\n",
    "\n",
    "prefc, recfc, thresholdbl = precision_recall_curve(resfc_ncr['label'],resfc_ncr['prob'])\n",
    "roc_aucfc = average_precision_score(resfc_ncr['label'],resfc_ncr['prob'])\n",
    "plt.plot(recfc, prefc)\n",
    "\n",
    "# prefpn, recfpn, thresholdbl = precision_recall_curve(resfpn_nf['label'],resfpn_nf['prob'])\n",
    "# roc_aucfpn = average_precision_score(resfpn_nf['label'],resfpn_nf['prob'])\n",
    "# plt.plot(recfpn, prefpn)\n",
    "\n",
    "presefpn, recsefpn, thresholdfpn = precision_recall_curve(seresfpn_ncr['label'],seresfpn_ncr['prob'])\n",
    "roc_aucsefpn = average_precision_score(seresfpn_ncr['label'],seresfpn_ncr['prob'])\n",
    "plt.plot(recsefpn, presefpn)\n",
    "\n",
    "plt.xlabel('Recall')\n",
    "plt.ylabel('Precision')\n",
    "plt.legend([f'baseline prc:{roc_aucbl:.4f}',f'densenet121 auc:{roc_aucde:.4f}',f'MF_resnet34 prc:{roc_aucfc:.4f}',f'FMF_se-resnet50 prc:{roc_aucsefpn:.4f}'])\n",
    "plt.title('PRC curve between different models(nf)')\n",
    "plt.savefig('prc_curve_ncr.png')\n",
    "plt.show()"
   ]
  },
  {
   "cell_type": "code",
   "execution_count": 174,
   "metadata": {
    "ExecuteTime": {
     "end_time": "2021-04-06T08:28:29.755007Z",
     "start_time": "2021-04-06T08:28:29.733452Z"
    }
   },
   "outputs": [
    {
     "data": {
      "text/plain": [
       "array([0.65460526, 0.65422613, 0.65494505, 0.65566557, 0.65638767,\n",
       "       0.65711136, 0.65783664, 0.65856354, 0.65929204, 0.66002215,\n",
       "       0.66075388, 0.66148724, 0.66222222, 0.66295884, 0.6636971 ,\n",
       "       0.66443701, 0.66517857, 0.66592179, 0.66666667, 0.66741321,\n",
       "       0.66816143, 0.66891134, 0.66966292, 0.6704162 , 0.67117117,\n",
       "       0.67192785, 0.67268623, 0.67344633, 0.67420814, 0.67497169,\n",
       "       0.67573696, 0.67650397, 0.67727273, 0.67804323, 0.67881549,\n",
       "       0.67958951, 0.6803653 , 0.68114286, 0.6819222 , 0.68270332,\n",
       "       0.68348624, 0.68427095, 0.68505747, 0.6858458 , 0.68663594,\n",
       "       0.68742791, 0.68822171, 0.68901734, 0.68981481, 0.69061414,\n",
       "       0.69141531, 0.69221835, 0.69302326, 0.69383003, 0.69463869,\n",
       "       0.69544924, 0.69626168, 0.69707602, 0.69789227, 0.69871043,\n",
       "       0.69953052, 0.70035253, 0.70117647, 0.70200236, 0.70283019,\n",
       "       0.70365998, 0.70449173, 0.70532544, 0.70616114, 0.70699881,\n",
       "       0.70783848, 0.70868014, 0.70952381, 0.71036949, 0.71121718,\n",
       "       0.71206691, 0.71291866, 0.71377246, 0.7146283 , 0.71548619,\n",
       "       0.71634615, 0.71720818, 0.71807229, 0.71893848, 0.71980676,\n",
       "       0.72067715, 0.72154964, 0.72242424, 0.72330097, 0.72417983,\n",
       "       0.72506083, 0.72594397, 0.72682927, 0.72771673, 0.72860636,\n",
       "       0.72949816, 0.73039216, 0.73128834, 0.73218673, 0.73308733,\n",
       "       0.73399015, 0.73489519, 0.73580247, 0.73671199, 0.73762376,\n",
       "       0.73853779, 0.73945409, 0.74037267, 0.74129353, 0.74221669,\n",
       "       0.74314214, 0.74406991, 0.745     , 0.74593242, 0.74686717,\n",
       "       0.74780427, 0.74874372, 0.74968553, 0.75062972, 0.75157629,\n",
       "       0.75252525, 0.75347661, 0.75443038, 0.75538657, 0.75634518,\n",
       "       0.75730623, 0.75826972, 0.75923567, 0.76020408, 0.76117497,\n",
       "       0.76214834, 0.7631242 , 0.76410256, 0.76508344, 0.76606684,\n",
       "       0.76705277, 0.76804124, 0.76903226, 0.77002584, 0.77102199,\n",
       "       0.77202073, 0.77302205, 0.77402597, 0.77503251, 0.77604167,\n",
       "       0.77705346, 0.77806789, 0.77908497, 0.78010471, 0.78112713,\n",
       "       0.78215223, 0.78318003, 0.78421053, 0.78524374, 0.78627968,\n",
       "       0.78731836, 0.78835979, 0.78940397, 0.79045093, 0.79017264,\n",
       "       0.7912234 , 0.79227696, 0.79333333, 0.79439252, 0.79411765,\n",
       "       0.79518072, 0.79624665, 0.79731544, 0.7983871 , 0.79946164,\n",
       "       0.80053908, 0.80161943, 0.8027027 , 0.8037889 , 0.80487805,\n",
       "       0.80597015, 0.80706522, 0.80816327, 0.80926431, 0.81036835,\n",
       "       0.81147541, 0.8125855 , 0.81369863, 0.81344307, 0.81456044,\n",
       "       0.81568088, 0.81680441, 0.81793103, 0.81906077, 0.81881051,\n",
       "       0.8199446 , 0.82108183, 0.82222222, 0.82336579, 0.82451253,\n",
       "       0.82566248, 0.82681564, 0.82797203, 0.82773109, 0.82889201,\n",
       "       0.83005618, 0.83122363, 0.83239437, 0.83356841, 0.83474576,\n",
       "       0.83592645, 0.83711048, 0.83829787, 0.83948864, 0.84068279,\n",
       "       0.84188034, 0.84308131, 0.84428571, 0.84549356, 0.84527221,\n",
       "       0.84648494, 0.84626437, 0.84748201, 0.84870317, 0.84848485,\n",
       "       0.84971098, 0.85094067, 0.85217391, 0.85341074, 0.85465116,\n",
       "       0.8558952 , 0.85714286, 0.85839416, 0.85964912, 0.86090776,\n",
       "       0.86217009, 0.86196769, 0.86323529, 0.86450663, 0.86578171,\n",
       "       0.86558346, 0.86686391, 0.86814815, 0.8694362 , 0.8692422 ,\n",
       "       0.87053571, 0.87183308, 0.87313433, 0.87443946, 0.8757485 ,\n",
       "       0.87706147, 0.87837838, 0.87969925, 0.8810241 , 0.88235294,\n",
       "       0.8836858 , 0.88350983, 0.88484848, 0.88467375, 0.88601824,\n",
       "       0.88736682, 0.88871951, 0.89007634, 0.89143731, 0.89127106,\n",
       "       0.89263804, 0.89400922, 0.89538462, 0.89676425, 0.89814815,\n",
       "       0.89799073, 0.8993808 , 0.90077519, 0.90062112, 0.90202177,\n",
       "       0.90342679, 0.90483619, 0.90625   , 0.90766823, 0.90909091,\n",
       "       0.90894819, 0.91037736, 0.91181102, 0.91324921, 0.91469194,\n",
       "       0.91613924, 0.91759113, 0.91904762, 0.92050874, 0.92197452,\n",
       "       0.92185008, 0.92172524, 0.9232    , 0.92467949, 0.92616372,\n",
       "       0.92604502, 0.92753623, 0.92903226, 0.92891761, 0.93042071,\n",
       "       0.93192869, 0.93181818, 0.93170732, 0.93322476, 0.93311582,\n",
       "       0.93464052, 0.93617021, 0.93770492, 0.93924466, 0.94078947,\n",
       "       0.94069193, 0.94059406, 0.94214876, 0.94370861, 0.94361526,\n",
       "       0.94352159, 0.94509151, 0.945     , 0.94657763, 0.94648829,\n",
       "       0.9480737 , 0.94966443, 0.94957983, 0.94949495, 0.95109612,\n",
       "       0.9527027 , 0.95262267, 0.95423729, 0.95415959, 0.95408163,\n",
       "       0.95400341, 0.95392491, 0.95384615, 0.95547945, 0.95540309,\n",
       "       0.95532646, 0.95524957, 0.95517241, 0.95509499, 0.9550173 ,\n",
       "       0.95493934, 0.95486111, 0.95478261, 0.95470383, 0.95462478,\n",
       "       0.95454545, 0.95446585, 0.95438596, 0.9543058 , 0.95422535,\n",
       "       0.95414462, 0.95583039, 0.95575221, 0.95567376, 0.95737123,\n",
       "       0.95729537, 0.95900178, 0.95892857, 0.9588551 , 0.95878136,\n",
       "       0.96050269, 0.96223022, 0.96216216, 0.96389892, 0.96383363,\n",
       "       0.96376812, 0.96370236, 0.96545455, 0.96721311, 0.9689781 ,\n",
       "       0.96892139, 0.96886447, 0.96880734, 0.97058824, 0.97053407,\n",
       "       0.97232472, 0.97227357, 0.97222222, 0.97217069, 0.97211896,\n",
       "       0.97206704, 0.97201493, 0.97196262, 0.97378277, 0.97373358,\n",
       "       0.97368421, 0.97551789, 0.9754717 , 0.97542533, 0.97537879,\n",
       "       0.97533207, 0.97528517, 0.9752381 , 0.97519084, 0.97705545,\n",
       "       0.97701149, 0.97696737, 0.97884615, 0.97880539, 0.97876448,\n",
       "       0.9787234 , 0.97868217, 0.97864078, 0.97859922, 0.9785575 ,\n",
       "       0.97851562, 0.97847358, 0.97843137, 0.978389  , 0.97834646,\n",
       "       0.97830375, 0.97826087, 0.97821782, 0.9781746 , 0.97813121,\n",
       "       0.97808765, 0.97804391, 0.98      , 0.97995992, 0.97991968,\n",
       "       0.97987928, 0.97983871, 0.97979798, 0.97975709, 0.97971602,\n",
       "       0.9796748 , 0.9796334 , 0.97959184, 0.9795501 , 0.9795082 ,\n",
       "       0.98151951, 0.98148148, 0.98350515, 0.98553719, 0.98550725,\n",
       "       0.98547718, 0.98544699, 0.98541667, 0.9874739 , 0.9874477 ,\n",
       "       0.98742138, 0.98739496, 0.98736842, 0.98734177, 0.98731501,\n",
       "       0.98728814, 0.98726115, 0.98723404, 0.98720682, 0.98717949,\n",
       "       0.98715203, 0.98712446, 0.98924731, 0.99137931, 0.99136069,\n",
       "       0.99134199, 0.99132321, 0.99130435, 0.9912854 , 0.99126638,\n",
       "       0.99124726, 0.99122807, 0.99120879, 0.99118943, 0.99116998,\n",
       "       0.99115044, 0.99113082, 0.99111111, 0.99331849, 0.99330357,\n",
       "       0.99328859, 0.9955157 , 0.99550562, 0.9954955 , 0.99548533,\n",
       "       0.99773756, 0.99773243, 0.99772727, 0.9977221 , 0.99771689,\n",
       "       0.99771167, 0.99770642, 0.99770115, 0.99769585, 0.99769053,\n",
       "       0.99768519, 0.99767981, 0.99767442, 0.997669  , 0.99766355,\n",
       "       0.99765808, 0.99765258, 0.99764706, 0.99764151, 0.99763593,\n",
       "       0.99763033, 0.9976247 , 0.99761905, 0.99761337, 0.99760766,\n",
       "       0.99760192, 0.99759615, 0.99759036, 0.99758454, 0.99757869,\n",
       "       0.99757282, 0.99756691, 0.99756098, 0.99755501, 0.99754902,\n",
       "       0.997543  , 0.99753695, 0.99753086, 0.99752475, 0.99751861,\n",
       "       0.99751244, 0.99750623, 0.9975    , 0.99749373, 0.99748744,\n",
       "       0.99748111, 0.99747475, 0.99746835, 0.99746193, 0.99745547,\n",
       "       0.99744898, 0.99744246, 0.9974359 , 0.99742931, 0.99742268,\n",
       "       0.99741602, 0.99740933, 0.9974026 , 0.99739583, 0.99738903,\n",
       "       0.9973822 , 0.99737533, 0.99736842, 0.99736148, 0.9973545 ,\n",
       "       0.99734748, 0.99734043, 0.99733333, 0.9973262 , 0.99731903,\n",
       "       0.99731183, 0.99730458, 0.9972973 , 0.99728997, 0.99728261,\n",
       "       0.9972752 , 0.99726776, 0.99726027, 0.99725275, 0.99724518,\n",
       "       0.99723757, 0.99722992, 0.99722222, 0.99721448, 0.9972067 ,\n",
       "       0.99719888, 0.99719101, 0.9971831 , 0.99717514, 0.99716714,\n",
       "       0.99715909, 0.997151  , 0.99714286, 0.99713467, 0.99712644,\n",
       "       0.99711816, 0.99710983, 0.99710145, 0.99709302, 0.99708455,\n",
       "       0.99707602, 0.99706745, 0.99705882, 0.99705015, 0.99704142,\n",
       "       0.99703264, 0.99702381, 0.99701493, 0.99700599, 0.996997  ,\n",
       "       0.99698795, 0.99697885, 0.9969697 , 0.99696049, 0.99695122,\n",
       "       0.9969419 , 0.99693252, 0.99692308, 0.99691358, 0.99690402,\n",
       "       0.99689441, 0.99688474, 0.996875  , 0.9968652 , 0.99685535,\n",
       "       0.99684543, 0.99683544, 0.9968254 , 0.99681529, 0.99680511,\n",
       "       0.99679487, 0.99678457, 0.99677419, 0.99676375, 0.99675325,\n",
       "       0.99674267, 0.99673203, 0.99672131, 0.99671053, 0.99669967,\n",
       "       0.99668874, 0.99667774, 0.99666667, 0.99665552, 0.9966443 ,\n",
       "       0.996633  , 0.99662162, 0.99661017, 0.99659864, 0.99658703,\n",
       "       0.99657534, 0.99656357, 0.99655172, 0.99653979, 0.99652778,\n",
       "       0.99651568, 0.9965035 , 0.99649123, 0.99647887, 0.99646643,\n",
       "       0.9964539 , 0.99644128, 0.99642857, 0.99641577, 0.99640288,\n",
       "       0.99638989, 0.99637681, 0.99636364, 0.99635036, 0.996337  ,\n",
       "       0.99632353, 0.99630996, 0.9962963 , 0.99628253, 0.99626866,\n",
       "       0.99625468, 0.9962406 , 0.99622642, 0.99621212, 0.99619772,\n",
       "       0.99618321, 0.99616858, 0.99615385, 0.996139  , 0.99612403,\n",
       "       0.99610895, 0.99609375, 0.99607843, 0.99606299, 0.99604743,\n",
       "       0.99603175, 0.99601594, 0.996     , 0.99598394, 0.99596774,\n",
       "       0.99595142, 0.99593496, 0.99591837, 0.99590164, 0.99588477,\n",
       "       0.99586777, 0.99585062, 0.99583333, 0.9958159 , 0.99579832,\n",
       "       0.99578059, 0.99576271, 0.99574468, 0.9957265 , 0.99570815,\n",
       "       0.99568966, 0.995671  , 0.99565217, 0.99563319, 0.99561404,\n",
       "       0.99559471, 0.99557522, 0.99555556, 0.99553571, 0.9955157 ,\n",
       "       0.9954955 , 0.99547511, 0.99545455, 0.99543379, 0.99541284,\n",
       "       0.99539171, 0.99537037, 0.99534884, 0.9953271 , 0.99530516,\n",
       "       0.99528302, 0.99526066, 0.9952381 , 0.99521531, 0.99519231,\n",
       "       0.99516908, 0.99514563, 0.99512195, 0.99509804, 0.99507389,\n",
       "       0.9950495 , 0.99502488, 0.995     , 0.99497487, 0.99494949,\n",
       "       0.99492386, 0.99489796, 0.99487179, 0.99484536, 0.99481865,\n",
       "       0.99479167, 0.9947644 , 0.99473684, 0.99470899, 0.99468085,\n",
       "       0.99465241, 0.99462366, 0.99459459, 0.99456522, 0.99453552,\n",
       "       0.99450549, 0.99447514, 0.99444444, 0.99441341, 0.99438202,\n",
       "       0.99435028, 0.99431818, 0.99428571, 0.99425287, 0.99421965,\n",
       "       0.99418605, 0.99415205, 0.99411765, 0.99408284, 0.99404762,\n",
       "       0.99401198, 0.9939759 , 0.99393939, 0.99390244, 0.99386503,\n",
       "       0.99382716, 0.99378882, 0.99375   , 0.99371069, 0.99367089,\n",
       "       0.99363057, 0.99358974, 0.99354839, 0.99350649, 0.99346405,\n",
       "       0.99342105, 0.99337748, 0.99333333, 0.99328859, 0.99324324,\n",
       "       0.99319728, 0.99315068, 0.99310345, 0.99305556, 0.99300699,\n",
       "       0.99295775, 0.9929078 , 0.99285714, 0.99280576, 0.99275362,\n",
       "       0.99270073, 0.99264706, 0.99259259, 0.99253731, 0.9924812 ,\n",
       "       0.99242424, 0.99236641, 0.99230769, 0.99224806, 0.9921875 ,\n",
       "       0.99212598, 0.99206349, 0.992     , 0.99193548, 0.99186992,\n",
       "       0.99180328, 0.99173554, 0.99166667, 0.99159664, 0.99152542,\n",
       "       0.99145299, 0.99137931, 0.99130435, 0.99122807, 0.99115044,\n",
       "       0.99107143, 0.99099099, 0.99090909, 0.99082569, 0.99074074,\n",
       "       0.99065421, 0.99056604, 0.99047619, 0.99038462, 0.99029126,\n",
       "       0.99019608, 0.99009901, 0.99      , 0.98989899, 0.98979592,\n",
       "       0.98969072, 0.98958333, 0.98947368, 0.9893617 , 0.98924731,\n",
       "       0.98913043, 0.98901099, 0.98888889, 0.98876404, 0.98863636,\n",
       "       0.98850575, 0.98837209, 0.98823529, 0.98809524, 0.98795181,\n",
       "       0.98780488, 0.98765432, 0.9875    , 0.98734177, 0.98717949,\n",
       "       0.98701299, 0.98684211, 0.98666667, 0.98648649, 0.98630137,\n",
       "       0.98611111, 0.98591549, 0.98571429, 0.98550725, 0.98529412,\n",
       "       0.98507463, 0.98484848, 0.98461538, 0.984375  , 0.98412698,\n",
       "       0.98387097, 0.98360656, 0.98333333, 0.98305085, 0.98275862,\n",
       "       0.98245614, 0.98214286, 0.98181818, 0.98148148, 0.98113208,\n",
       "       0.98076923, 0.98039216, 0.98      , 0.97959184, 0.97916667,\n",
       "       0.9787234 , 0.97826087, 0.97777778, 0.97727273, 0.97674419,\n",
       "       0.97619048, 0.97560976, 0.975     , 0.97435897, 0.97368421,\n",
       "       0.97297297, 0.97222222, 0.97142857, 0.97058824, 0.96969697,\n",
       "       0.96875   , 0.96774194, 0.96666667, 0.96551724, 0.96428571,\n",
       "       0.96296296, 0.96153846, 0.96      , 0.95833333, 0.95652174,\n",
       "       0.95454545, 0.95238095, 0.95      , 0.94736842, 0.94444444,\n",
       "       0.94117647, 0.9375    , 0.93333333, 0.92857143, 0.92307692,\n",
       "       0.91666667, 0.90909091, 0.9       , 0.88888889, 0.875     ,\n",
       "       0.85714286, 0.83333333, 0.8       , 1.        , 1.        ,\n",
       "       1.        , 1.        , 1.        ])"
      ]
     },
     "execution_count": 174,
     "metadata": {},
     "output_type": "execute_result"
    }
   ],
   "source": [
    "presefpn"
   ]
  },
  {
   "cell_type": "code",
   "execution_count": 128,
   "metadata": {
    "ExecuteTime": {
     "end_time": "2021-04-06T07:28:56.616108Z",
     "start_time": "2021-04-06T07:28:56.304979Z"
    }
   },
   "outputs": [
    {
     "data": {
      "image/png": "[encoded data removed]",
      "text/plain": [
       "<Figure size 432x288 with 1 Axes>"
      ]
     },
     "metadata": {
      "needs_background": "light"
     },
     "output_type": "display_data"
    }
   ],
   "source": [
    "img = Image.open('prc_curve_ncr.png')\n",
    "plt.figure()\n",
    "plt.imshow(img)\n",
    "plt.show()"
   ]
  },
  {
   "cell_type": "code",
   "execution_count": 10,
   "metadata": {
    "ExecuteTime": {
     "end_time": "2021-03-31T03:22:09.179036Z",
     "start_time": "2021-03-31T03:22:09.174237Z"
    }
   },
   "outputs": [],
   "source": [
    "label1 = np.array(true1)\n",
    "index = np.where(np.array(true1)<2)[0]\n",
    "label1 = label1[index]\n",
    "probnp1 = np.array(probs1)\n",
    "probnp1= probnp1[index]"
   ]
  },
  {
   "cell_type": "code",
   "execution_count": 11,
   "metadata": {
    "ExecuteTime": {
     "end_time": "2021-03-31T03:22:09.907592Z",
     "start_time": "2021-03-31T03:22:09.899763Z"
    }
   },
   "outputs": [],
   "source": [
    "label2 = np.array(true2)\n",
    "probnp2 = np.array(probs2)\n",
    "cm2 = confusion_matrix(label2,np.array(pred2))\n",
    "\n",
    "label3 = np.array(true3)\n",
    "probnp3 = np.array(probs3)\n",
    "cm3 = confusion_matrix(label3,np.array(pred3))"
   ]
  },
  {
   "cell_type": "code",
   "execution_count": 14,
   "metadata": {
    "ExecuteTime": {
     "end_time": "2021-03-31T03:27:35.408676Z",
     "start_time": "2021-03-31T03:27:34.870093Z"
    }
   },
   "outputs": [
    {
     "data": {
      "image/png": "[encoded data removed]",
      "text/plain": [
       "<Figure size 576x360 with 1 Axes>"
      ]
     },
     "metadata": {
      "needs_background": "light"
     },
     "output_type": "display_data"
    }
   ],
   "source": [
    "fpr1, tpr1, threshold1 = roc_curve(label1,probnp1)\n",
    "roc_auc1 = auc(fpr1,tpr1)\n",
    "plt.figure(figsize=(8, 5))\n",
    "plt.plot(fpr1, tpr1, \n",
    "        lw=1, label='nf:ROC curve (area = %0.2f)' % roc_auc1)\n",
    "\n",
    "fpr2, tpr2, threshold2 = roc_curve(label2,probnp2)\n",
    "roc_auc2 = auc(fpr2,tpr2)\n",
    "\n",
    "plt.plot(fpr2, tpr2, \n",
    "        lw=1, label='ncr:ROC curve (area = %0.2f)' % roc_auc2)\n",
    "\n",
    "fpr3, tpr3, threshold3 = roc_curve(label3,probnp3)\n",
    "roc_auc3 = auc(fpr3,tpr3)\n",
    "\n",
    "plt.plot(fpr3, tpr3, \n",
    "        lw=1, label='shape:ROC curve (area = %0.2f)' % roc_auc3)\n",
    "\n",
    "plt.xlim([-0.05, 1.0])\n",
    "plt.ylim([0.0, 1.05])\n",
    "plt.xlabel('False Positive Rate')\n",
    "plt.ylabel('True Positive Rate')\n",
    "plt.title('ROC')\n",
    "plt.legend(loc=\"lower right\")\n",
    "plt.savefig('resnet18fpn_roc.png')\n",
    "plt.show()"
   ]
  },
  {
   "cell_type": "code",
   "execution_count": 25,
   "metadata": {
    "ExecuteTime": {
     "end_time": "2021-03-31T03:35:57.118159Z",
     "start_time": "2021-03-31T03:35:56.536028Z"
    }
   },
   "outputs": [
    {
     "data": {
      "image/png": "[encoded data removed]",
      "text/plain": [
       "<Figure size 432x288 with 1 Axes>"
      ]
     },
     "metadata": {
      "needs_background": "light"
     },
     "output_type": "display_data"
    }
   ],
   "source": [
    "## prc curve\n",
    "pre1,rec1,_ = precision_recall_curve(label1,probnp1)\n",
    "ap1 = average_precision_score(label1,probnp1)\n",
    "\n",
    "pre2,rec2,_ = precision_recall_curve(label2,probnp2)\n",
    "ap2 = average_precision_score(label2,probnp2)\n",
    "\n",
    "pre3,rec3,_ = precision_recall_curve(label3,probnp3)\n",
    "ap3 = average_precision_score(label3,probnp3)\n",
    "\n",
    "plt.figure()\n",
    "plt.plot(rec1,pre1)\n",
    "#plt.step(rec1,pre1,where='post',alpha=0.2)\n",
    "#plt.fill_between(rec1,pre1,step='post',alpha=0.2)\n",
    "\n",
    "plt.plot(rec2,pre2)\n",
    "#plt.fill_between(rec2,pre2,step='post',alpha=0.2)\n",
    "\n",
    "plt.plot(rec3,pre3)\n",
    "#plt.fill_between(rec3,pre3,step='post',alpha=0.2)\n",
    "\n",
    "plt.xlabel('Recall')\n",
    "plt.ylabel('Precision')\n",
    "plt.xlim([0.0,1.05])\n",
    "plt.ylim([0.0,1.05])\n",
    "plt.title('PRC curve')\n",
    "plt.legend([f'nf_PRC:{ap1:.4f}',f'ncr_PRC:{ap2:.4f}',f'shape_PRC:{ap3:.4f}'])\n",
    "plt.savefig('res31fpnprc.png')\n",
    "plt.show()"
   ]
  },
  {
   "cell_type": "code",
   "execution_count": 20,
   "metadata": {
    "ExecuteTime": {
     "end_time": "2021-03-16T07:28:10.042764Z",
     "start_time": "2021-03-16T07:28:10.026844Z"
    }
   },
   "outputs": [],
   "source": [
    "## confusion matrix\n",
    "def plot_confusion_matrix(cm,labels_name,title='confusion matrix'):\n",
    "    cm = cm.astype('float') / cm.sum(axis=1)[:, np.newaxis]    # 归一化\n",
    "    plt.imshow(cm, interpolation='nearest',cmap=plt.cm.Blues)    # 在特定的窗口上显示图像\n",
    "    plt.title(title)    # 图像标题\n",
    "    plt.colorbar()\n",
    "    num_local = np.array(range(len(labels_name)))    \n",
    "    plt.xticks(num_local, labels_name, rotation=90)    # 将标签印在x轴坐标上\n",
    "    plt.yticks(num_local, labels_name)    # 将标签印在y轴坐标上\n",
    "    \n",
    "    thresh = cm.max() / 2.\n",
    "    for i, j in itertools.product(range(cm.shape[0]), range(cm.shape[1])):\n",
    "        num = '{:.2f}'.format(cm[i, j])\n",
    "        plt.text(j, i, num,\n",
    "                 verticalalignment='center',\n",
    "                 horizontalalignment=\"center\",\n",
    "                 color=\"white\" if float(num) > thresh else \"black\")\n",
    "    \n",
    "    plt.ylabel('True label')    \n",
    "    plt.xlabel('Predicted label')"
   ]
  },
  {
   "cell_type": "code",
   "execution_count": 7,
   "metadata": {
    "ExecuteTime": {
     "end_time": "2021-03-16T07:19:43.654901Z",
     "start_time": "2021-03-16T07:19:43.646892Z"
    }
   },
   "outputs": [],
   "source": [
    "cm = confusion_matrix(np.array(true1),np.array(pred1))"
   ]
  },
  {
   "cell_type": "code",
   "execution_count": 8,
   "metadata": {
    "ExecuteTime": {
     "end_time": "2021-03-16T07:19:45.096587Z",
     "start_time": "2021-03-16T07:19:45.090971Z"
    }
   },
   "outputs": [
    {
     "name": "stdout",
     "output_type": "stream",
     "text": [
      "/home/yinxiaoxu/anaconda3/envs/py37/lib/python3.7/site-packages/matplotlib/mpl-data/matplotlibrc\n"
     ]
    }
   ],
   "source": [
    "import matplotlib\n",
    "print(matplotlib.matplotlib_fname())"
   ]
  },
  {
   "cell_type": "code",
   "execution_count": 21,
   "metadata": {
    "ExecuteTime": {
     "end_time": "2021-03-16T07:28:15.036070Z",
     "start_time": "2021-03-16T07:28:14.486731Z"
    }
   },
   "outputs": [
    {
     "data": {
      "image/png": "[encoded data removed]",
      "text/plain": [
       "<Figure size 432x288 with 2 Axes>"
      ]
     },
     "metadata": {
      "needs_background": "light"
     },
     "output_type": "display_data"
    }
   ],
   "source": [
    "labels_name = ['胞核深染轻度,核质比增大','胞核深染轻度,核质比很大','胞核深染显著,核质比增大','胞核深染显著,核质比很大']\n",
    "plt.rcParams['font.sans-serif']=['SimHei']\n",
    "plt.rcParams['axes.unicode_minus']=False\n",
    "plot_confusion_matrix(cm,labels_name)\n",
    "# plt.savefig('temp/results/images/cm_nf.png')\n",
    "plt.show()"
   ]
  }
 ],
 "metadata": {
  "kernelspec": {
   "display_name": "Python 3",
   "language": "python",
   "name": "python3"
  },
  "language_info": {
   "codemirror_mode": {
    "name": "ipython",
    "version": 3
   },
   "file_extension": ".py",
   "mimetype": "text/x-python",
   "name": "python",
   "nbconvert_exporter": "python",
   "pygments_lexer": "ipython3",
   "version": "3.7.9"
  },
  "toc": {
   "base_numbering": 1,
   "nav_menu": {},
   "number_sections": true,
   "sideBar": true,
   "skip_h1_title": false,
   "title_cell": "Table of Contents",
   "title_sidebar": "Contents",
   "toc_cell": false,
   "toc_position": {},
   "toc_section_display": true,
   "toc_window_display": false
  }
 },
 "nbformat": 4,
 "nbformat_minor": 4
}
